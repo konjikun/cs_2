{
 "cells": [
  {
   "cell_type": "markdown",
   "id": "66b3aef3-5479-4fbe-acaf-bf8ff8acde6b",
   "metadata": {},
   "source": [
    "## 1-1-1 JupyterLabの練習\n",
    "JupyterLabでPythonの復習をしましょう。"
   ]
  },
  {
   "cell_type": "code",
   "execution_count": 13,
   "id": "fb12e2d5-3b54-4043-a947-1e8018c69176",
   "metadata": {},
   "outputs": [
    {
     "name": "stdout",
     "output_type": "stream",
     "text": [
      "INIADINIADINIAD\n"
     ]
    }
   ],
   "source": [
    "S = 'INIAD'\n",
    "print(S * 3 )"
   ]
  },
  {
   "cell_type": "markdown",
   "id": "a32ac4eb-3e12-4701-9ff7-8546192812da",
   "metadata": {
    "tags": []
   },
   "source": [
    "##  1-1-2 Matpotlib"
   ]
  },
  {
   "cell_type": "code",
   "execution_count": 17,
   "id": "6d9e06ea-daca-44d9-9e3b-21a6a62fa2c2",
   "metadata": {},
   "outputs": [
    {
     "ename": "SyntaxError",
     "evalue": "cannot use starred expression here (895444398.py, line 6)",
     "output_type": "error",
     "traceback": [
      "\u001b[1;36m  Cell \u001b[1;32mIn [17], line 6\u001b[1;36m\u001b[0m\n\u001b[1;33m    return (*triple)\u001b[0m\n\u001b[1;37m            ^\u001b[0m\n\u001b[1;31mSyntaxError\u001b[0m\u001b[1;31m:\u001b[0m cannot use starred expression here\n"
     ]
    }
   ],
   "source": [
    "triple =[]\n",
    "def count3(xs):\n",
    "    for i in xs:\n",
    "        if i % 3 == 0 :\n",
    "            triple.append(i)\n",
    "    return (*triple)\n",
    "print(count3([3,2]))\n",
    "            "
   ]
  },
  {
   "cell_type": "code",
   "execution_count": 6,
   "id": "45976e7e-e2dc-467f-949e-d9c5f28aa0cf",
   "metadata": {},
   "outputs": [
    {
     "ename": "SyntaxError",
     "evalue": "incomplete input (3778287047.py, line 4)",
     "output_type": "error",
     "traceback": [
      "\u001b[1;36m  Cell \u001b[1;32mIn [6], line 4\u001b[1;36m\u001b[0m\n\u001b[1;33m    print(sentence(['a','i','u']\u001b[0m\n\u001b[1;37m                                ^\u001b[0m\n\u001b[1;31mSyntaxError\u001b[0m\u001b[1;31m:\u001b[0m incomplete input\n"
     ]
    }
   ],
   "source": [
    "def sentence(words):\n",
    "        result= [' ' + i for i in words]\n",
    "        return (result)\n",
    "print(sentence(['a','i','u']"
   ]
  }
 ],
 "metadata": {
  "kernelspec": {
   "display_name": "Python 3 (ipykernel)",
   "language": "python",
   "name": "python3"
  },
  "language_info": {
   "codemirror_mode": {
    "name": "ipython",
    "version": 3
   },
   "file_extension": ".py",
   "mimetype": "text/x-python",
   "name": "python",
   "nbconvert_exporter": "python",
   "pygments_lexer": "ipython3",
   "version": "3.10.6"
  }
 },
 "nbformat": 4,
 "nbformat_minor": 5
}
