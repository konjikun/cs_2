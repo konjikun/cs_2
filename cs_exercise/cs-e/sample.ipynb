{
 "cells": [
  {
   "cell_type": "code",
   "execution_count": 1,
   "id": "2eb72edf-d58d-4d5d-aae3-09dc50d3191e",
   "metadata": {},
   "outputs": [
    {
     "ename": "SyntaxError",
     "evalue": "unterminated string literal (detected at line 1) (1926936859.py, line 1)",
     "output_type": "error",
     "traceback": [
      "\u001b[1;36m  Cell \u001b[1;32mIn [1], line 1\u001b[1;36m\u001b[0m\n\u001b[1;33m    print(\"hello,world)\u001b[0m\n\u001b[1;37m          ^\u001b[0m\n\u001b[1;31mSyntaxError\u001b[0m\u001b[1;31m:\u001b[0m unterminated string literal (detected at line 1)\n"
     ]
    }
   ],
   "source": [
    "print(\"hello,world)"
   ]
  },
  {
   "cell_type": "code",
   "execution_count": 2,
   "id": "97642f1a-3460-498a-ab1b-1529f7a43519",
   "metadata": {},
   "outputs": [
    {
     "name": "stdout",
     "output_type": "stream",
     "text": [
      "hello,world\n"
     ]
    }
   ],
   "source": [
    "print(\"hello,world\")"
   ]
  },
  {
   "cell_type": "code",
   "execution_count": null,
   "id": "5ecba3f1-cd51-4c2d-bb65-e887513428b4",
   "metadata": {},
   "outputs": [],
   "source": [
    "testval = 1000\n",
    "def my_sigma(x):\n",
    "    ans = 0\n",
    "    for i in range(x):\n",
    "        ans += i+1\n",
    "        return ans"
   ]
  },
  {
   "cell_type": "code",
   "execution_count": 7,
   "id": "80a068b5-b93a-4b15-ad21-e8ea14af373c",
   "metadata": {},
   "outputs": [
    {
     "name": "stdout",
     "output_type": "stream",
     "text": [
      "1\n",
      "1001\n"
     ]
    }
   ],
   "source": [
    "print(my_sigma(9))\n",
    "testval += 1\n",
    "print(testval)"
   ]
  },
  {
   "cell_type": "code",
   "execution_count": 1,
   "id": "9354000f-bff2-43b9-9132-1287767b94f1",
   "metadata": {},
   "outputs": [],
   "source": [
    "import matplotlib.pyplot as plt\n",
    "import math"
   ]
  },
  {
   "cell_type": "code",
   "execution_count": 2,
   "id": "1bd68baf-d26b-45d9-a40d-6938916ff2f5",
   "metadata": {},
   "outputs": [
    {
     "ename": "NameError",
     "evalue": "name 'a' is not defined",
     "output_type": "error",
     "traceback": [
      "\u001b[1;31m------------------------------------------------------------------\u001b[0m",
      "\u001b[1;31mNameError\u001b[0m                        Traceback (most recent call last)",
      "Cell \u001b[1;32mIn [2], line 5\u001b[0m\n\u001b[0;32m      2\u001b[0m xs\u001b[38;5;241m=\u001b[39m[]\n\u001b[0;32m      4\u001b[0m \u001b[38;5;28;01mfor\u001b[39;00m i \u001b[38;5;129;01min\u001b[39;00m \u001b[38;5;28mrange\u001b[39m(\u001b[38;5;241m21\u001b[39m):\n\u001b[1;32m----> 5\u001b[0m     a \u001b[38;5;241m=\u001b[39m (\u001b[43ma\u001b[49m\u001b[38;5;241m+\u001b[39m(a\u001b[38;5;241m/\u001b[39m\u001b[38;5;241m100\u001b[39m\u001b[38;5;241m*\u001b[39m\u001b[38;5;241m3\u001b[39m))\n\u001b[0;32m      6\u001b[0m     b \u001b[38;5;241m=\u001b[39m (b\u001b[38;5;241m+\u001b[39m(\u001b[38;5;241m10000\u001b[39m\u001b[38;5;241m/\u001b[39m\u001b[38;5;241m100\u001b[39m\u001b[38;5;241m*\u001b[39m\u001b[38;5;241m3\u001b[39m))\n\u001b[0;32m      7\u001b[0m     xs\u001b[38;5;241m.\u001b[39mappend(i)\n",
      "\u001b[1;31mNameError\u001b[0m: name 'a' is not defined"
     ]
    }
   ],
   "source": [
    "ys=[]\n",
    "xs=[]\n",
    "for i in range(10):\n",
    "    \n",
    "\n",
    "plt.plot(xs,ys, label='Simple')\n",
    "plt.xlabel('Year')\n",
    "plt.ylabel('Amount')\n",
    "plt.legend()\n",
    "\n",
    "plt.plot(xs, ys)\n",
    "plt.show()"
   ]
  },
  {
   "cell_type": "code",
   "execution_count": 3,
   "id": "f23f57f8-6ca2-4679-b9d7-6f81a9229576",
   "metadata": {},
   "outputs": [
    {
     "data": {
      "text/plain": [
       "1.5849625007211563"
      ]
     },
     "execution_count": 3,
     "metadata": {},
     "output_type": "execute_result"
    }
   ],
   "source": [
    "-math.log2(1/3)\n"
   ]
  },
  {
   "cell_type": "code",
   "execution_count": 4,
   "id": "49978be4-e89d-47eb-be7f-b052cb64ff7c",
   "metadata": {},
   "outputs": [
    {
     "name": "stdout",
     "output_type": "stream",
     "text": [
      "0.5849625007211563 13.287712379549449\n"
     ]
    }
   ],
   "source": [
    "yuki = -math.log2(1/10000)\n",
    "hare = -math.log2(2/3)\n",
    "print(hare,yuki)"
   ]
  },
  {
   "cell_type": "code",
   "execution_count": 8,
   "id": "6bfc86f7-1aa5-4293-a6ce-d0b61e3633c6",
   "metadata": {},
   "outputs": [
    {
     "ename": "SyntaxError",
     "evalue": "invalid syntax (1636942005.py, line 1)",
     "output_type": "error",
     "traceback": [
      "\u001b[1;36m  Cell \u001b[1;32mIn [8], line 1\u001b[1;36m\u001b[0m\n\u001b[1;33m    h = -3/4 * math.log2(3/4)-1/4 math.log2(1/4)\u001b[0m\n\u001b[1;37m                                  ^\u001b[0m\n\u001b[1;31mSyntaxError\u001b[0m\u001b[1;31m:\u001b[0m invalid syntax\n"
     ]
    }
   ],
   "source": [
    "h = -3/4 * math.log2(3/4)-1/4 math.log2(1/4)\n",
    "print(h)"
   ]
  },
  {
   "cell_type": "code",
   "execution_count": null,
   "id": "6088b990-4200-4e85-9eaa-62004f6d8e50",
   "metadata": {},
   "outputs": [],
   "source": []
  }
 ],
 "metadata": {
  "kernelspec": {
   "display_name": "Python 3 (ipykernel)",
   "language": "python",
   "name": "python3"
  },
  "language_info": {
   "codemirror_mode": {
    "name": "ipython",
    "version": 3
   },
   "file_extension": ".py",
   "mimetype": "text/x-python",
   "name": "python",
   "nbconvert_exporter": "python",
   "pygments_lexer": "ipython3",
   "version": "3.9.13"
  }
 },
 "nbformat": 4,
 "nbformat_minor": 5
}
