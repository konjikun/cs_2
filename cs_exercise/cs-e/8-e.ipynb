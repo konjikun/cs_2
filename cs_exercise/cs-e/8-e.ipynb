{
 "cells": [
  {
   "cell_type": "markdown",
   "metadata": {},
   "source": [
    "### 4"
   ]
  },
  {
   "cell_type": "code",
   "execution_count": 3,
   "metadata": {},
   "outputs": [
    {
     "name": "stdout",
     "output_type": "stream",
     "text": [
      "56\n"
     ]
    }
   ],
   "source": [
    "result =0\n",
    "for i in \"GGCC,G,G,G,C,G,C,G,G,T,G,G,C,T,C,A,C,G,C,C,T,G,T,A,A,T,C\":\n",
    "    if i =='G':\n",
    "        result+=1\n",
    "    elif i=='C':\n",
    "        result+=2\n",
    "    elif i==',':\n",
    "        result+=0\n",
    "    else:\n",
    "        result+=3\n",
    "print(result)\n",
    "    "
   ]
  },
  {
   "cell_type": "markdown",
   "metadata": {},
   "source": [
    "### 1"
   ]
  },
  {
   "cell_type": "code",
   "execution_count": 5,
   "metadata": {},
   "outputs": [
    {
     "name": "stdout",
     "output_type": "stream",
     "text": [
      "0.921593898546994\n"
     ]
    }
   ],
   "source": [
    "import math\n",
    "H = -2*math.log(3/7)*3/7-1/7*math.log(1/7)*1/7 -3/7*math.log(3/7)*3/7\n",
    "print(H)"
   ]
  },
  {
   "cell_type": "markdown",
   "metadata": {},
   "source": [
    "### 2"
   ]
  },
  {
   "cell_type": "code",
   "execution_count": 15,
   "metadata": {},
   "outputs": [
    {
     "name": "stdout",
     "output_type": "stream",
     "text": [
      "28.31616673893365\n"
     ]
    }
   ],
   "source": [
    "a = math.log(1000)*1000\n",
    "b = math.log(2500)*2500\n",
    "print((b/a)*10)"
   ]
  },
  {
   "cell_type": "markdown",
   "metadata": {},
   "source": []
  }
 ],
 "metadata": {
  "kernelspec": {
   "display_name": "Python 3.9.13 ('cs_2')",
   "language": "python",
   "name": "python3"
  },
  "language_info": {
   "codemirror_mode": {
    "name": "ipython",
    "version": 3
   },
   "file_extension": ".py",
   "mimetype": "text/x-python",
   "name": "python",
   "nbconvert_exporter": "python",
   "pygments_lexer": "ipython3",
   "version": "3.9.13"
  },
  "orig_nbformat": 4,
  "vscode": {
   "interpreter": {
    "hash": "0dd2d40e15f580621b6077d5177c87a5ce5905ce5ba327b2a74590478348e863"
   }
  }
 },
 "nbformat": 4,
 "nbformat_minor": 2
}
