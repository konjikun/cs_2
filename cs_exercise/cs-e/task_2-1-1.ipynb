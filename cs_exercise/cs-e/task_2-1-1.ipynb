{
 "cells": [
  {
   "cell_type": "code",
   "execution_count": null,
   "id": "11088056-5d3f-4ab6-85e8-e890d5531362",
   "metadata": {
    "tags": []
   },
   "outputs": [],
   "source": [
    "import  matplotlib.pyplot as plt\n",
    "import math\n",
    "import random\n",
    "import time\n",
    "y1=[]\n",
    "y=[]\n",
    "x=[]\n",
    "x1=[]\n",
    "ysen =[]\n",
    "ynibu=[]\n",
    "print(1)\n",
    "\n",
    "for i in range(1,10000):\n",
    "    x.append(i)\n",
    "    x1.append(i)\n",
    "    goal = random.randint(0,10000)\n",
    "    for s in range (i):\n",
    "        x.append(s)\n",
    "        y.append(random.randint(0,10000))\n",
    "    senstart = time.time()\n",
    "    for a in y:\n",
    "        if a == goal:\n",
    "            senend = time.time()\n",
    "            ysen.append(senend -senstart)\n",
    "            break\n",
    "    senend=time.time()\n",
    "    if goal not in y:\n",
    "        ysen.append(senend -senstart)\n",
    "    \n",
    "\n",
    "    s=0\n",
    "    e =len(y)-1\n",
    "    ts=time.time()\n",
    "    for a in range(10000):\n",
    "        c=len(y)//2\n",
    "        print(y)\n",
    "        if goal == y[c]:\n",
    "            te=time.time()\n",
    "            ynibu.append(te-ts)\n",
    "            break\n",
    "        elif goal > y[c]:\n",
    "            s=c+1\n",
    "        else:\n",
    "            e=c\n",
    "\n",
    "print(x)\n",
    "print(y)\n",
    "plt.xlabel('x')\n",
    "plt.ylabel('y')\n",
    "plt.plot(x,ysen)\n",
    "plt.plot(x1,ynibu)\n",
    "plt.legend()\n",
    "plt.show()\n",
    "\n"
   ]
  },
  {
   "cell_type": "code",
   "execution_count": null,
   "id": "eed240f7-ae7e-4e46-a9a1-496940dbed11",
   "metadata": {},
   "outputs": [],
   "source": []
  }
 ],
 "metadata": {
  "kernelspec": {
   "display_name": "Python 3 (ipykernel)",
   "language": "python",
   "name": "python3"
  },
  "language_info": {
   "codemirror_mode": {
    "name": "ipython",
    "version": 3
   },
   "file_extension": ".py",
   "mimetype": "text/x-python",
   "name": "python",
   "nbconvert_exporter": "python",
   "pygments_lexer": "ipython3",
   "version": "3.9.13"
  }
 },
 "nbformat": 4,
 "nbformat_minor": 5
}
