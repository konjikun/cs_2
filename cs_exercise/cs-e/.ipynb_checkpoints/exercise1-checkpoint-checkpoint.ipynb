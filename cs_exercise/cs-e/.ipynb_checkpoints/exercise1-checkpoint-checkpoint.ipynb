{
 "cells": [
  {
   "cell_type": "markdown",
   "id": "15233793-8fe2-4aeb-ba82-9c3f0cd38ef6",
   "metadata": {},
   "source": [
    "#課題１"
   ]
  },
  {
   "cell_type": "markdown",
   "id": "b104eb0c-aa90-441a-bc5c-d59b459c1386",
   "metadata": {},
   "source": [
    "- matplotlibをimportします\n",
    "- matplotlibのバージョンを出力します"
   ]
  },
  {
   "cell_type": "code",
   "execution_count": 2,
   "id": "7f6aefc7-b928-4ea7-a4dd-9c714d8c45fe",
   "metadata": {},
   "outputs": [],
   "source": [
    "import matplotlib"
   ]
  },
  {
   "cell_type": "raw",
   "id": "4b86c233-48f6-4a3d-b030-6cea0d5c0ec3",
   "metadata": {},
   "source": [
    "print(matplotlib._version_)"
   ]
  },
  {
   "cell_type": "code",
   "execution_count": 4,
   "id": "080a7670-9cd2-4cfa-98b4-7d0dec88b2bd",
   "metadata": {},
   "outputs": [],
   "source": [
    "import matplotlib"
   ]
  },
  {
   "cell_type": "code",
   "execution_count": 6,
   "id": "d69bb482-cc86-4c80-8878-0993cc94f829",
   "metadata": {},
   "outputs": [
    {
     "name": "stdout",
     "output_type": "stream",
     "text": [
      "3.6.0\n"
     ]
    }
   ],
   "source": [
    "print(matplotlib.__version__)"
   ]
  },
  {
   "cell_type": "code",
   "execution_count": 10,
   "id": "ded560a2-c8f9-44e1-bade-d1585a9a606a",
   "metadata": {},
   "outputs": [
    {
     "ename": "SyntaxError",
     "evalue": "unterminated string literal (detected at line 13) (3715881502.py, line 13)",
     "output_type": "error",
     "traceback": [
      "\u001b[1;36m  Cell \u001b[1;32mIn [10], line 13\u001b[1;36m\u001b[0m\n\u001b[1;33m    return 'あなたは？ (0:グー、1:チョキ、2:パー) + str(result2)\u001b[0m\n\u001b[1;37m           ^\u001b[0m\n\u001b[1;31mSyntaxError\u001b[0m\u001b[1;31m:\u001b[0m unterminated string literal (detected at line 13)\n"
     ]
    }
   ],
   "source": [
    "import random\n",
    "def janken():\n",
    "    While True:\n",
    "        enemy = input()\n",
    "        if enemy != 0 or enemy != 1 or enemy != 2:\n",
    "            continue\n",
    "        break\n",
    "    cp=random.randint(0,2)\n",
    "    if cp == enemy:\n",
    "        result = cp\n",
    "        result2= 'あいこ'\n",
    "    elif \n",
    "    return 'あなたは？ (0:グー、1:チョキ、2:パー) + str(result2)\n",
    "janken()\n",
    "\n"
   ]
  },
  {
   "cell_type": "code",
   "execution_count": null,
   "id": "d4f16f15-e277-43ad-966a-ed970c536c02",
   "metadata": {},
   "outputs": [],
   "source": []
  }
 ],
 "metadata": {
  "kernelspec": {
   "display_name": "Python 3 (ipykernel)",
   "language": "python",
   "name": "python3"
  },
  "language_info": {
   "codemirror_mode": {
    "name": "ipython",
    "version": 3
   },
   "file_extension": ".py",
   "mimetype": "text/x-python",
   "name": "python",
   "nbconvert_exporter": "python",
   "pygments_lexer": "ipython3",
   "version": "3.9.13"
  }
 },
 "nbformat": 4,
 "nbformat_minor": 5
}
