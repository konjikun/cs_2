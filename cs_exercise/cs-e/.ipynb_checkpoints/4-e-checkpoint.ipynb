{
 "cells": [
  {
   "cell_type": "code",
   "execution_count": 4,
   "id": "de9124da-32f6-4f70-894d-beaf84a86a20",
   "metadata": {},
   "outputs": [],
   "source": [
    "def simple_qsort(lst):\n",
    "    global n\n",
    "    n += 1\n",
    "    if len(lst) <= 1:\n",
    "        return lst\n",
    "    pivot = lst[0]\n",
    "    \n",
    "    lst1 = [x for x in lst if x < pivot]\n",
    "    lst2 = [x for x in lst if x == pivot]\n",
    "    lst3 = [x for x in lst if x > pivot]\n",
    "    \n",
    "    return simple_qsort(lst1) + lst2 + simple_qsort(lst3)"
   ]
  },
  {
   "cell_type": "code",
   "execution_count": 5,
   "id": "7884e631-85ae-4fca-871d-09308d69be5e",
   "metadata": {},
   "outputs": [
    {
     "name": "stdout",
     "output_type": "stream",
     "text": [
      "13\n"
     ]
    }
   ],
   "source": [
    "n = 0\n",
    "simple_qsort([10,9,8,7,6,5,4,3,2,1])\n",
    "print(n)"
   ]
  },
  {
   "cell_type": "code",
   "execution_count": null,
   "id": "b32f1477-a9d3-41a8-a85e-60d2547d3fc3",
   "metadata": {},
   "outputs": [],
   "source": []
  }
 ],
 "metadata": {
  "kernelspec": {
   "display_name": "Python 3 (ipykernel)",
   "language": "python",
   "name": "python3"
  },
  "language_info": {
   "codemirror_mode": {
    "name": "ipython",
    "version": 3
   },
   "file_extension": ".py",
   "mimetype": "text/x-python",
   "name": "python",
   "nbconvert_exporter": "python",
   "pygments_lexer": "ipython3",
   "version": "3.9.13"
  }
 },
 "nbformat": 4,
 "nbformat_minor": 5
}
