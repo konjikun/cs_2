{
 "cells": [
  {
   "cell_type": "code",
   "execution_count": null,
   "id": "2990afdc-0dd8-4873-8395-3c9b73bf0117",
   "metadata": {},
   "outputs": [],
   "source": [
    "def insertionsort_shift( aList ):\n",
    "    for right in range( 1, len( aList ) ):\n",
    "        key = aList[right]\n",
    "        left = right\n",
    "        while left > 0 and key < aList[left - 1]:\n",
    "            aList[left] = aList[left - 1]\n",
    "            left -= 1\n",
    "        aList[left] = key\n",
    "    return aList\n",
    "\n",
    "def insertionsort_swap( aList ):\n",
    "    for right in range( 1, len( aList ) ):\n",
    "        left = right\n",
    "        while left > 0 and aList[left] < aList[left - 1]:\n",
    "            aList[left - 1], aList[left] = aList[left], aList[left - 1]\n",
    "            left -= 1\n",
    "    return aList\n",
    "\n",
    "\n",
    "if __name__ == '__main__':\n",
    "    from random import shuffle\n",
    "    l = range(15)\n",
    "    lcopy = l[:]\n",
    "    shuffle(l)\n",
    "    print('Unsorted')\n",
    "    print l\n",
    "    assert l != lcopy\n",
    "    print ('Sorted')\n",
    "    print insertionsort_shift(l)\n",
    "    assert l == lcopy"
   ]
  },
  {
   "cell_type": "markdown",
   "id": "4caae6ee-33b7-470b-83d5-951489aa1409",
   "metadata": {},
   "source": [
    "### 挿入ソート"
   ]
  },
  {
   "cell_type": "code",
   "execution_count": 17,
   "id": "438fe3d7-b12c-4a11-9890-279d25d07ad3",
   "metadata": {},
   "outputs": [
    {
     "name": "stdout",
     "output_type": "stream",
     "text": [
      "Before sort: [8, 2, 8, 1, 11]\n",
      "After sort: [1, 2, 8, 8, 11]\n"
     ]
    }
   ],
   "source": [
    "def insertion_sort(xs):\n",
    "    for i in range(1,len(xs)):\n",
    "        j =0\n",
    "        tmp =i\n",
    "        while xs[j] < xs[i] and j < i:\n",
    "            j+=1\n",
    "        ins = xs.pop(i)\n",
    "        xs.insert(j,ins)\n",
    "    return xs\n",
    "\n",
    "b = [8,2,8,1,11]\n",
    "print(\"Before sort:\", b)\n",
    "insertion_sort(b)\n",
    "print(\"After sort:\",b)"
   ]
  },
  {
   "cell_type": "markdown",
   "id": "65a672cd-fee4-449b-bb38-a11f4089bf15",
   "metadata": {},
   "source": [
    "### 挿入ソートの答え"
   ]
  },
  {
   "cell_type": "code",
   "execution_count": 21,
   "id": "bbaa0805-2fc3-4346-9b72-67ccc0ff90d5",
   "metadata": {},
   "outputs": [],
   "source": [
    "def insertion_sort2(data):\n",
    "    length = len(data)\n",
    "    for index in range(1, length):\n",
    "        current_val = data[index]\n",
    "        prev_index = index - 1\n",
    "\n",
    "        while prev_index >= 0 and data[prev_index] > current_val:\n",
    "            data[prev_index + 1] = data[prev_index]\n",
    "            prev_index = prev_index - 1\n",
    "\n",
    "        data[prev_index + 1] = current_val\n",
    "    return data"
   ]
  },
  {
   "cell_type": "code",
   "execution_count": 22,
   "id": "6d448a03-66c0-455a-abaf-c6abb218d7c4",
   "metadata": {},
   "outputs": [
    {
     "name": "stdout",
     "output_type": "stream",
     "text": [
      "[1, 2, 8, 8, 11]\n"
     ]
    }
   ],
   "source": [
    "(insertion_sort2(b))"
   ]
  },
  {
   "cell_type": "code",
   "execution_count": null,
   "id": "61ea5e39-0afa-4b68-b4a4-74521fc8fece",
   "metadata": {},
   "outputs": [],
   "source": []
  }
 ],
 "metadata": {
  "kernelspec": {
   "display_name": "Python 3 (ipykernel)",
   "language": "python",
   "name": "python3"
  },
  "language_info": {
   "codemirror_mode": {
    "name": "ipython",
    "version": 3
   },
   "file_extension": ".py",
   "mimetype": "text/x-python",
   "name": "python",
   "nbconvert_exporter": "python",
   "pygments_lexer": "ipython3",
   "version": "3.9.13"
  }
 },
 "nbformat": 4,
 "nbformat_minor": 5
}
