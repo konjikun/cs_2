{
 "cells": [
  {
   "cell_type": "code",
   "execution_count": null,
   "id": "2990afdc-0dd8-4873-8395-3c9b73bf0117",
   "metadata": {},
   "outputs": [],
   "source": [
    "def insertionsort_shift( aList ):\n",
    "    for right in range( 1, len( aList ) ):\n",
    "        key = aList[right]\n",
    "        left = right\n",
    "        while left > 0 and key < aList[left - 1]:\n",
    "            aList[left] = aList[left - 1]\n",
    "            left -= 1\n",
    "        aList[left] = key\n",
    "    return aList\n",
    "\n",
    "def insertionsort_swap( aList ):\n",
    "    for right in range( 1, len( aList ) ):\n",
    "        left = right\n",
    "        while left > 0 and aList[left] < aList[left - 1]:\n",
    "            aList[left - 1], aList[left] = aList[left], aList[left - 1]\n",
    "            left -= 1\n",
    "    return aList\n",
    "\n",
    "\n",
    "if __name__ == '__main__':\n",
    "    from random import shuffle\n",
    "    l = range(15)\n",
    "    lcopy = l[:]\n",
    "    shuffle(l)\n",
    "    print('Unsorted')\n",
    "    print l\n",
    "    assert l != lcopy\n",
    "    print ('Sorted')\n",
    "    print insertionsort_shift(l)\n",
    "    assert l == lcopy"
   ]
  }
 ],
 "metadata": {
  "kernelspec": {
   "display_name": "Python 3 (ipykernel)",
   "language": "python",
   "name": "python3"
  },
  "language_info": {
   "codemirror_mode": {
    "name": "ipython",
    "version": 3
   },
   "file_extension": ".py",
   "mimetype": "text/x-python",
   "name": "python",
   "nbconvert_exporter": "python",
   "pygments_lexer": "ipython3",
   "version": "3.9.13"
  }
 },
 "nbformat": 4,
 "nbformat_minor": 5
}
