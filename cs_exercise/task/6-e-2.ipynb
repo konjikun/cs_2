{
 "cells": [
  {
   "cell_type": "code",
   "execution_count": 20,
   "id": "b8fb2d87-cf6d-4683-888f-9ce18ea6f610",
   "metadata": {},
   "outputs": [
    {
     "ename": "TypeError",
     "evalue": "__init__() takes 2 positional arguments but 4 were given",
     "output_type": "error",
     "traceback": [
      "\u001b[1;31m---------------------------------------------------------------------------\u001b[0m",
      "\u001b[1;31mTypeError\u001b[0m                                 Traceback (most recent call last)",
      "Input \u001b[1;32mIn [20]\u001b[0m, in \u001b[0;36m<cell line: 38>\u001b[1;34m()\u001b[0m\n\u001b[0;32m     36\u001b[0m             stack\u001b[38;5;241m.\u001b[39mappendleft(node\u001b[38;5;241m.\u001b[39mvalue)\n\u001b[0;32m     37\u001b[0m \u001b[38;5;66;03m#(*(+(-93)1)6)==((9-3)+1)*6 ==42\u001b[39;00m\n\u001b[1;32m---> 38\u001b[0m tree \u001b[38;5;241m=\u001b[39m Node(\u001b[38;5;124m'\u001b[39m\u001b[38;5;124m*\u001b[39m\u001b[38;5;124m'\u001b[39m,Node(\u001b[38;5;124m'\u001b[39m\u001b[38;5;124m+\u001b[39m\u001b[38;5;124m'\u001b[39m, \u001b[43mNode\u001b[49m\u001b[43m(\u001b[49m\u001b[38;5;124;43m'\u001b[39;49m\u001b[38;5;124;43m-\u001b[39;49m\u001b[38;5;124;43m'\u001b[39;49m\u001b[43m,\u001b[49m\u001b[43mNode\u001b[49m\u001b[43m(\u001b[49m\u001b[38;5;241;43m9\u001b[39;49m\u001b[43m)\u001b[49m\u001b[43m,\u001b[49m\u001b[43mNode\u001b[49m\u001b[43m(\u001b[49m\u001b[38;5;241;43m3\u001b[39;49m\u001b[43m)\u001b[49m\u001b[43m)\u001b[49m, Node(\u001b[38;5;241m1\u001b[39m)),Node(\u001b[38;5;241m6\u001b[39m))\n\u001b[0;32m     39\u001b[0m \u001b[38;5;66;03m#(/(*56)(-74))\u001b[39;00m\n\u001b[0;32m     40\u001b[0m tree2 \u001b[38;5;241m=\u001b[39m Node(\u001b[38;5;124m'\u001b[39m\u001b[38;5;124m/\u001b[39m\u001b[38;5;124m'\u001b[39m, Node(\u001b[38;5;124m'\u001b[39m\u001b[38;5;124m*\u001b[39m\u001b[38;5;124m'\u001b[39m, Node(\u001b[38;5;241m5\u001b[39m),Node(\u001b[38;5;241m6\u001b[39m)), Node(\u001b[38;5;124m'\u001b[39m\u001b[38;5;124m-\u001b[39m\u001b[38;5;124m'\u001b[39m, Node(\u001b[38;5;241m7\u001b[39m),Node(\u001b[38;5;241m4\u001b[39m)))\n",
      "\u001b[1;31mTypeError\u001b[0m: __init__() takes 2 positional arguments but 4 were given"
     ]
    }
   ],
   "source": [
    "class Node:\n",
    "    def __init__(self, value):\n",
    "        self.value = value\n",
    "        self.left = None\n",
    "        self.right = None\n",
    "\n",
    "    def __str__(self):\n",
    "        return str(self.value)\n",
    "    def conpute(node, stack):\n",
    "        if node.left != None:\n",
    "            conpute(node.left,stack)\n",
    "        if node.right != None:\n",
    "            conpute(node.right,stack)\n",
    "#stackを使って計算\n",
    "        if node.value == '+':\n",
    "            pl1 = stack.popleft()\n",
    "            pl2 = stack.popleft()\n",
    "            pla = pl2 + pll\n",
    "            stack.appendleft(pla)\n",
    "        elif node.value =='-' :\n",
    "            mi1 = stack.popleft()\n",
    "            mi2 = stack.popleft()\n",
    "            mia = mi2 - mi1\n",
    "            stack.appendleft(mia)\n",
    "        elif node.value =='*' :\n",
    "            mu1 = stack.popleft()\n",
    "            mu2 = stack.popleft()\n",
    "            mua = mu2 * mu1\n",
    "            stack.appendleft(mua)\n",
    "        elif node.value =='/' :\n",
    "            di1 = stack.popleft()\n",
    "            di2 = stack.popleft()\n",
    "            dia = di2 / dil\n",
    "            stack.appendleft(dia)\n",
    "        else:\n",
    "            stack.appendleft(node.value)\n",
    "#(*(+(-93)1)6)==((9-3)+1)*6 ==42\n",
    "tree = Node('*',Node('+', Node('-',Node(9),Node(3)), Node(1)),Node(6))\n",
    "#(/(*56)(-74))\n",
    "tree2 = Node('/', Node('*', Node(5),Node(6)), Node('-', Node(7),Node(4)))\n",
    "        "
   ]
  },
  {
   "cell_type": "code",
   "execution_count": 21,
   "id": "aa6a45ba-ffb1-4f5a-981d-5ad0315aae31",
   "metadata": {},
   "outputs": [
    {
     "ename": "TypeError",
     "evalue": "__init__() takes 2 positional arguments but 4 were given",
     "output_type": "error",
     "traceback": [
      "\u001b[1;31m---------------------------------------------------------------------------\u001b[0m",
      "\u001b[1;31mTypeError\u001b[0m                                 Traceback (most recent call last)",
      "Input \u001b[1;32mIn [21]\u001b[0m, in \u001b[0;36m<cell line: 1>\u001b[1;34m()\u001b[0m\n\u001b[1;32m----> 1\u001b[0m tree \u001b[38;5;241m=\u001b[39m Node(\u001b[38;5;124m'\u001b[39m\u001b[38;5;124m*\u001b[39m\u001b[38;5;124m'\u001b[39m, Node(\u001b[38;5;124m'\u001b[39m\u001b[38;5;124m+\u001b[39m\u001b[38;5;124m'\u001b[39m, \u001b[43mNode\u001b[49m\u001b[43m(\u001b[49m\u001b[38;5;124;43m'\u001b[39;49m\u001b[38;5;124;43m-\u001b[39;49m\u001b[38;5;124;43m'\u001b[39;49m\u001b[43m,\u001b[49m\u001b[43m \u001b[49m\u001b[43mNode\u001b[49m\u001b[43m(\u001b[49m\u001b[38;5;241;43m9\u001b[39;49m\u001b[43m)\u001b[49m\u001b[43m,\u001b[49m\u001b[43mNode\u001b[49m\u001b[43m(\u001b[49m\u001b[38;5;241;43m3\u001b[39;49m\u001b[43m)\u001b[49m\u001b[43m)\u001b[49m,Node(\u001b[38;5;241m1\u001b[39m)),Node(\u001b[38;5;241m6\u001b[39m))\n\u001b[0;32m      3\u001b[0m \u001b[38;5;28;01mfrom\u001b[39;00m \u001b[38;5;21;01mcollections\u001b[39;00m \u001b[38;5;28;01mimport\u001b[39;00m deque\n\u001b[0;32m      4\u001b[0m stack \u001b[38;5;241m=\u001b[39m deque()\n",
      "\u001b[1;31mTypeError\u001b[0m: __init__() takes 2 positional arguments but 4 were given"
     ]
    }
   ],
   "source": [
    "tree = Node('*', Node('+', Node('-', Node(9),Node(3)),Node(1)),Node(6))\n",
    "\n",
    "from collections import deque\n",
    "stack = deque()\n",
    "compute(tree, stack)\n",
    "print(stack[0])\n"
   ]
  },
  {
   "cell_type": "code",
   "execution_count": null,
   "id": "0a1a169b-8224-450a-a6fe-92933a8ee74c",
   "metadata": {},
   "outputs": [],
   "source": []
  }
 ],
 "metadata": {
  "kernelspec": {
   "display_name": "Python 3 (ipykernel)",
   "language": "python",
   "name": "python3"
  },
  "language_info": {
   "codemirror_mode": {
    "name": "ipython",
    "version": 3
   },
   "file_extension": ".py",
   "mimetype": "text/x-python",
   "name": "python",
   "nbconvert_exporter": "python",
   "pygments_lexer": "ipython3",
   "version": "3.9.13"
  }
 },
 "nbformat": 4,
 "nbformat_minor": 5
}
