{
 "cells": [
  {
   "cell_type": "code",
   "execution_count": 14,
   "id": "bd68eeec-b82c-4516-837f-f5211d742894",
   "metadata": {},
   "outputs": [],
   "source": [
    "from collections import deque\n",
    "attractions = [deque(), deque(), deque()]\n",
    "next_pool = deque()\n",
    "goal = deque()"
   ]
  },
  {
   "cell_type": "code",
   "execution_count": 15,
   "id": "a4d338d7-454d-4d35-b109-9cf0584a5000",
   "metadata": {},
   "outputs": [
    {
     "name": "stdout",
     "output_type": "stream",
     "text": [
      "A さんのアトラクション訪問順序 deque([0, 1, 2])\n",
      "B さんのアトラクション訪問順序 deque([1, 2, 0])\n",
      "C さんのアトラクション訪問順序 deque([2, 0, 1])\n",
      "\n"
     ]
    }
   ],
   "source": [
    "class Visitor :\n",
    "    def __init__(self, name, lst):\n",
    "        self.name = name\n",
    "        self.attr = deque(lst)\n",
    "        \n",
    "a = Visitor(\"A\", [0,1,2])\n",
    "b = Visitor(\"B\", [1,2,0])\n",
    "c = Visitor(\"C\", [2,0,1])\n",
    "\n",
    "print(a.name, \"さんのアトラクション訪問順序\", a.attr)\n",
    "print(b.name, \"さんのアトラクション訪問順序\", b.attr)\n",
    "print(c.name, \"さんのアトラクション訪問順序\", c.attr)\n",
    "print(\"\")\n",
    "\n",
    "num_of_visitors = 3\n",
    "\n",
    "next_pool.append(a)\n",
    "next_pool.append(b)\n",
    "next_pool.append(c)"
   ]
  },
  {
   "cell_type": "code",
   "execution_count": 16,
   "id": "f5a96b57-4979-4399-80e7-dc311d66a5cc",
   "metadata": {},
   "outputs": [],
   "source": [
    "def next_action(visitor):\n",
    "    if len(visitor.attr) > 0:\n",
    "        i = visitor.attr.popleft()\n",
    "        print(visitor.name, \"さんがアトラクション\", i ,\"に並びました。\")\n",
    "        attractions[i].append(visitor)\n",
    "    else:\n",
    "        print(visitor.name, \"さんがアトラクションを回り終えました。\")\n",
    "        goal.append(visitor)"
   ]
  },
  {
   "cell_type": "code",
   "execution_count": 17,
   "id": "4c0a87dd-d88a-470e-ad91-81521173f905",
   "metadata": {},
   "outputs": [
    {
     "name": "stdout",
     "output_type": "stream",
     "text": [
      "t = 0\n",
      "A さんがアトラクション 0 に並びました。\n",
      "B さんがアトラクション 1 に並びました。\n",
      "C さんがアトラクション 2 に並びました。\n",
      "\n",
      "t = 1\n",
      "A さんがアトラクション 1 に並びました。\n",
      "B さんがアトラクション 2 に並びました。\n",
      "C さんがアトラクション 0 に並びました。\n",
      "\n",
      "t = 2\n",
      "C さんがアトラクション 1 に並びました。\n",
      "A さんがアトラクション 2 に並びました。\n",
      "B さんがアトラクション 0 に並びました。\n",
      "\n",
      "t = 3\n",
      "B さんがアトラクションを回り終えました。\n",
      "C さんがアトラクションを回り終えました。\n",
      "A さんがアトラクションを回り終えました。\n",
      "\n",
      "終了時刻： 3\n"
     ]
    }
   ],
   "source": [
    "for t in range(100):\n",
    "    print(\"t =\", t)\n",
    "    for i in range(len(attractions)):\n",
    "        if len(attractions[i]) > 0:\n",
    "            v = attractions[i].popleft()\n",
    "            next_pool.append(v)\n",
    "    while len(next_pool) > 0:\n",
    "        v = next_pool.popleft()\n",
    "        next_action(v)\n",
    "    print(\"\")\n",
    "    if len(goal) >= num_of_visitors:\n",
    "        print(\"終了時刻：\", t)\n",
    "        break"
   ]
  },
  {
   "cell_type": "code",
   "execution_count": null,
   "id": "d77100dc-875d-4682-86e1-4cbddbd0ba91",
   "metadata": {},
   "outputs": [],
   "source": []
  },
  {
   "cell_type": "code",
   "execution_count": null,
   "id": "066ca9d0-c4c8-4070-9927-e03416a3b43a",
   "metadata": {},
   "outputs": [],
   "source": []
  }
 ],
 "metadata": {
  "kernelspec": {
   "display_name": "Python 3 (ipykernel)",
   "language": "python",
   "name": "python3"
  },
  "language_info": {
   "codemirror_mode": {
    "name": "ipython",
    "version": 3
   },
   "file_extension": ".py",
   "mimetype": "text/x-python",
   "name": "python",
   "nbconvert_exporter": "python",
   "pygments_lexer": "ipython3",
   "version": "3.9.13"
  }
 },
 "nbformat": 4,
 "nbformat_minor": 5
}
