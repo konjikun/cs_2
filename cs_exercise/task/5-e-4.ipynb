{
 "cells": [
  {
   "cell_type": "code",
   "execution_count": 1,
   "id": "fb34e7bc-073e-4904-ab79-fdbd1f4b7de3",
   "metadata": {},
   "outputs": [
    {
     "ename": "IndentationError",
     "evalue": "expected an indented block (4103158045.py, line 25)",
     "output_type": "error",
     "traceback": [
      "\u001b[1;36m  Input \u001b[1;32mIn [1]\u001b[1;36m\u001b[0m\n\u001b[1;33m    else:\u001b[0m\n\u001b[1;37m    ^\u001b[0m\n\u001b[1;31mIndentationError\u001b[0m\u001b[1;31m:\u001b[0m expected an indented block\n"
     ]
    }
   ],
   "source": [
    "from collections import deque\n",
    "attractions = [deque(), deque(), deque()]\n",
    "next_pool = deque()\n",
    "goal = deque()\n",
    "\n",
    "num_of_visitors = 3\n",
    "\n",
    "class Visitor:\n",
    "    def __init__(self, name, lst):\n",
    "        self.name = name\n",
    "        self.attr = lst\n",
    "\n",
    "a = Visitor(\"A\", [0,1,2])\n",
    "b = Visitor(\"B\", [0,1,2])\n",
    "c = Visitor(\"C\", [0,1,2])\n",
    "\n",
    "next_pool.append(a)\n",
    "next_pool.append(b)\n",
    "next_pool.append(c)\n",
    "\n",
    "def next_action(visitor):\n",
    "    if len(visitor.attr) > 0:\n",
    "        \n",
    "        \n",
    "    else:\n",
    "        print(visitor.name, \"さんがアトラクションを回り終えました。\")\n",
    "        goal.append(visitor)\n",
    "\n",
    "for t in range(100):\n",
    "    print(\"t =\", t)\n",
    "    for i in range(len(attractions)):\n",
    "        if len(attractions[i]) > 0:\n",
    "            v = attractions[i].popleft()\n",
    "            next_pool.append(v)\n",
    "    while len(next_pool) > 0:\n",
    "        v = next_pool.popleft()\n",
    "        next_action(v)\n",
    "    print(\"\")\n",
    "    if len(goal) >= num_of_visitors:\n",
    "        print(\"終了時刻：\", t)\n",
    "        break"
   ]
  },
  {
   "cell_type": "code",
   "execution_count": null,
   "id": "fdda8a37-7223-45c3-a4c3-24e690e8b116",
   "metadata": {},
   "outputs": [],
   "source": []
  }
 ],
 "metadata": {
  "kernelspec": {
   "display_name": "Python 3 (ipykernel)",
   "language": "python",
   "name": "python3"
  },
  "language_info": {
   "codemirror_mode": {
    "name": "ipython",
    "version": 3
   },
   "file_extension": ".py",
   "mimetype": "text/x-python",
   "name": "python",
   "nbconvert_exporter": "python",
   "pygments_lexer": "ipython3",
   "version": "3.9.13"
  }
 },
 "nbformat": 4,
 "nbformat_minor": 5
}
