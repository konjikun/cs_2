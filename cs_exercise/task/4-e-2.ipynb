{
 "cells": [
  {
   "cell_type": "code",
   "execution_count": 3,
   "id": "ec795e50-29c7-4232-b06c-278c01652341",
   "metadata": {},
   "outputs": [
    {
     "ename": "SyntaxError",
     "evalue": "invalid syntax (4248971736.py, line 28)",
     "output_type": "error",
     "traceback": [
      "\u001b[1;36m  Input \u001b[1;32mIn [3]\u001b[1;36m\u001b[0m\n\u001b[1;33m    print insertionsort_shift(l)\u001b[0m\n\u001b[1;37m          ^\u001b[0m\n\u001b[1;31mSyntaxError\u001b[0m\u001b[1;31m:\u001b[0m invalid syntax\n"
     ]
    }
   ],
   "source": [
    "def insertionsort_shift( aList ):\n",
    "    for right in range( 1, len( aList ) ):\n",
    "        key = aList[right]\n",
    "        left = right\n",
    "        while left > 0 and key < aList[left - 1]:\n",
    "            aList[left] = aList[left - 1]\n",
    "            left -= 1\n",
    "        aList[left] = key\n",
    "    return aList\n",
    "\n",
    "def insertionsort_swap( aList ):\n",
    "    for right in range( 1, len( aList ) ):\n",
    "        left = right\n",
    "        while left > 0 and aList[left] < aList[left - 1]:\n",
    "            aList[left - 1], aList[left] = aList[left], aList[left - 1]\n",
    "            left -= 1\n",
    "    return aList\n",
    "\n",
    "\n",
    "if __name__ == '__main__':\n",
    "    from random import shuffle\n",
    "    l = range(15)\n",
    "    lcopy = l[:]\n",
    "    shuffle(l)\n",
    "    print('Unsorted')\n",
    "    assert l != lcopy\n",
    "    print ('Sorted')\n",
    "    print insertionsort_shift(l)\n",
    "    assert l == lcopy"
   ]
  },
  {
   "cell_type": "markdown",
   "id": "8d518534-d1c7-439d-adc6-5e2221ebd570",
   "metadata": {},
   "source": [
    "### 選択ソート"
   ]
  },
  {
   "cell_type": "code",
   "execution_count": null,
   "id": "7829a460-2738-42b4-b3ab-c4b192c7b0f3",
   "metadata": {},
   "outputs": [],
   "source": []
  }
 ],
 "metadata": {
  "kernelspec": {
   "display_name": "Python 3 (ipykernel)",
   "language": "python",
   "name": "python3"
  },
  "language_info": {
   "codemirror_mode": {
    "name": "ipython",
    "version": 3
   },
   "file_extension": ".py",
   "mimetype": "text/x-python",
   "name": "python",
   "nbconvert_exporter": "python",
   "pygments_lexer": "ipython3",
   "version": "3.9.13"
  }
 },
 "nbformat": 4,
 "nbformat_minor": 5
}
