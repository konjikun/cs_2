{
 "cells": [
  {
   "cell_type": "code",
   "execution_count": 1,
   "id": "77cde867-9412-44f9-b171-bba4c2aa2f1b",
   "metadata": {},
   "outputs": [],
   "source": [
    "import turtle as t\n",
    "\n",
    "def koch2(length, level):\n",
    "    if level == 0:\n",
    "        t.forward(length)\n",
    "        \n",
    "    else:\n",
    "        new_length = length / 3\n",
    "        koch2(new_length,level-1)\n",
    "        t.left(60)\n",
    "        koch2(new_length,level-1)\n",
    "        t.right(120)\n",
    "        koch2(new_length,level-1)\n",
    "        t.left(60)\n",
    "        koch2(new_length,level-1)\n",
    "\n",
    "def koch(length,level):\n",
    "    for i in range(3):\n",
    "        t.right(120)\n",
    "        koch2(length,level)"
   ]
  },
  {
   "cell_type": "code",
   "execution_count": null,
   "id": "0fedeb58-20fe-44a4-9855-53f0017e2702",
   "metadata": {},
   "outputs": [],
   "source": []
  }
 ],
 "metadata": {
  "kernelspec": {
   "display_name": "Python 3 (ipykernel)",
   "language": "python",
   "name": "python3"
  },
  "language_info": {
   "codemirror_mode": {
    "name": "ipython",
    "version": 3
   },
   "file_extension": ".py",
   "mimetype": "text/x-python",
   "name": "python",
   "nbconvert_exporter": "python",
   "pygments_lexer": "ipython3",
   "version": "3.9.13"
  }
 },
 "nbformat": 4,
 "nbformat_minor": 5
}
