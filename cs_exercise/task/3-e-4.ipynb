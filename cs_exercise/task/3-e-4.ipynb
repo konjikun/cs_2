{
 "cells": [
  {
   "cell_type": "code",
   "execution_count": 1,
   "id": "7a749165-a159-4e08-8585-e2c46e2747f6",
   "metadata": {},
   "outputs": [],
   "source": [
    "import turtle\n",
    "\n",
    "t = turtle\n",
    "\n",
    "def koch(length, level):\n",
    "    if level == 0:\n",
    "        turtle.forward(length)\n",
    "    else:\n",
    "        new_length = length / 3\n",
    "        koch(new_length,level-1)\n",
    "        t.left(60)\n",
    "        koch(new_length,level-1)\n",
    "        turtle.right(120)\n",
    "        koch(new_length,level-1)\n",
    "        turtle.left(60)\n",
    "        koch(new_length,level-1)"
   ]
  },
  {
   "cell_type": "code",
   "execution_count": null,
   "id": "d800b4cf-afdc-4b3a-b35a-dd096c472313",
   "metadata": {},
   "outputs": [],
   "source": []
  }
 ],
 "metadata": {
  "kernelspec": {
   "display_name": "Python 3 (ipykernel)",
   "language": "python",
   "name": "python3"
  },
  "language_info": {
   "codemirror_mode": {
    "name": "ipython",
    "version": 3
   },
   "file_extension": ".py",
   "mimetype": "text/x-python",
   "name": "python",
   "nbconvert_exporter": "python",
   "pygments_lexer": "ipython3",
   "version": "3.9.13"
  }
 },
 "nbformat": 4,
 "nbformat_minor": 5
}
