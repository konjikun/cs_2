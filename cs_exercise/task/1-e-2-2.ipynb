{
 "cells": [
  {
   "cell_type": "code",
   "execution_count": 1,
   "id": "a13f8ebf-eb44-4976-ae10-7d38ad3a9c1b",
   "metadata": {},
   "outputs": [],
   "source": [
    "def janken():\n",
    "    import random\n",
    "    win = 0\n",
    "    lose =0\n",
    "    drow =0\n",
    "    for _ in range(5):\n",
    "        enemy = int(input('あなたは？ (0:グー、1:チョキ、2:パー) '))\n",
    "        cp=random.randint(0,2)\n",
    "        if cp == enemy:\n",
    "            drow += 1\n",
    "            print('ドロー')\n",
    "        elif enemy == cp - 1 or (cp ==0 and enemy == 2):\n",
    "            win += 1\n",
    "            print('勝ち')\n",
    "        else:\n",
    "            lose += 1\n",
    "            print('負け')\n",
    "    p = win/(win + lose)\n",
    "    \n",
    "    return '対戦結果 : 勝ち　' + str(win) + ' 負け　' + str(lose) + ' ドロー ' + str(drow) + ' 勝率 ' + str(p)"
   ]
  },
  {
   "cell_type": "code",
   "execution_count": 2,
   "id": "831d2637-92e0-464f-a5b5-b9545ee3242f",
   "metadata": {},
   "outputs": [
    {
     "name": "stdin",
     "output_type": "stream",
     "text": [
      "あなたは？ (0:グー、1:チョキ、2:パー)  0\n"
     ]
    },
    {
     "name": "stdout",
     "output_type": "stream",
     "text": [
      "ドロー\n"
     ]
    },
    {
     "name": "stdin",
     "output_type": "stream",
     "text": [
      "あなたは？ (0:グー、1:チョキ、2:パー)  1\n"
     ]
    },
    {
     "name": "stdout",
     "output_type": "stream",
     "text": [
      "負け\n"
     ]
    },
    {
     "name": "stdin",
     "output_type": "stream",
     "text": [
      "あなたは？ (0:グー、1:チョキ、2:パー)  1\n"
     ]
    },
    {
     "name": "stdout",
     "output_type": "stream",
     "text": [
      "負け\n"
     ]
    },
    {
     "name": "stdin",
     "output_type": "stream",
     "text": [
      "あなたは？ (0:グー、1:チョキ、2:パー)  1\n"
     ]
    },
    {
     "name": "stdout",
     "output_type": "stream",
     "text": [
      "ドロー\n"
     ]
    },
    {
     "name": "stdin",
     "output_type": "stream",
     "text": [
      "あなたは？ (0:グー、1:チョキ、2:パー)  1\n"
     ]
    },
    {
     "name": "stdout",
     "output_type": "stream",
     "text": [
      "負け\n",
      "対戦結果 : 勝ち　0 負け　3 ドロー 2 勝率 0.0\n"
     ]
    }
   ],
   "source": [
    "print(janken())"
   ]
  },
  {
   "cell_type": "code",
   "execution_count": null,
   "id": "77a98833-039b-410a-82dc-3b9726c294e7",
   "metadata": {},
   "outputs": [],
   "source": []
  }
 ],
 "metadata": {
  "kernelspec": {
   "display_name": "Python 3 (ipykernel)",
   "language": "python",
   "name": "python3"
  },
  "language_info": {
   "codemirror_mode": {
    "name": "ipython",
    "version": 3
   },
   "file_extension": ".py",
   "mimetype": "text/x-python",
   "name": "python",
   "nbconvert_exporter": "python",
   "pygments_lexer": "ipython3",
   "version": "3.9.13"
  }
 },
 "nbformat": 4,
 "nbformat_minor": 5
}
