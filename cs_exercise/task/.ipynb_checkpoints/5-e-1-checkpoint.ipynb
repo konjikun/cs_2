{
 "cells": [
  {
   "cell_type": "code",
   "execution_count": 10,
   "id": "506d67b6-9212-4fd0-92cb-1da02c20290d",
   "metadata": {},
   "outputs": [],
   "source": [
    "from collections import deque"
   ]
  },
  {
   "cell_type": "code",
   "execution_count": 15,
   "id": "1cf36b93-6d9c-4285-a23e-627e55dc381b",
   "metadata": {},
   "outputs": [
    {
     "name": "stdout",
     "output_type": "stream",
     "text": [
      "customer-id:0 さんがレジに並びました。\n",
      "customer-id:1 さんがレジに並びました。\n",
      "customer-id:2 さんがレジに並びました。\n",
      "customer-id:3 さんがレジに並びました。\n",
      "customer-id:4 さんがレジに並びました。\n",
      "customer-id:5 さんがレジに並びました。\n",
      "customer-id:6 さんがレジに並びました。\n",
      "customer-id:7 さんがレジに並びました。\n",
      "customer-id:8 さんがレジに並びました。\n",
      "customer-id:9 さんがレジに並びました。\n",
      "deque([0, 1, 2, 3, 4, 5, 6, 7, 8, 9])\n",
      "customer-id:0 さんが会計を済ませました。\n",
      "deque([1, 2, 3, 4, 5, 6, 7, 8, 9])\n",
      "customer-id:1 さんが会計を済ませました。\n",
      "deque([2, 3, 4, 5, 6, 7, 8, 9])\n",
      "customer-id:2 さんが会計を済ませました。\n",
      "deque([3, 4, 5, 6, 7, 8, 9])\n",
      "customer-id:3 さんが会計を済ませました。\n",
      "deque([4, 5, 6, 7, 8, 9])\n",
      "customer-id:4 さんが会計を済ませました。\n",
      "deque([5, 6, 7, 8, 9])\n",
      "customer-id:5 さんが会計を済ませました。\n",
      "deque([6, 7, 8, 9])\n",
      "customer-id:6 さんが会計を済ませました。\n",
      "deque([7, 8, 9])\n",
      "customer-id:7 さんが会計を済ませました。\n",
      "deque([8, 9])\n",
      "customer-id:8 さんが会計を済ませました。\n",
      "deque([9])\n",
      "customer-id:9 さんが会計を済ませました。\n",
      "レジに並んでいる人数: 0\n"
     ]
    }
   ],
   "source": [
    "cashier = deque([])\n",
    "\n",
    "\n",
    "n =10\n",
    "m= 6\n",
    "\n",
    "for i in range(n):\n",
    "    customer = \"customer-id:{}\".format(i)\n",
    "    print(customer, \"さんがレジに並びました。\")\n",
    "    cashier.append(i)\n",
    "    \n",
    "for i in range(len(cashier)):\n",
    "    if len(cashier) > 0:\n",
    "        customer = \"customer-id:{}\".format(cashier.popleft())\n",
    "        print(customer, \"さんが会計を済ませました。\")\n",
    "        \n",
    "print(\"レジに並んでいる人数:\",len(cashier))\n"
   ]
  },
  {
   "cell_type": "code",
   "execution_count": null,
   "id": "5f711add-3cd3-4037-9041-20c4b2efd1f6",
   "metadata": {},
   "outputs": [],
   "source": []
  },
  {
   "cell_type": "code",
   "execution_count": null,
   "id": "07b7c1bf-3917-48ef-98ad-9cf997430d1b",
   "metadata": {},
   "outputs": [],
   "source": []
  }
 ],
 "metadata": {
  "kernelspec": {
   "display_name": "Python 3 (ipykernel)",
   "language": "python",
   "name": "python3"
  },
  "language_info": {
   "codemirror_mode": {
    "name": "ipython",
    "version": 3
   },
   "file_extension": ".py",
   "mimetype": "text/x-python",
   "name": "python",
   "nbconvert_exporter": "python",
   "pygments_lexer": "ipython3",
   "version": "3.9.13"
  }
 },
 "nbformat": 4,
 "nbformat_minor": 5
}
