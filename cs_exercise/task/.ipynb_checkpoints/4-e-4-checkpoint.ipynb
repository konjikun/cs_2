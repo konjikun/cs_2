{
 "cells": [
  {
   "cell_type": "code",
   "execution_count": 19,
   "id": "7786dca1-e755-4096-9980-66db34d76927",
   "metadata": {},
   "outputs": [],
   "source": [
    "def qsort(lst):\n",
    "    qsort_inner(lst, 0, len(lst) -1)\n",
    "    \n",
    "def qsort_inner(lst, start, end):\n",
    "    if start >= end:\n",
    "        return\n",
    "    pivot = find_pivot(lst, start, end)\n",
    "    if pivot is None:\n",
    "        return\n",
    "    p = partition(lst, start, end, pivot)\n",
    "    qsort_inner(lst, start, p-1)\n",
    "    qsort_inner(lst, p, end)"
   ]
  },
  {
   "cell_type": "code",
   "execution_count": 20,
   "id": "2e769ee3-9f16-4d4a-b07e-49687efce018",
   "metadata": {},
   "outputs": [],
   "source": [
    "def find_pivot(lst, start, end):\n",
    "    for i in range(start + 1, end + 1):\n",
    "        if lst[i] > lst[start]:\n",
    "            return lst[i]\n",
    "        if lst[i] < lst[start]:\n",
    "            return lst[start]\n",
    "    return None\n",
    "\n",
    "def partition(lst, left, right, pibot):\n",
    "    while True:\n",
    "        while lst[left] < pivot:\n",
    "            left += 1\n",
    "        while (lst[right] >= pivot) and (right >= 0):\n",
    "            right -= 1\n",
    "        if left >= right:\n",
    "            return left\n",
    "        tmp = lst[left]\n",
    "        lst[left] = lst[right]\n",
    "        lst[right] = tmp\n",
    "        left += 1\n",
    "        right -= 1"
   ]
  },
  {
   "cell_type": "code",
   "execution_count": 21,
   "id": "f1bb90f6-896f-46e8-9800-60031bd67cd0",
   "metadata": {},
   "outputs": [
    {
     "ename": "NameError",
     "evalue": "name 'pivot' is not defined",
     "output_type": "error",
     "traceback": [
      "\u001b[1;31m---------------------------------------------------------------------------\u001b[0m",
      "\u001b[1;31mNameError\u001b[0m                                 Traceback (most recent call last)",
      "Input \u001b[1;32mIn [21]\u001b[0m, in \u001b[0;36m<cell line: 1>\u001b[1;34m()\u001b[0m\n\u001b[1;32m----> 1\u001b[0m \u001b[38;5;28mprint\u001b[39m(\u001b[43mqsort\u001b[49m\u001b[43m(\u001b[49m\u001b[43m[\u001b[49m\u001b[38;5;241;43m5\u001b[39;49m\u001b[43m,\u001b[49m\u001b[38;5;241;43m2\u001b[39;49m\u001b[43m,\u001b[49m\u001b[38;5;241;43m7\u001b[39;49m\u001b[43m,\u001b[49m\u001b[38;5;241;43m8\u001b[39;49m\u001b[43m,\u001b[49m\u001b[38;5;241;43m6\u001b[39;49m\u001b[43m,\u001b[49m\u001b[38;5;241;43m4\u001b[39;49m\u001b[43m,\u001b[49m\u001b[38;5;241;43m9\u001b[39;49m\u001b[43m,\u001b[49m\u001b[38;5;241;43m1\u001b[39;49m\u001b[43m,\u001b[49m\u001b[38;5;241;43m3\u001b[39;49m\u001b[43m]\u001b[49m\u001b[43m)\u001b[49m)\n",
      "Input \u001b[1;32mIn [19]\u001b[0m, in \u001b[0;36mqsort\u001b[1;34m(lst)\u001b[0m\n\u001b[0;32m      1\u001b[0m \u001b[38;5;28;01mdef\u001b[39;00m \u001b[38;5;21mqsort\u001b[39m(lst):\n\u001b[1;32m----> 2\u001b[0m     \u001b[43mqsort_inner\u001b[49m\u001b[43m(\u001b[49m\u001b[43mlst\u001b[49m\u001b[43m,\u001b[49m\u001b[43m \u001b[49m\u001b[38;5;241;43m0\u001b[39;49m\u001b[43m,\u001b[49m\u001b[43m \u001b[49m\u001b[38;5;28;43mlen\u001b[39;49m\u001b[43m(\u001b[49m\u001b[43mlst\u001b[49m\u001b[43m)\u001b[49m\u001b[43m \u001b[49m\u001b[38;5;241;43m-\u001b[39;49m\u001b[38;5;241;43m1\u001b[39;49m\u001b[43m)\u001b[49m\n",
      "Input \u001b[1;32mIn [19]\u001b[0m, in \u001b[0;36mqsort_inner\u001b[1;34m(lst, start, end)\u001b[0m\n\u001b[0;32m      8\u001b[0m \u001b[38;5;28;01mif\u001b[39;00m pivot \u001b[38;5;129;01mis\u001b[39;00m \u001b[38;5;28;01mNone\u001b[39;00m:\n\u001b[0;32m      9\u001b[0m     \u001b[38;5;28;01mreturn\u001b[39;00m\n\u001b[1;32m---> 10\u001b[0m p \u001b[38;5;241m=\u001b[39m \u001b[43mpartition\u001b[49m\u001b[43m(\u001b[49m\u001b[43mlst\u001b[49m\u001b[43m,\u001b[49m\u001b[43m \u001b[49m\u001b[43mstart\u001b[49m\u001b[43m,\u001b[49m\u001b[43m \u001b[49m\u001b[43mend\u001b[49m\u001b[43m,\u001b[49m\u001b[43m \u001b[49m\u001b[43mpivot\u001b[49m\u001b[43m)\u001b[49m\n\u001b[0;32m     11\u001b[0m qsort_inner(lst, start, p\u001b[38;5;241m-\u001b[39m\u001b[38;5;241m1\u001b[39m)\n\u001b[0;32m     12\u001b[0m qsort_inner(lst, p, end)\n",
      "Input \u001b[1;32mIn [20]\u001b[0m, in \u001b[0;36mpartition\u001b[1;34m(lst, left, right, pibot)\u001b[0m\n\u001b[0;32m      9\u001b[0m \u001b[38;5;28;01mdef\u001b[39;00m \u001b[38;5;21mpartition\u001b[39m(lst, left, right, pibot):\n\u001b[0;32m     10\u001b[0m     \u001b[38;5;28;01mwhile\u001b[39;00m \u001b[38;5;28;01mTrue\u001b[39;00m:\n\u001b[1;32m---> 11\u001b[0m         \u001b[38;5;28;01mwhile\u001b[39;00m lst[left] \u001b[38;5;241m<\u001b[39m \u001b[43mpivot\u001b[49m:\n\u001b[0;32m     12\u001b[0m             left \u001b[38;5;241m+\u001b[39m\u001b[38;5;241m=\u001b[39m \u001b[38;5;241m1\u001b[39m\n\u001b[0;32m     13\u001b[0m         \u001b[38;5;28;01mwhile\u001b[39;00m (lst[right] \u001b[38;5;241m>\u001b[39m\u001b[38;5;241m=\u001b[39m pivot) \u001b[38;5;129;01mand\u001b[39;00m (right \u001b[38;5;241m>\u001b[39m\u001b[38;5;241m=\u001b[39m \u001b[38;5;241m0\u001b[39m):\n",
      "\u001b[1;31mNameError\u001b[0m: name 'pivot' is not defined"
     ]
    }
   ],
   "source": [
    "print(qsort([5,2,7,8,6,4,9,1,3]))"
   ]
  },
  {
   "cell_type": "code",
   "execution_count": 22,
   "id": "07439842-09ec-4cb2-aa22-b5d9df3286d1",
   "metadata": {},
   "outputs": [
    {
     "ename": "NameError",
     "evalue": "name 'pivot' is not defined",
     "output_type": "error",
     "traceback": [
      "\u001b[1;31m---------------------------------------------------------------------------\u001b[0m",
      "\u001b[1;31mNameError\u001b[0m                                 Traceback (most recent call last)",
      "Input \u001b[1;32mIn [22]\u001b[0m, in \u001b[0;36m<cell line: 1>\u001b[1;34m()\u001b[0m\n\u001b[1;32m----> 1\u001b[0m \u001b[38;5;28mprint\u001b[39m(\u001b[43mqsort\u001b[49m\u001b[43m(\u001b[49m\u001b[43m[\u001b[49m\n\u001b[0;32m      2\u001b[0m \u001b[43m    \u001b[49m\u001b[43m(\u001b[49m\u001b[38;5;241;43m1\u001b[39;49m\u001b[43m,\u001b[49m\u001b[43m \u001b[49m\u001b[38;5;124;43m'\u001b[39;49m\u001b[38;5;124;43mApple\u001b[39;49m\u001b[38;5;124;43m'\u001b[39;49m\u001b[43m)\u001b[49m\u001b[43m,\u001b[49m\n\u001b[0;32m      3\u001b[0m \u001b[43m    \u001b[49m\u001b[43m(\u001b[49m\u001b[38;5;241;43m2\u001b[39;49m\u001b[43m,\u001b[49m\u001b[43m \u001b[49m\u001b[38;5;124;43m'\u001b[39;49m\u001b[38;5;124;43mBanana\u001b[39;49m\u001b[38;5;124;43m'\u001b[39;49m\u001b[43m)\u001b[49m\u001b[43m,\u001b[49m\n\u001b[0;32m      4\u001b[0m \u001b[43m    \u001b[49m\u001b[43m(\u001b[49m\u001b[38;5;241;43m1\u001b[39;49m\u001b[43m,\u001b[49m\u001b[43m \u001b[49m\u001b[38;5;124;43m'\u001b[39;49m\u001b[38;5;124;43mApricot\u001b[39;49m\u001b[38;5;124;43m'\u001b[39;49m\u001b[43m)\u001b[49m\u001b[43m,\u001b[49m\n\u001b[0;32m      5\u001b[0m \u001b[43m    \u001b[49m\u001b[43m(\u001b[49m\u001b[38;5;241;43m4\u001b[39;49m\u001b[43m,\u001b[49m\u001b[43m \u001b[49m\u001b[38;5;124;43m'\u001b[39;49m\u001b[38;5;124;43mKiwi\u001b[39;49m\u001b[38;5;124;43m'\u001b[39;49m\u001b[43m)\u001b[49m\u001b[43m,\u001b[49m\n\u001b[0;32m      6\u001b[0m \u001b[43m    \u001b[49m\u001b[43m(\u001b[49m\u001b[38;5;241;43m7\u001b[39;49m\u001b[43m,\u001b[49m\u001b[43m \u001b[49m\u001b[38;5;124;43m'\u001b[39;49m\u001b[38;5;124;43mPapaya\u001b[39;49m\u001b[38;5;124;43m'\u001b[39;49m\u001b[43m)\u001b[49m\u001b[43m,\u001b[49m\n\u001b[0;32m      7\u001b[0m \u001b[43m    \u001b[49m\u001b[43m(\u001b[49m\u001b[38;5;241;43m3\u001b[39;49m\u001b[43m,\u001b[49m\u001b[43m \u001b[49m\u001b[38;5;124;43m'\u001b[39;49m\u001b[38;5;124;43mDragonfruit\u001b[39;49m\u001b[38;5;124;43m'\u001b[39;49m\u001b[43m)\u001b[49m\u001b[43m,\u001b[49m\n\u001b[0;32m      8\u001b[0m \u001b[43m    \u001b[49m\u001b[43m(\u001b[49m\u001b[38;5;241;43m5\u001b[39;49m\u001b[43m,\u001b[49m\u001b[43m \u001b[49m\u001b[38;5;124;43m'\u001b[39;49m\u001b[38;5;124;43mMango\u001b[39;49m\u001b[38;5;124;43m'\u001b[39;49m\u001b[43m)\u001b[49m\u001b[43m,\u001b[49m\n\u001b[0;32m      9\u001b[0m \u001b[43m    \u001b[49m\u001b[43m(\u001b[49m\u001b[38;5;241;43m6\u001b[39;49m\u001b[43m,\u001b[49m\u001b[43m \u001b[49m\u001b[38;5;124;43m'\u001b[39;49m\u001b[38;5;124;43mOrange\u001b[39;49m\u001b[38;5;124;43m'\u001b[39;49m\u001b[43m)\u001b[49m\u001b[43m,\u001b[49m\n\u001b[0;32m     10\u001b[0m \u001b[43m    \u001b[49m\u001b[43m(\u001b[49m\u001b[38;5;241;43m8\u001b[39;49m\u001b[43m,\u001b[49m\u001b[43m \u001b[49m\u001b[38;5;124;43m'\u001b[39;49m\u001b[38;5;124;43mStrawberry\u001b[39;49m\u001b[38;5;124;43m'\u001b[39;49m\u001b[43m)\u001b[49m\u001b[43m,\u001b[49m\n\u001b[0;32m     11\u001b[0m \u001b[43m    \u001b[49m\u001b[43m(\u001b[49m\u001b[38;5;241;43m3\u001b[39;49m\u001b[43m,\u001b[49m\u001b[43m \u001b[49m\u001b[38;5;124;43m'\u001b[39;49m\u001b[38;5;124;43mDurian\u001b[39;49m\u001b[38;5;124;43m'\u001b[39;49m\u001b[43m)\u001b[49m\u001b[43m,\u001b[49m\n\u001b[0;32m     12\u001b[0m \u001b[43m    \u001b[49m\u001b[43m(\u001b[49m\u001b[38;5;241;43m5\u001b[39;49m\u001b[43m,\u001b[49m\u001b[43m \u001b[49m\u001b[38;5;124;43m'\u001b[39;49m\u001b[38;5;124;43mMuskmelon\u001b[39;49m\u001b[38;5;124;43m'\u001b[39;49m\u001b[43m)\u001b[49m\u001b[43m,\u001b[49m\n\u001b[0;32m     13\u001b[0m \u001b[43m    \u001b[49m\u001b[43m(\u001b[49m\u001b[38;5;241;43m7\u001b[39;49m\u001b[43m,\u001b[49m\u001b[43m \u001b[49m\u001b[38;5;124;43m'\u001b[39;49m\u001b[38;5;124;43mPeach\u001b[39;49m\u001b[38;5;124;43m'\u001b[39;49m\u001b[43m)\u001b[49m\u001b[43m,\u001b[49m\n\u001b[0;32m     14\u001b[0m \u001b[43m]\u001b[49m\u001b[43m)\u001b[49m)\n",
      "Input \u001b[1;32mIn [19]\u001b[0m, in \u001b[0;36mqsort\u001b[1;34m(lst)\u001b[0m\n\u001b[0;32m      1\u001b[0m \u001b[38;5;28;01mdef\u001b[39;00m \u001b[38;5;21mqsort\u001b[39m(lst):\n\u001b[1;32m----> 2\u001b[0m     \u001b[43mqsort_inner\u001b[49m\u001b[43m(\u001b[49m\u001b[43mlst\u001b[49m\u001b[43m,\u001b[49m\u001b[43m \u001b[49m\u001b[38;5;241;43m0\u001b[39;49m\u001b[43m,\u001b[49m\u001b[43m \u001b[49m\u001b[38;5;28;43mlen\u001b[39;49m\u001b[43m(\u001b[49m\u001b[43mlst\u001b[49m\u001b[43m)\u001b[49m\u001b[43m \u001b[49m\u001b[38;5;241;43m-\u001b[39;49m\u001b[38;5;241;43m1\u001b[39;49m\u001b[43m)\u001b[49m\n",
      "Input \u001b[1;32mIn [19]\u001b[0m, in \u001b[0;36mqsort_inner\u001b[1;34m(lst, start, end)\u001b[0m\n\u001b[0;32m      8\u001b[0m \u001b[38;5;28;01mif\u001b[39;00m pivot \u001b[38;5;129;01mis\u001b[39;00m \u001b[38;5;28;01mNone\u001b[39;00m:\n\u001b[0;32m      9\u001b[0m     \u001b[38;5;28;01mreturn\u001b[39;00m\n\u001b[1;32m---> 10\u001b[0m p \u001b[38;5;241m=\u001b[39m \u001b[43mpartition\u001b[49m\u001b[43m(\u001b[49m\u001b[43mlst\u001b[49m\u001b[43m,\u001b[49m\u001b[43m \u001b[49m\u001b[43mstart\u001b[49m\u001b[43m,\u001b[49m\u001b[43m \u001b[49m\u001b[43mend\u001b[49m\u001b[43m,\u001b[49m\u001b[43m \u001b[49m\u001b[43mpivot\u001b[49m\u001b[43m)\u001b[49m\n\u001b[0;32m     11\u001b[0m qsort_inner(lst, start, p\u001b[38;5;241m-\u001b[39m\u001b[38;5;241m1\u001b[39m)\n\u001b[0;32m     12\u001b[0m qsort_inner(lst, p, end)\n",
      "Input \u001b[1;32mIn [20]\u001b[0m, in \u001b[0;36mpartition\u001b[1;34m(lst, left, right, pibot)\u001b[0m\n\u001b[0;32m      9\u001b[0m \u001b[38;5;28;01mdef\u001b[39;00m \u001b[38;5;21mpartition\u001b[39m(lst, left, right, pibot):\n\u001b[0;32m     10\u001b[0m     \u001b[38;5;28;01mwhile\u001b[39;00m \u001b[38;5;28;01mTrue\u001b[39;00m:\n\u001b[1;32m---> 11\u001b[0m         \u001b[38;5;28;01mwhile\u001b[39;00m lst[left] \u001b[38;5;241m<\u001b[39m \u001b[43mpivot\u001b[49m:\n\u001b[0;32m     12\u001b[0m             left \u001b[38;5;241m+\u001b[39m\u001b[38;5;241m=\u001b[39m \u001b[38;5;241m1\u001b[39m\n\u001b[0;32m     13\u001b[0m         \u001b[38;5;28;01mwhile\u001b[39;00m (lst[right] \u001b[38;5;241m>\u001b[39m\u001b[38;5;241m=\u001b[39m pivot) \u001b[38;5;129;01mand\u001b[39;00m (right \u001b[38;5;241m>\u001b[39m\u001b[38;5;241m=\u001b[39m \u001b[38;5;241m0\u001b[39m):\n",
      "\u001b[1;31mNameError\u001b[0m: name 'pivot' is not defined"
     ]
    }
   ],
   "source": [
    "print(qsort([\n",
    "    (1, 'Apple'),\n",
    "    (2, 'Banana'),\n",
    "    (1, 'Apricot'),\n",
    "    (4, 'Kiwi'),\n",
    "    (7, 'Papaya'),\n",
    "    (3, 'Dragonfruit'),\n",
    "    (5, 'Mango'),\n",
    "    (6, 'Orange'),\n",
    "    (8, 'Strawberry'),\n",
    "    (3, 'Durian'),\n",
    "    (5, 'Muskmelon'),\n",
    "    (7, 'Peach'),\n",
    "]))"
   ]
  },
  {
   "cell_type": "code",
   "execution_count": 4,
   "id": "a7b3a50e-956d-4b91-879e-ac38eee79c67",
   "metadata": {},
   "outputs": [
    {
     "name": "stdout",
     "output_type": "stream",
     "text": [
      "12\n"
     ]
    }
   ],
   "source": [
    "print(qsort([5,2,7,8,6,4,9,1,3]))"
   ]
  },
  {
   "cell_type": "code",
   "execution_count": 44,
   "id": "5d21cff9-37c7-451f-9cce-e3075e6175a9",
   "metadata": {
    "jupyter": {
     "source_hidden": true
    },
    "tags": []
   },
   "outputs": [],
   "source": [
    "def qsort(lst):\n",
    "    qsort_inner(lst,0,len(lst) -1)\n",
    "    \n",
    "def qsort_inner(lst, start, end):\n",
    "    if start >= end:\n",
    "        return lst\n",
    "    pivot = find_pivot(lst, start, end)\n",
    "    if pivot is None:\n",
    "        return lst\n",
    "    p = partition(lst, start, end, pivot)\n",
    "    qsort_inner(lst, start, p-1)\n",
    "    qsort_inner(lst, p, end)"
   ]
  },
  {
   "cell_type": "code",
   "execution_count": 47,
   "id": "5e852799-b82a-4674-8532-a9df0cfeea39",
   "metadata": {},
   "outputs": [],
   "source": [
    "def find_pivot(lst,start,end):\n",
    "    for i in range(start + 1, end + 1):\n",
    "        if lst[i] > lst[start]:\n",
    "            return \n",
    "        if lst[i] < lst[start]:\n",
    "            return\n",
    "    return None\n",
    "\n",
    "def partition(lst, left, right, pivot):\n",
    "    while True:\n",
    "        while lst[left] < pivot:\n",
    "            left +=1\n",
    "        while(lst[right] >= pivot) and (right >=0):\n",
    "            right -= 1\n",
    "        if left >= right:\n",
    "            return left\n",
    "        tmp = lst[left]\n",
    "        lst[left] = lst[right]\n",
    "        lst[right] = tmp\n",
    "        left += 1\n",
    "        right -= 1\n",
    "    return "
   ]
  },
  {
   "cell_type": "code",
   "execution_count": 48,
   "id": "0de0e7ec-7923-4fcd-b4a6-e2726758c7ad",
   "metadata": {},
   "outputs": [
    {
     "name": "stdout",
     "output_type": "stream",
     "text": [
      "None\n",
      "[5, 2, 7, 8, 6, 4, 9, 1, 3]\n"
     ]
    }
   ],
   "source": [
    "lst =[5,2,7,8,6,4,9,1,3]\n",
    "print(qsort([5,2,7,8,6,4,9,1,3]))\n",
    "print(lst)"
   ]
  },
  {
   "cell_type": "code",
   "execution_count": 43,
   "id": "6f959cd3-1460-467c-8ad5-522cfde14a9e",
   "metadata": {},
   "outputs": [],
   "source": [
    "def qsort(lst):\n",
    "    qsort_inner(lst, 0, len(lst) - 1)\n",
    "    \n",
    "def qsort_inner(lst, start, end):\n",
    "    if start >= end:\n",
    "        return\n",
    "    pivot = find_pivot(lst, start, end)\n",
    "    if pivot is None:\n",
    "        return\n",
    "    p = partition(lst, start, end, pivot)\n",
    "    qsort_inner(lst, start, p - 1)\n",
    "    qsort_inner(lst, p, end)"
   ]
  },
  {
   "cell_type": "code",
   "execution_count": 11,
   "id": "607e3d1a-1eaa-488a-be65-cf71464167de",
   "metadata": {},
   "outputs": [],
   "source": [
    "def find_pivot(lst, start, end):\n",
    "    for i in range(start + 1, end + 1):\n",
    "        if lst[i] > lst[start]:\n",
    "            return lst[i]\n",
    "        if lst[i] < lst[start]:\n",
    "            return lst[start]\n",
    "    return None\n",
    "\n",
    "def partition(lst, left, right, pivot):\n",
    "    while True:\n",
    "        while lst[left] < pivot:\n",
    "            left += 1\n",
    "        while (lst[right] >= pivot) and (right >= 0):\n",
    "            right -= 1\n",
    "            if left >= right:\n",
    "                return left\n",
    "            tmp = lst[left]\n",
    "            lst[left] = lst[right]\n",
    "            lst[right] = tmp\n",
    "            left += 1\n",
    "            right -= 1"
   ]
  },
  {
   "cell_type": "code",
   "execution_count": null,
   "id": "e12f897c-848b-4524-8db0-ce597480649b",
   "metadata": {},
   "outputs": [],
   "source": [
    "print(qsort([5,2,7,8,6,4,9,1,3]))"
   ]
  },
  {
   "cell_type": "code",
   "execution_count": 5,
   "id": "6297ccbe-ea45-4e4f-829d-c37e039d3c2a",
   "metadata": {},
   "outputs": [],
   "source": [
    "def insert_sort(buff):\n",
    "    k = len(buff)\n",
    "    for i in range(1, k):\n",
    "        temp = buff[i]\n",
    "        j = i - 1\n",
    "        while j >= 0 and temp < buff[j]:\n",
    "            buff[j + 1] = buff[j]\n",
    "            j -= 1\n",
    "        buff[j + 1] = temp\n",
    "\n",
    "\n",
    "LIMIT = 10\n",
    "\n",
    "def quick_sort2(buff, low, high):\n",
    "    stack = []\n",
    "    while True:\n",
    "        if high - low <= LIMIT:\n",
    "            if len(stack) == 0: break\n",
    "            low, high = stack.pop()\n",
    "        else:\n",
    "            pivot = select_pivot(buff, low, high)\n",
    "            i = low\n",
    "            j = high\n",
    "            while True:\n",
    "                while pivot > buff[i]: i += 1\n",
    "                while pivot < buff[j]: j -= 1\n",
    "                if i >= j: break\n",
    "                temp = buff[i]\n",
    "                buff[i] = buff[j]\n",
    "                buff[j] = temp\n",
    "                i += 1\n",
    "                j -= 1\n",
    "            if i - low > high - j:\n",
    "                stack.append((low, i - 1))\n",
    "                low = j + 1\n",
    "            else:\n",
    "                stack.append((j + 1, high))\n",
    "                high = i - 1\n",
    "    insert_sort(buff)\n",
    "\n",
    "def qsort2(buff):\n",
    "    quick_sort2(buff, 0, len(buff) - 1)"
   ]
  },
  {
   "cell_type": "code",
   "execution_count": 6,
   "id": "6d20730e-3e3d-4610-88db-d8ddbb200c61",
   "metadata": {},
   "outputs": [
    {
     "name": "stdout",
     "output_type": "stream",
     "text": [
      "None\n"
     ]
    }
   ],
   "source": [
    "print(qsort2([5,2,7,8,6,4,9,1,3]))"
   ]
  },
  {
   "cell_type": "code",
   "execution_count": null,
   "id": "61a0b3a9-8f79-4d8a-bcfb-4b37521f23f2",
   "metadata": {},
   "outputs": [],
   "source": []
  }
 ],
 "metadata": {
  "kernelspec": {
   "display_name": "Python 3 (ipykernel)",
   "language": "python",
   "name": "python3"
  },
  "language_info": {
   "codemirror_mode": {
    "name": "ipython",
    "version": 3
   },
   "file_extension": ".py",
   "mimetype": "text/x-python",
   "name": "python",
   "nbconvert_exporter": "python",
   "pygments_lexer": "ipython3",
   "version": "3.9.13"
  }
 },
 "nbformat": 4,
 "nbformat_minor": 5
}
