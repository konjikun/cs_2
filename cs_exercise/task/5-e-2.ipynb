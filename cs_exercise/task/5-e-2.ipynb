{
 "cells": [
  {
   "cell_type": "code",
   "execution_count": 1,
   "id": "fe725547-72ff-4844-acfa-67ac5c9e40d5",
   "metadata": {},
   "outputs": [],
   "source": [
    "from collections import deque"
   ]
  },
  {
   "cell_type": "code",
   "execution_count": 2,
   "id": "90de4ad9-7046-4299-9cb5-f17142fee62c",
   "metadata": {},
   "outputs": [],
   "source": [
    "attraction = deque([])\n",
    "next_pool = deque([])\n",
    "goal = deque()"
   ]
  },
  {
   "cell_type": "code",
   "execution_count": 3,
   "id": "ab8e77ac-f069-4318-b9e1-a56a7a18c35f",
   "metadata": {},
   "outputs": [],
   "source": [
    "num_of_visitors = 3\n",
    "a = \"A\"\n",
    "b = \"B\"\n",
    "c = \"C\"\n",
    "\n",
    "next_pool.append(a)\n",
    "next_pool.append(b)\n",
    "next_pool.append(c)\n",
    "\n",
    "def next_action(visitor):\n",
    "    print(visitor, \"さんがアトラクションに並びました。\")\n",
    "    attraction.append(visitor)"
   ]
  },
  {
   "cell_type": "code",
   "execution_count": 4,
   "id": "cc18cd71-ec72-4643-92d7-099ff90409c9",
   "metadata": {},
   "outputs": [
    {
     "name": "stdout",
     "output_type": "stream",
     "text": [
      "t = 0\n",
      "A さんがアトラクションに並びました。\n",
      "B さんがアトラクションに並びました。\n",
      "C さんがアトラクションに並びました。\n",
      "\n",
      "t = 1\n",
      "A さんがアトラクションを回り終えました。\n",
      "\n",
      "t = 2\n",
      "B さんがアトラクションを回り終えました。\n",
      "\n",
      "t = 3\n",
      "C さんがアトラクションを回り終えました。\n",
      "\n",
      "終了時刻: 3\n"
     ]
    }
   ],
   "source": [
    "for t in range(100):\n",
    "    print(\"t =\",t)\n",
    "    \n",
    "    if len(attraction) > 0:\n",
    "        \n",
    "        v = attraction.popleft()\n",
    "        print(v, \"さんがアトラクションを回り終えました。\")\n",
    "        goal.append(v)\n",
    "\n",
    "    while len(next_pool) > 0:\n",
    "        v = next_pool.popleft()\n",
    "        next_action(v)\n",
    "        \n",
    "    print(\"\")\n",
    "    if len(goal) >= num_of_visitors:\n",
    "        print(\"終了時刻:\", t)\n",
    "        break"
   ]
  },
  {
   "cell_type": "code",
   "execution_count": null,
   "id": "9ad42578-ddb9-4fd0-a2a2-364bc6eced21",
   "metadata": {},
   "outputs": [],
   "source": []
  }
 ],
 "metadata": {
  "kernelspec": {
   "display_name": "Python 3 (ipykernel)",
   "language": "python",
   "name": "python3"
  },
  "language_info": {
   "codemirror_mode": {
    "name": "ipython",
    "version": 3
   },
   "file_extension": ".py",
   "mimetype": "text/x-python",
   "name": "python",
   "nbconvert_exporter": "python",
   "pygments_lexer": "ipython3",
   "version": "3.9.13"
  }
 },
 "nbformat": 4,
 "nbformat_minor": 5
}
