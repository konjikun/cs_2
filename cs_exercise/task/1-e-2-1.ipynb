{
 "cells": [
  {
   "cell_type": "code",
   "execution_count": 1,
   "id": "f06cc6d8-e018-4592-8b80-23058f76845b",
   "metadata": {},
   "outputs": [],
   "source": [
    "def janken():\n",
    "    import random\n",
    "    enemy=10\n",
    "    while enemy != 0 and enemy!=1 and enemy != 2:\n",
    "        enemy = int(input('あなたは？ (0:グー、1:チョキ、2:パー) '))\n",
    "    cp=random.randint(0,2)\n",
    "    if cp == enemy:\n",
    "        result2= 'あいこ'\n",
    "    elif enemy == cp - 1 or (cp ==0 and enemy == 2):\n",
    "        result2 = '勝ち'\n",
    "    else:\n",
    "        result2 = '負け'\n",
    "    return str(result2)"
   ]
  },
  {
   "cell_type": "code",
   "execution_count": 3,
   "id": "40347be4-774d-4ec5-900c-3859b16df920",
   "metadata": {},
   "outputs": [
    {
     "name": "stdin",
     "output_type": "stream",
     "text": [
      "あなたは？ (0:グー、1:チョキ、2:パー)  0\n"
     ]
    },
    {
     "name": "stdout",
     "output_type": "stream",
     "text": [
      "あいこ\n"
     ]
    }
   ],
   "source": [
    "print(janken())"
   ]
  },
  {
   "cell_type": "code",
   "execution_count": null,
   "id": "92c24048-74f9-47d5-9870-ca7193aa6f90",
   "metadata": {},
   "outputs": [],
   "source": []
  }
 ],
 "metadata": {
  "kernelspec": {
   "display_name": "Python 3 (ipykernel)",
   "language": "python",
   "name": "python3"
  },
  "language_info": {
   "codemirror_mode": {
    "name": "ipython",
    "version": 3
   },
   "file_extension": ".py",
   "mimetype": "text/x-python",
   "name": "python",
   "nbconvert_exporter": "python",
   "pygments_lexer": "ipython3",
   "version": "3.9.13"
  }
 },
 "nbformat": 4,
 "nbformat_minor": 5
}
