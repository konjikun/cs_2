{
 "cells": [
  {
   "cell_type": "code",
   "execution_count": 1,
   "id": "b6dd7292-ec98-4417-bda2-295fd70ca1d9",
   "metadata": {},
   "outputs": [],
   "source": [
    "class Node:\n",
    "    def __init__(self, value):\n",
    "        self.value = value\n",
    "        self.left = None\n",
    "        self.right = None\n",
    "\n",
    "    def __str__(self):\n",
    "        return str(self.value)\n",
    "top = Node(1)\n",
    "node_l = Node(2)\n",
    "node_r = Node(3)\n",
    "top.left = node_l\n",
    "top.right = node_r\n",
    "node_l_l = Node(4)\n",
    "node_l_r = Node(5)\n",
    "node_l.left = node_l_l\n",
    "node_l.right = node_l_r\n",
    "\n",
    "node_r_l = Node(6)\n",
    "node_r.left = node_r_l\n",
    "\n",
    "node_l_r_l = Node(7)\n",
    "node_l_r.left = node_l_r_l"
   ]
  },
  {
   "cell_type": "code",
   "execution_count": 2,
   "id": "33c109b3-02fb-4c49-baac-6c0156748347",
   "metadata": {},
   "outputs": [],
   "source": [
    "def count(node):\n",
    "    result = []\n",
    "    def print_inorder(node):\n",
    "        result.append(node)\n",
    "        \n",
    "        if node.left != None:\n",
    "            print_inorder(node.left)\n",
    "    \n",
    "        if node.right != None:\n",
    "            print_inorder(node.right)\n",
    "    print_inorder(node)\n",
    "    return len(result)\n",
    "    \n"
   ]
  },
  {
   "cell_type": "code",
   "execution_count": 3,
   "id": "8667d1fe-5489-45b6-a740-594f13d3fa80",
   "metadata": {},
   "outputs": [],
   "source": [
    "def height(node):\n",
    "    if node.left != None:\n",
    "        left_height = height(node.left) + 1\n",
    "    else:\n",
    "        left_height = 0\n",
    "        \n",
    "    if node.right != None:\n",
    "        right_height = height(node.right) + 1\n",
    "    else:\n",
    "        right_height = 0\n",
    "    \n",
    "    return max(left_height, right_height)"
   ]
  },
  {
   "cell_type": "code",
   "execution_count": 4,
   "id": "b04c80ae-5fa5-4d5a-8418-335ba7bc95c2",
   "metadata": {},
   "outputs": [],
   "source": [
    "def height(node):\n",
    "    if node.left != None:\n",
    "        left_height = height(node.left) + 1\n",
    "    else:\n",
    "        left_height = 0\n",
    "        \n",
    "    if node.right != None:\n",
    "        right_height = height(node.right) + 1\n",
    "    else:\n",
    "        right_height = 0\n",
    "    \n",
    "    return max(left_height, right_height)"
   ]
  },
  {
   "cell_type": "code",
   "execution_count": null,
   "id": "d363d6f3-ce50-490c-89ea-89ddf90d8aa4",
   "metadata": {},
   "outputs": [],
   "source": []
  }
 ],
 "metadata": {
  "kernelspec": {
   "display_name": "Python 3 (ipykernel)",
   "language": "python",
   "name": "python3"
  },
  "language_info": {
   "codemirror_mode": {
    "name": "ipython",
    "version": 3
   },
   "file_extension": ".py",
   "mimetype": "text/x-python",
   "name": "python",
   "nbconvert_exporter": "python",
   "pygments_lexer": "ipython3",
   "version": "3.9.13"
  }
 },
 "nbformat": 4,
 "nbformat_minor": 5
}
