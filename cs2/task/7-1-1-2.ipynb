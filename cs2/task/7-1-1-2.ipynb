{
 "cells": [
  {
   "cell_type": "code",
   "execution_count": 7,
   "metadata": {},
   "outputs": [],
   "source": [
    "def f(lst):\n",
    "    result = 0\n",
    "    i = len(lst)\n",
    "    while i > 0:\n",
    "        result += lst[i - 1]\n",
    "        i = i // 2\n",
    "    return result\n",
    "\n"
   ]
  },
  {
   "cell_type": "code",
   "execution_count": 8,
   "metadata": {},
   "outputs": [
    {
     "name": "stdout",
     "output_type": "stream",
     "text": [
      "2 µs ± 88.9 ns per loop (mean ± std. dev. of 7 runs, 1,000,000 loops each)\n",
      "2.04 µs ± 136 ns per loop (mean ± std. dev. of 7 runs, 100,000 loops each)\n",
      "2.18 µs ± 39.6 ns per loop (mean ± std. dev. of 7 runs, 100,000 loops each)\n",
      "2.1 µs ± 58.1 ns per loop (mean ± std. dev. of 7 runs, 100,000 loops each)\n",
      "2.24 µs ± 34.3 ns per loop (mean ± std. dev. of 7 runs, 100,000 loops each)\n",
      "2.31 µs ± 53.8 ns per loop (mean ± std. dev. of 7 runs, 100,000 loops each)\n",
      "2.77 µs ± 89.5 ns per loop (mean ± std. dev. of 7 runs, 100,000 loops each)\n",
      "2.79 µs ± 61.2 ns per loop (mean ± std. dev. of 7 runs, 100,000 loops each)\n",
      "2.89 µs ± 241 ns per loop (mean ± std. dev. of 7 runs, 100,000 loops each)\n"
     ]
    }
   ],
   "source": [
    "import random\n",
    "import numpy as np\n",
    "import timeit\n",
    "\n",
    "result = []\n",
    "lst =[]\n",
    "for i in range(100000,1000000,100000):\n",
    "    for s in range(i):\n",
    "        lst.append(s)\n",
    "    random.sample(lst,i)\n",
    "    %timeit f(lst)\n"
   ]
  },
  {
   "cell_type": "code",
   "execution_count": null,
   "metadata": {},
   "outputs": [],
   "source": []
  }
 ],
 "metadata": {
  "kernelspec": {
   "display_name": "Python 3.9.13 ('cs_2')",
   "language": "python",
   "name": "python3"
  },
  "language_info": {
   "codemirror_mode": {
    "name": "ipython",
    "version": 3
   },
   "file_extension": ".py",
   "mimetype": "text/x-python",
   "name": "python",
   "nbconvert_exporter": "python",
   "pygments_lexer": "ipython3",
   "version": "3.9.13"
  },
  "orig_nbformat": 4,
  "vscode": {
   "interpreter": {
    "hash": "0dd2d40e15f580621b6077d5177c87a5ce5905ce5ba327b2a74590478348e863"
   }
  }
 },
 "nbformat": 4,
 "nbformat_minor": 2
}
