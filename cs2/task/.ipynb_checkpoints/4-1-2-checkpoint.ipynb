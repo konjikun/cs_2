{
 "cells": [
  {
   "cell_type": "code",
   "execution_count": 1,
   "id": "f36d02ab-18d3-43a8-869f-cfdd74ae5702",
   "metadata": {},
   "outputs": [],
   "source": [
    "class Node:\n",
    "    def __init__(self, value):\n",
    "        self.value = value\n",
    "        self.next = None\n",
    "        \n",
    "    def __str__(self):\n",
    "        return str(self.value)"
   ]
  },
  {
   "cell_type": "code",
   "execution_count": 2,
   "id": "aaa117c3-549b-47e3-bc5c-729886b15726",
   "metadata": {},
   "outputs": [],
   "source": [
    "node1 = Node(10)\n",
    "node2 = Node(20)\n",
    "node1.next = node2\n",
    "node3 = Node(30)\n",
    "node2.next = node3\n",
    "node4 = Node(40)\n",
    "node3.next = node4"
   ]
  },
  {
   "cell_type": "code",
   "execution_count": 3,
   "id": "6f0bbceb-b082-416d-a2c7-6816cf7d66c1",
   "metadata": {},
   "outputs": [],
   "source": [
    "def print_list(top):\n",
    "    print('<', end='')\n",
    "    node = top\n",
    "    while node is not None:\n",
    "        print(node, end=',')\n",
    "        node = node.next\n",
    "    print('>')"
   ]
  },
  {
   "cell_type": "code",
   "execution_count": 4,
   "id": "5408234f-3387-457d-91f4-78cc1e66b8c9",
   "metadata": {},
   "outputs": [
    {
     "name": "stdout",
     "output_type": "stream",
     "text": [
      "<10,20,30,40,>\n"
     ]
    }
   ],
   "source": [
    "print_list(node1)"
   ]
  },
  {
   "cell_type": "code",
   "execution_count": 5,
   "id": "039b7b15-753c-4123-8a94-f69f205a7cb9",
   "metadata": {},
   "outputs": [],
   "source": [
    "def get(top, n):\n",
    "    node = top\n",
    "    for i in range(n):\n",
    "        node = node.next\n",
    "    return node"
   ]
  },
  {
   "cell_type": "code",
   "execution_count": 6,
   "id": "10e1c1af-ab8b-42af-b7f1-69e1b3c84d24",
   "metadata": {},
   "outputs": [
    {
     "name": "stdout",
     "output_type": "stream",
     "text": [
      "40\n"
     ]
    }
   ],
   "source": [
    "print(get(node1, 3))"
   ]
  },
  {
   "cell_type": "code",
   "execution_count": 7,
   "id": "fe12c4a0-4586-4e59-ba3f-9864c618a326",
   "metadata": {},
   "outputs": [],
   "source": [
    "def insert(prev, x):\n",
    "    new_node = Node(x)\n",
    "    new_node.next = prev.next\n",
    "    prev.next = new_node\n",
    "    return new_node"
   ]
  },
  {
   "cell_type": "code",
   "execution_count": 8,
   "id": "528f338b-bd70-4210-9d7f-074ceed44ab9",
   "metadata": {},
   "outputs": [
    {
     "name": "stdout",
     "output_type": "stream",
     "text": [
      "<10,20,30,40,>\n",
      "<10,20,30,50,40,>\n"
     ]
    }
   ],
   "source": [
    "print_list(node1)\n",
    "insert(get(node1, 2), 50)\n",
    "print_list(node1)"
   ]
  },
  {
   "cell_type": "code",
   "execution_count": 9,
   "id": "d7c4d3a6-7594-4c2a-8c53-bc238959a570",
   "metadata": {},
   "outputs": [],
   "source": [
    "def pop(prev):\n",
    "    result = prev.next\n",
    "    prev.next = result.next\n",
    "    result.next =None\n",
    "    return result"
   ]
  },
  {
   "cell_type": "code",
   "execution_count": 10,
   "id": "4a51e368-ae5d-4a04-9f09-14357a588873",
   "metadata": {},
   "outputs": [
    {
     "name": "stdout",
     "output_type": "stream",
     "text": [
      "<10,20,30,50,40,>\n",
      "<10,20,30,40,>\n"
     ]
    }
   ],
   "source": [
    "print_list(node1)\n",
    "pop(get(node1, 2))\n",
    "print_list(node1)"
   ]
  },
  {
   "cell_type": "code",
   "execution_count": 11,
   "id": "08e5bb50-14f9-4fe2-a990-acb9c7be1568",
   "metadata": {},
   "outputs": [],
   "source": [
    "def create_list(n):\n",
    "    top = Node(0)\n",
    "    for i in range(1, n):\n",
    "        insert(top, n-i)\n",
    "    return top"
   ]
  },
  {
   "cell_type": "code",
   "execution_count": 12,
   "id": "88670270-1464-413e-a67a-8da6f19785fc",
   "metadata": {},
   "outputs": [
    {
     "name": "stdout",
     "output_type": "stream",
     "text": [
      "<0,1,2,3,4,>\n"
     ]
    }
   ],
   "source": [
    "lst = create_list(5)\n",
    "print_list(lst)"
   ]
  },
  {
   "cell_type": "code",
   "execution_count": 13,
   "id": "034ce257-029c-4946-998a-48feb7ec40c4",
   "metadata": {},
   "outputs": [],
   "source": [
    "def increase_list(top, n):\n",
    "    node = get(top, n)\n",
    "    node.value += 1\n"
   ]
  },
  {
   "cell_type": "code",
   "execution_count": 14,
   "id": "58d4676e-a5a6-43e3-b338-a9f194f0ef8d",
   "metadata": {},
   "outputs": [
    {
     "name": "stdout",
     "output_type": "stream",
     "text": [
      "<0,1,2,3,4,>\n",
      "<0,1,2,3,4,>\n"
     ]
    }
   ],
   "source": [
    "def add_remove_list(prev):\n",
    "    insert(prev, 0)\n",
    "    pop(prev)\n",
    "lst = create_list(5)\n",
    "print_list(lst)\n",
    "add_remove_list(get(lst, 2))\n",
    "print_list(lst)"
   ]
  },
  {
   "cell_type": "code",
   "execution_count": 15,
   "id": "d7f0b598-ff74-4a72-95da-1d22dac3bd8a",
   "metadata": {
    "collapsed": true,
    "jupyter": {
     "outputs_hidden": true,
     "source_hidden": true
    },
    "tags": []
   },
   "outputs": [
    {
     "ename": "KeyboardInterrupt",
     "evalue": "",
     "output_type": "error",
     "traceback": [
      "\u001b[1;31m---------------------------------------------------------------------------\u001b[0m",
      "\u001b[1;31mKeyboardInterrupt\u001b[0m                         Traceback (most recent call last)",
      "Input \u001b[1;32mIn [15]\u001b[0m, in \u001b[0;36m<cell line: 1>\u001b[1;34m()\u001b[0m\n\u001b[0;32m      2\u001b[0m length \u001b[38;5;241m=\u001b[39m i\u001b[38;5;241m*\u001b[39m\u001b[38;5;241m100000\u001b[39m\n\u001b[0;32m      3\u001b[0m target \u001b[38;5;241m=\u001b[39m create_list(length)\n\u001b[1;32m----> 4\u001b[0m \u001b[43mget_ipython\u001b[49m\u001b[43m(\u001b[49m\u001b[43m)\u001b[49m\u001b[38;5;241;43m.\u001b[39;49m\u001b[43mrun_line_magic\u001b[49m\u001b[43m(\u001b[49m\u001b[38;5;124;43m'\u001b[39;49m\u001b[38;5;124;43mtimeit\u001b[39;49m\u001b[38;5;124;43m'\u001b[39;49m\u001b[43m,\u001b[49m\u001b[43m \u001b[49m\u001b[38;5;124;43m'\u001b[39;49m\u001b[38;5;124;43mincrease_list(target, length //2)\u001b[39;49m\u001b[38;5;124;43m'\u001b[39;49m\u001b[43m)\u001b[49m\n",
      "File \u001b[1;32m~\\.conda\\envs\\cs_2\\lib\\site-packages\\IPython\\core\\interactiveshell.py:2305\u001b[0m, in \u001b[0;36mInteractiveShell.run_line_magic\u001b[1;34m(self, magic_name, line, _stack_depth)\u001b[0m\n\u001b[0;32m   2303\u001b[0m     kwargs[\u001b[38;5;124m'\u001b[39m\u001b[38;5;124mlocal_ns\u001b[39m\u001b[38;5;124m'\u001b[39m] \u001b[38;5;241m=\u001b[39m \u001b[38;5;28mself\u001b[39m\u001b[38;5;241m.\u001b[39mget_local_scope(stack_depth)\n\u001b[0;32m   2304\u001b[0m \u001b[38;5;28;01mwith\u001b[39;00m \u001b[38;5;28mself\u001b[39m\u001b[38;5;241m.\u001b[39mbuiltin_trap:\n\u001b[1;32m-> 2305\u001b[0m     result \u001b[38;5;241m=\u001b[39m fn(\u001b[38;5;241m*\u001b[39margs, \u001b[38;5;241m*\u001b[39m\u001b[38;5;241m*\u001b[39mkwargs)\n\u001b[0;32m   2306\u001b[0m \u001b[38;5;28;01mreturn\u001b[39;00m result\n",
      "File \u001b[1;32m~\\.conda\\envs\\cs_2\\lib\\site-packages\\IPython\\core\\magics\\execution.py:1166\u001b[0m, in \u001b[0;36mExecutionMagics.timeit\u001b[1;34m(self, line, cell, local_ns)\u001b[0m\n\u001b[0;32m   1163\u001b[0m         \u001b[38;5;28;01mif\u001b[39;00m time_number \u001b[38;5;241m>\u001b[39m\u001b[38;5;241m=\u001b[39m \u001b[38;5;241m0.2\u001b[39m:\n\u001b[0;32m   1164\u001b[0m             \u001b[38;5;28;01mbreak\u001b[39;00m\n\u001b[1;32m-> 1166\u001b[0m all_runs \u001b[38;5;241m=\u001b[39m \u001b[43mtimer\u001b[49m\u001b[38;5;241;43m.\u001b[39;49m\u001b[43mrepeat\u001b[49m\u001b[43m(\u001b[49m\u001b[43mrepeat\u001b[49m\u001b[43m,\u001b[49m\u001b[43m \u001b[49m\u001b[43mnumber\u001b[49m\u001b[43m)\u001b[49m\n\u001b[0;32m   1167\u001b[0m best \u001b[38;5;241m=\u001b[39m \u001b[38;5;28mmin\u001b[39m(all_runs) \u001b[38;5;241m/\u001b[39m number\n\u001b[0;32m   1168\u001b[0m worst \u001b[38;5;241m=\u001b[39m \u001b[38;5;28mmax\u001b[39m(all_runs) \u001b[38;5;241m/\u001b[39m number\n",
      "File \u001b[1;32m~\\.conda\\envs\\cs_2\\lib\\timeit.py:205\u001b[0m, in \u001b[0;36mTimer.repeat\u001b[1;34m(self, repeat, number)\u001b[0m\n\u001b[0;32m    203\u001b[0m r \u001b[38;5;241m=\u001b[39m []\n\u001b[0;32m    204\u001b[0m \u001b[38;5;28;01mfor\u001b[39;00m i \u001b[38;5;129;01min\u001b[39;00m \u001b[38;5;28mrange\u001b[39m(repeat):\n\u001b[1;32m--> 205\u001b[0m     t \u001b[38;5;241m=\u001b[39m \u001b[38;5;28;43mself\u001b[39;49m\u001b[38;5;241;43m.\u001b[39;49m\u001b[43mtimeit\u001b[49m\u001b[43m(\u001b[49m\u001b[43mnumber\u001b[49m\u001b[43m)\u001b[49m\n\u001b[0;32m    206\u001b[0m     r\u001b[38;5;241m.\u001b[39mappend(t)\n\u001b[0;32m    207\u001b[0m \u001b[38;5;28;01mreturn\u001b[39;00m r\n",
      "File \u001b[1;32m~\\.conda\\envs\\cs_2\\lib\\site-packages\\IPython\\core\\magics\\execution.py:156\u001b[0m, in \u001b[0;36mTimer.timeit\u001b[1;34m(self, number)\u001b[0m\n\u001b[0;32m    154\u001b[0m gc\u001b[38;5;241m.\u001b[39mdisable()\n\u001b[0;32m    155\u001b[0m \u001b[38;5;28;01mtry\u001b[39;00m:\n\u001b[1;32m--> 156\u001b[0m     timing \u001b[38;5;241m=\u001b[39m \u001b[38;5;28;43mself\u001b[39;49m\u001b[38;5;241;43m.\u001b[39;49m\u001b[43minner\u001b[49m\u001b[43m(\u001b[49m\u001b[43mit\u001b[49m\u001b[43m,\u001b[49m\u001b[43m \u001b[49m\u001b[38;5;28;43mself\u001b[39;49m\u001b[38;5;241;43m.\u001b[39;49m\u001b[43mtimer\u001b[49m\u001b[43m)\u001b[49m\n\u001b[0;32m    157\u001b[0m \u001b[38;5;28;01mfinally\u001b[39;00m:\n\u001b[0;32m    158\u001b[0m     \u001b[38;5;28;01mif\u001b[39;00m gcold:\n",
      "File \u001b[1;32m<magic-timeit>:1\u001b[0m, in \u001b[0;36minner\u001b[1;34m(_it, _timer)\u001b[0m\n",
      "Input \u001b[1;32mIn [13]\u001b[0m, in \u001b[0;36mincrease_list\u001b[1;34m(top, n)\u001b[0m\n\u001b[0;32m      1\u001b[0m \u001b[38;5;28;01mdef\u001b[39;00m \u001b[38;5;21mincrease_list\u001b[39m(top, n):\n\u001b[1;32m----> 2\u001b[0m     node \u001b[38;5;241m=\u001b[39m \u001b[43mget\u001b[49m\u001b[43m(\u001b[49m\u001b[43mtop\u001b[49m\u001b[43m,\u001b[49m\u001b[43m \u001b[49m\u001b[43mn\u001b[49m\u001b[43m)\u001b[49m\n\u001b[0;32m      3\u001b[0m     node\u001b[38;5;241m.\u001b[39mvalue \u001b[38;5;241m+\u001b[39m\u001b[38;5;241m=\u001b[39m \u001b[38;5;241m1\u001b[39m\n",
      "Input \u001b[1;32mIn [5]\u001b[0m, in \u001b[0;36mget\u001b[1;34m(top, n)\u001b[0m\n\u001b[0;32m      2\u001b[0m node \u001b[38;5;241m=\u001b[39m top\n\u001b[0;32m      3\u001b[0m \u001b[38;5;28;01mfor\u001b[39;00m i \u001b[38;5;129;01min\u001b[39;00m \u001b[38;5;28mrange\u001b[39m(n):\n\u001b[1;32m----> 4\u001b[0m     node \u001b[38;5;241m=\u001b[39m node\u001b[38;5;241m.\u001b[39mnext\n\u001b[0;32m      5\u001b[0m \u001b[38;5;28;01mreturn\u001b[39;00m node\n",
      "\u001b[1;31mKeyboardInterrupt\u001b[0m: "
     ]
    }
   ],
   "source": [
    "for i in range(1, 11):\n",
    "    length = i*100000\n",
    "    target = create_list(length)\n",
    "    %timeit increase_list(target, length //2)"
   ]
  },
  {
   "cell_type": "code",
   "execution_count": 21,
   "id": "697d4cfd-eb95-4de7-82ab-b753967c12b3",
   "metadata": {
    "collapsed": true,
    "jupyter": {
     "outputs_hidden": true,
     "source_hidden": true
    },
    "tags": []
   },
   "outputs": [
    {
     "name": "stdout",
     "output_type": "stream",
     "text": [
      "702 ns ± 44.1 ns per loop (mean ± std. dev. of 7 runs, 1,000,000 loops each)\n",
      "665 ns ± 40.9 ns per loop (mean ± std. dev. of 7 runs, 1,000,000 loops each)\n",
      "667 ns ± 56.1 ns per loop (mean ± std. dev. of 7 runs, 1,000,000 loops each)\n",
      "655 ns ± 56 ns per loop (mean ± std. dev. of 7 runs, 1,000,000 loops each)\n",
      "645 ns ± 23.7 ns per loop (mean ± std. dev. of 7 runs, 1,000,000 loops each)\n",
      "672 ns ± 27.5 ns per loop (mean ± std. dev. of 7 runs, 1,000,000 loops each)\n",
      "681 ns ± 37.2 ns per loop (mean ± std. dev. of 7 runs, 1,000,000 loops each)\n",
      "633 ns ± 52.8 ns per loop (mean ± std. dev. of 7 runs, 1,000,000 loops each)\n",
      "619 ns ± 56.6 ns per loop (mean ± std. dev. of 7 runs, 1,000,000 loops each)\n",
      "623 ns ± 34.2 ns per loop (mean ± std. dev. of 7 runs, 1,000,000 loops each)\n"
     ]
    }
   ],
   "source": [
    "for i in range(1, 11):\n",
    "    length = i*100000\n",
    "    target = create_list(length)\n",
    "    tail = get(target, length -1)\n",
    "    %timeit add_remove_list(target)"
   ]
  },
  {
   "cell_type": "code",
   "execution_count": 53,
   "id": "e6f7a958-4748-40c9-990e-245766809771",
   "metadata": {},
   "outputs": [],
   "source": [
    "def index(top,x):\n",
    "    node = top\n",
    "    while node is not None:\n",
    "        if str(node) == str(x):\n",
    "            return node\n",
    "        node =node.next\n",
    "    return None"
   ]
  },
  {
   "cell_type": "code",
   "execution_count": 54,
   "id": "c9226566-8475-4c77-a297-1edd4918bc39",
   "metadata": {},
   "outputs": [
    {
     "name": "stdout",
     "output_type": "stream",
     "text": [
      "<0,1,2,3,4,5,6,7,8,9,>\n",
      "<0,1,2,100,3,4,5,6,7,8,9,>\n",
      "<0,1,2,100,3,4,5,7,8,9,>\n"
     ]
    }
   ],
   "source": [
    "lst = create_list(10)\n",
    "print_list(lst)\n",
    "\n",
    "found = index(lst, 2)\n",
    "insert(found, 100)\n",
    "print_list(lst)\n",
    "\n",
    "found = index(lst, 5)\n",
    "pop(found)\n",
    "print_list(lst)"
   ]
  },
  {
   "cell_type": "code",
   "execution_count": null,
   "id": "1d74ec84-9dda-4149-acaa-81eb34d5f9b7",
   "metadata": {},
   "outputs": [],
   "source": []
  }
 ],
 "metadata": {
  "kernelspec": {
   "display_name": "Python 3 (ipykernel)",
   "language": "python",
   "name": "python3"
  },
  "language_info": {
   "codemirror_mode": {
    "name": "ipython",
    "version": 3
   },
   "file_extension": ".py",
   "mimetype": "text/x-python",
   "name": "python",
   "nbconvert_exporter": "python",
   "pygments_lexer": "ipython3",
   "version": "3.9.13"
  }
 },
 "nbformat": 4,
 "nbformat_minor": 5
}
