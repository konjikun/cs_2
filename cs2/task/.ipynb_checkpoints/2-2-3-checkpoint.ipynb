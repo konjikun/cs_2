{
 "cells": [
  {
   "cell_type": "code",
   "execution_count": 6,
   "id": "8e17f660-318c-49fc-abee-fc967b4c55d1",
   "metadata": {},
   "outputs": [],
   "source": [
    "import time\n",
    "import matplotlib as plt"
   ]
  },
  {
   "cell_type": "code",
   "execution_count": 7,
   "id": "7da7b554-962a-461f-b83e-77438bd21e64",
   "metadata": {},
   "outputs": [
    {
     "name": "stdout",
     "output_type": "stream",
     "text": [
      "1.002932491557954\n"
     ]
    }
   ],
   "source": [
    "def func(n):\n",
    "    s = 0\n",
    "    for i in range(n):\n",
    "        s += 1\n",
    "    return time.perf_counter_ns()\n",
    "a =func(100000)\n",
    "print(func(1000000)/a)"
   ]
  },
  {
   "cell_type": "code",
   "execution_count": 9,
   "id": "54c67796-59ab-4cb2-b6a4-e6b89f34ab67",
   "metadata": {},
   "outputs": [],
   "source": [
    "def func2(n):\n",
    "    s= 0\n",
    "    for i in range (n):\n",
    "        for j in range(n):\n",
    "            s+=1\n",
    "    return time.perf_counter_ns()\n",
    "a =(func2(1000))\n",
    "\n",
    "    "
   ]
  },
  {
   "cell_type": "code",
   "execution_count": 10,
   "id": "8e5098b7-9c4d-4997-93d2-8e9ed442d232",
   "metadata": {},
   "outputs": [
    {
     "name": "stdout",
     "output_type": "stream",
     "text": [
      "0.9990821290409444\n"
     ]
    }
   ],
   "source": [
    "print(func2(10000) / a )"
   ]
  },
  {
   "cell_type": "code",
   "execution_count": null,
   "id": "2888b061-54ee-4c47-8742-97bcccf227da",
   "metadata": {},
   "outputs": [],
   "source": [
    "def func3(n):\n",
    "    s =0\n",
    "    for i in range(2 ** n):\n",
    "        s += 1\n",
    "    return time.perf_counter_ns()\n",
    "a = (func3(20))\n",
    "print(func3(30)/a)"
   ]
  }
 ],
 "metadata": {
  "kernelspec": {
   "display_name": "Python 3 (ipykernel)",
   "language": "python",
   "name": "python3"
  },
  "language_info": {
   "codemirror_mode": {
    "name": "ipython",
    "version": 3
   },
   "file_extension": ".py",
   "mimetype": "text/x-python",
   "name": "python",
   "nbconvert_exporter": "python",
   "pygments_lexer": "ipython3",
   "version": "3.9.13"
  }
 },
 "nbformat": 4,
 "nbformat_minor": 5
}
