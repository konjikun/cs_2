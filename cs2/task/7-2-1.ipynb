{
 "cells": [
  {
   "cell_type": "code",
   "execution_count": 1,
   "metadata": {},
   "outputs": [],
   "source": [
    "N = 10\n",
    "table = [None] * N\n",
    "def h(x):\n",
    "    return hash(x) % 10"
   ]
  },
  {
   "cell_type": "code",
   "execution_count": 2,
   "metadata": {},
   "outputs": [],
   "source": [
    "def add(table, x):\n",
    "    hash_value = h(x)\n",
    "    if table[hash_value] != None:\n",
    "        raise Exception('Hash collision!')\n",
    "    table[hash_value] = x"
   ]
  },
  {
   "cell_type": "code",
   "execution_count": 3,
   "metadata": {},
   "outputs": [],
   "source": [
    "def contains(table, x):\n",
    "    hash_value = h(x)\n",
    "    return table[hash_value] == x"
   ]
  },
  {
   "cell_type": "code",
   "execution_count": 6,
   "metadata": {},
   "outputs": [
    {
     "ename": "Exception",
     "evalue": "Hash collision!",
     "output_type": "error",
     "traceback": [
      "\u001b[1;31m---------------------------------------------------------------------------\u001b[0m",
      "\u001b[1;31mException\u001b[0m                                 Traceback (most recent call last)",
      "\u001b[1;32mセル4 を c:\\Users\\iniad\\Documents\\GitHub\\cs_2\\cs2\\task\\7-2-1.ipynb\u001b[0m in \u001b[0;36m<cell line: 1>\u001b[1;34m()\u001b[0m\n\u001b[1;32m----> <a href='vscode-notebook-cell:/c%3A/Users/iniad/Documents/GitHub/cs_2/cs2/task/7-2-1.ipynb#W1sZmlsZQ%3D%3D?line=0'>1</a>\u001b[0m add(table,\u001b[39m'\u001b[39;49m\u001b[39mOsaki\u001b[39;49m\u001b[39m'\u001b[39;49m)\n",
      "\u001b[1;32mセル4 を c:\\Users\\iniad\\Documents\\GitHub\\cs_2\\cs2\\task\\7-2-1.ipynb\u001b[0m in \u001b[0;36madd\u001b[1;34m(table, x)\u001b[0m\n\u001b[0;32m      <a href='vscode-notebook-cell:/c%3A/Users/iniad/Documents/GitHub/cs_2/cs2/task/7-2-1.ipynb#W1sZmlsZQ%3D%3D?line=1'>2</a>\u001b[0m hash_value \u001b[39m=\u001b[39m h(x)\n\u001b[0;32m      <a href='vscode-notebook-cell:/c%3A/Users/iniad/Documents/GitHub/cs_2/cs2/task/7-2-1.ipynb#W1sZmlsZQ%3D%3D?line=2'>3</a>\u001b[0m \u001b[39mif\u001b[39;00m table[hash_value] \u001b[39m!=\u001b[39m \u001b[39mNone\u001b[39;00m:\n\u001b[1;32m----> <a href='vscode-notebook-cell:/c%3A/Users/iniad/Documents/GitHub/cs_2/cs2/task/7-2-1.ipynb#W1sZmlsZQ%3D%3D?line=3'>4</a>\u001b[0m     \u001b[39mraise\u001b[39;00m \u001b[39mException\u001b[39;00m(\u001b[39m'\u001b[39m\u001b[39mHash collision!\u001b[39m\u001b[39m'\u001b[39m)\n\u001b[0;32m      <a href='vscode-notebook-cell:/c%3A/Users/iniad/Documents/GitHub/cs_2/cs2/task/7-2-1.ipynb#W1sZmlsZQ%3D%3D?line=4'>5</a>\u001b[0m table[hash_value] \u001b[39m=\u001b[39m x\n",
      "\u001b[1;31mException\u001b[0m: Hash collision!"
     ]
    }
   ],
   "source": []
  },
  {
   "cell_type": "code",
   "execution_count": 7,
   "metadata": {},
   "outputs": [
    {
     "data": {
      "text/plain": [
       "[None,\n",
       " 'Ikebukuro',\n",
       " None,\n",
       " 'Shinjuku',\n",
       " 'Akabane',\n",
       " None,\n",
       " 'Itabashi',\n",
       " None,\n",
       " None,\n",
       " 'Jujo']"
      ]
     },
     "execution_count": 7,
     "metadata": {},
     "output_type": "execute_result"
    }
   ],
   "source": [
    "table"
   ]
  },
  {
   "cell_type": "code",
   "execution_count": null,
   "metadata": {},
   "outputs": [],
   "source": [
    "lst = ['Akabane','Jujo','Itabashi','Ikebkuro','Shinjuku','Shibuya','Ebisu','Osaki']\n",
    "add(table, 'apple')\n",
    "table"
   ]
  },
  {
   "cell_type": "code",
   "execution_count": null,
   "metadata": {},
   "outputs": [],
   "source": []
  },
  {
   "cell_type": "code",
   "execution_count": null,
   "metadata": {},
   "outputs": [],
   "source": []
  }
 ],
 "metadata": {
  "kernelspec": {
   "display_name": "Python 3.9.13 ('cs_2')",
   "language": "python",
   "name": "python3"
  },
  "language_info": {
   "codemirror_mode": {
    "name": "ipython",
    "version": 3
   },
   "file_extension": ".py",
   "mimetype": "text/x-python",
   "name": "python",
   "nbconvert_exporter": "python",
   "pygments_lexer": "ipython3",
   "version": "3.9.13"
  },
  "orig_nbformat": 4,
  "vscode": {
   "interpreter": {
    "hash": "0dd2d40e15f580621b6077d5177c87a5ce5905ce5ba327b2a74590478348e863"
   }
  }
 },
 "nbformat": 4,
 "nbformat_minor": 2
}
