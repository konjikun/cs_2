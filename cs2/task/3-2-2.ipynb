{
 "cells": [
  {
   "cell_type": "code",
   "execution_count": null,
   "id": "f6b808b9-4138-48da-873f-43daaaab65da",
   "metadata": {},
   "outputs": [],
   "source": [
    "list1 = [8,1,2,7,5,6,3,4]\n",
    "list2 =[10,2,5,8,1,4,3,7,9,6]"
   ]
  },
  {
   "cell_type": "code",
   "execution_count": null,
   "id": "de57edb9-051a-4b63-9352-a80248e9692d",
   "metadata": {},
   "outputs": [],
   "source": []
  }
 ],
 "metadata": {
  "kernelspec": {
   "display_name": "Python 3 (ipykernel)",
   "language": "python",
   "name": "python3"
  },
  "language_info": {
   "codemirror_mode": {
    "name": "ipython",
    "version": 3
   },
   "file_extension": ".py",
   "mimetype": "text/x-python",
   "name": "python",
   "nbconvert_exporter": "python",
   "pygments_lexer": "ipython3",
   "version": "3.9.13"
  }
 },
 "nbformat": 4,
 "nbformat_minor": 5
}
