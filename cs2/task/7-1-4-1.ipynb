{
 "cells": [
  {
   "cell_type": "code",
   "execution_count": 1,
   "metadata": {},
   "outputs": [],
   "source": [
    "from collections import deque\n",
    "queue = deque()"
   ]
  },
  {
   "cell_type": "code",
   "execution_count": 4,
   "metadata": {},
   "outputs": [
    {
     "ename": "IndexError",
     "evalue": "pop from an empty deque",
     "output_type": "error",
     "traceback": [
      "\u001b[1;31m---------------------------------------------------------------------------\u001b[0m",
      "\u001b[1;31mIndexError\u001b[0m                                Traceback (most recent call last)",
      "\u001b[1;32mセル2 を c:\\Users\\iniad\\Documents\\GitHub\\cs_2\\cs2\\task\\7-1-4-1.ipynb\u001b[0m in \u001b[0;36m<cell line: 3>\u001b[1;34m()\u001b[0m\n\u001b[0;32m      <a href='vscode-notebook-cell:/c%3A/Users/iniad/Documents/GitHub/cs_2/cs2/task/7-1-4-1.ipynb#W1sZmlsZQ%3D%3D?line=0'>1</a>\u001b[0m queue\u001b[39m.\u001b[39mappend(\u001b[39m2\u001b[39m)\n\u001b[0;32m      <a href='vscode-notebook-cell:/c%3A/Users/iniad/Documents/GitHub/cs_2/cs2/task/7-1-4-1.ipynb#W1sZmlsZQ%3D%3D?line=1'>2</a>\u001b[0m queue\u001b[39m.\u001b[39mpopleft()\n\u001b[1;32m----> <a href='vscode-notebook-cell:/c%3A/Users/iniad/Documents/GitHub/cs_2/cs2/task/7-1-4-1.ipynb#W1sZmlsZQ%3D%3D?line=2'>3</a>\u001b[0m a \u001b[39m=\u001b[39mqueue\u001b[39m.\u001b[39;49mpopleft()\n\u001b[0;32m      <a href='vscode-notebook-cell:/c%3A/Users/iniad/Documents/GitHub/cs_2/cs2/task/7-1-4-1.ipynb#W1sZmlsZQ%3D%3D?line=3'>4</a>\u001b[0m \u001b[39mprint\u001b[39m(a)\n",
      "\u001b[1;31mIndexError\u001b[0m: pop from an empty deque"
     ]
    }
   ],
   "source": [
    "queue.append(2)\n",
    "queue.popleft()\n",
    "a =queue.popleft()\n",
    "print(a)"
   ]
  },
  {
   "cell_type": "code",
   "execution_count": null,
   "metadata": {},
   "outputs": [],
   "source": []
  }
 ],
 "metadata": {
  "kernelspec": {
   "display_name": "Python 3 (ipykernel)",
   "language": "python",
   "name": "python3"
  },
  "language_info": {
   "codemirror_mode": {
    "name": "ipython",
    "version": 3
   },
   "file_extension": ".py",
   "mimetype": "text/x-python",
   "name": "python",
   "nbconvert_exporter": "python",
   "pygments_lexer": "ipython3",
   "version": "3.9.13"
  },
  "vscode": {
   "interpreter": {
    "hash": "0dd2d40e15f580621b6077d5177c87a5ce5905ce5ba327b2a74590478348e863"
   }
  }
 },
 "nbformat": 4,
 "nbformat_minor": 4
}
