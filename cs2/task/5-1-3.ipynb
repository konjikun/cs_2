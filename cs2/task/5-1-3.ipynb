{
 "cells": [
  {
   "cell_type": "code",
   "execution_count": 1,
   "id": "93275be5-3613-4a73-a345-1f30c698ae55",
   "metadata": {},
   "outputs": [],
   "source": [
    "class Node:\n",
    "    def __init__(self, value):\n",
    "        self.value = value\n",
    "        self.left = None\n",
    "        self.right = None\n",
    "        \n",
    "    def __str__(self):\n",
    "        return str(self.value)"
   ]
  },
  {
   "cell_type": "code",
   "execution_count": 2,
   "id": "4d091bf4-1e3e-4355-b14f-fd383536b751",
   "metadata": {},
   "outputs": [],
   "source": [
    "top = Node(1)\n",
    "node_l = Node(2)\n",
    "node_r = Node(3)\n",
    "top.left = node_l\n",
    "top.right = node_r"
   ]
  },
  {
   "cell_type": "code",
   "execution_count": 3,
   "id": "bbec2530-fe20-458e-9a55-0223c891d984",
   "metadata": {},
   "outputs": [],
   "source": [
    "node_l_l = Node(4)\n",
    "node_l_r = Node(5)\n",
    "node_l.left = node_l_l\n",
    "node_l.right = node_l_r\n",
    "\n",
    "node_r_l = Node(6)\n",
    "node_r.left = node_r_l\n",
    "\n",
    "node_l_r_l = Node(7)\n",
    "node_l_r.left = node_l_r_l"
   ]
  },
  {
   "cell_type": "code",
   "execution_count": 4,
   "id": "3d447437-26e7-4e0f-abb6-f94c2e96f073",
   "metadata": {},
   "outputs": [
    {
     "name": "stdout",
     "output_type": "stream",
     "text": [
      "7\n"
     ]
    }
   ],
   "source": [
    "node = top.left.right.left\n",
    "print(node)"
   ]
  },
  {
   "cell_type": "code",
   "execution_count": 5,
   "id": "f26d97c5-aa9f-4608-93e4-79c6a29fe9a5",
   "metadata": {},
   "outputs": [],
   "source": [
    "def print_preorder(node):\n",
    "    print(node, end=', ')\n",
    "    \n",
    "    if node.left != None:\n",
    "        print_preorder(node.left)\n",
    "        \n",
    "    if node.right != None:\n",
    "        print_preorder(node.right)"
   ]
  },
  {
   "cell_type": "code",
   "execution_count": 6,
   "id": "7a43584e-0d59-4d4c-8740-166c9060910e",
   "metadata": {
    "tags": []
   },
   "outputs": [],
   "source": [
    "def xpoint(top,x):\n",
    "    left_height =0\n",
    "    right_height =0\n",
    "    allList =[]\n",
    "    if top == x:\n",
    "        return '0'\n",
    "    if top.left != None:\n",
    "        if top.left == x:\n",
    "            print('l')\n",
    "            return str(left_height)\n",
    "        left_height = xpoint(top.left,x) + 1\n",
    "    else:\n",
    "        leftheight = 0\n",
    "    \n",
    "    if top.right != None:\n",
    "        if top.right == x:\n",
    "            print('r')\n",
    "            return str(right_height)\n",
    "        right_height = xpoint(top.right,x) + 1\n",
    "    else:\n",
    "        right_height = 0\n",
    "    \n",
    "    return max(left_height, right_height)"
   ]
  },
  {
   "cell_type": "code",
   "execution_count": 7,
   "id": "cd517b6a-96fe-4e05-aa4d-7299d42c8f86",
   "metadata": {},
   "outputs": [],
   "source": [
    "def depth(top,x):\n",
    "    p = xpoint(top,x)\n",
    "    if type(p) != str:\n",
    "        print(p)\n",
    "        print(type(p))\n",
    "        print(-1)"
   ]
  },
  {
   "cell_type": "code",
   "execution_count": 17,
   "id": "890a679c-25a0-446d-a3a9-37ab69ec6944",
   "metadata": {},
   "outputs": [
    {
     "data": {
      "text/plain": [
       "0"
      ]
     },
     "execution_count": 17,
     "metadata": {},
     "output_type": "execute_result"
    }
   ],
   "source": [
    "depth(top,1)"
   ]
  },
  {
   "cell_type": "code",
   "execution_count": 18,
   "id": "4b353d6e-6555-4c56-852c-359425c12946",
   "metadata": {},
   "outputs": [
    {
     "data": {
      "text/plain": [
       "3"
      ]
     },
     "execution_count": 18,
     "metadata": {},
     "output_type": "execute_result"
    }
   ],
   "source": [
    "depth(top, 7)"
   ]
  },
  {
   "cell_type": "code",
   "execution_count": 10,
   "id": "567e161f-a0a7-4a8a-a44c-eda95e1278fa",
   "metadata": {},
   "outputs": [
    {
     "name": "stdout",
     "output_type": "stream",
     "text": [
      "1\n"
     ]
    }
   ],
   "source": [
    "print(top)"
   ]
  },
  {
   "cell_type": "code",
   "execution_count": 11,
   "id": "76c80a64-ad39-4921-8342-5a7d013d3246",
   "metadata": {},
   "outputs": [
    {
     "name": "stdout",
     "output_type": "stream",
     "text": [
      "7\n"
     ]
    }
   ],
   "source": [
    "node = top.left.right.left\n",
    "print(node)"
   ]
  },
  {
   "cell_type": "markdown",
   "id": "e31db33a-219d-4610-bd05-f99eda2b8c85",
   "metadata": {},
   "source": [
    "### Answer"
   ]
  },
  {
   "cell_type": "code",
   "execution_count": 15,
   "id": "1216d5e6-eeda-4ee0-b533-852aa9f4b18b",
   "metadata": {},
   "outputs": [],
   "source": [
    "def depth(node, x):\n",
    "    if node.value == x:\n",
    "        return 0\n",
    "    \n",
    "    if node.left != None:\n",
    "        left_depth = depth(node.left,x)\n",
    "        if left_depth >= 0:\n",
    "            return left_depth +1\n",
    "        \n",
    "    if node.right != None:\n",
    "        right_depth = depth(node.right, x)\n",
    "        if right_depth >= 0:\n",
    "            return right_depth +1\n",
    "        \n",
    "    return -1"
   ]
  },
  {
   "cell_type": "code",
   "execution_count": null,
   "id": "727e4df6-8cf0-4ec9-b675-670010f70041",
   "metadata": {},
   "outputs": [],
   "source": []
  }
 ],
 "metadata": {
  "kernelspec": {
   "display_name": "Python 3.9.13 ('cs_2')",
   "language": "python",
   "name": "python3"
  },
  "language_info": {
   "codemirror_mode": {
    "name": "ipython",
    "version": 3
   },
   "file_extension": ".py",
   "mimetype": "text/x-python",
   "name": "python",
   "nbconvert_exporter": "python",
   "pygments_lexer": "ipython3",
   "version": "3.9.13"
  },
  "vscode": {
   "interpreter": {
    "hash": "0dd2d40e15f580621b6077d5177c87a5ce5905ce5ba327b2a74590478348e863"
   }
  }
 },
 "nbformat": 4,
 "nbformat_minor": 5
}
