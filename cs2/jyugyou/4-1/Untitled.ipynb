{
 "cells": [
  {
   "cell_type": "code",
   "execution_count": 1,
   "id": "a6d2c617-528a-40dd-a4ac-0ad23d05899a",
   "metadata": {},
   "outputs": [],
   "source": [
    "def increase_central(lst):\n",
    "    center = len(lst) // 2\n",
    "    lst[center] += 1\n",
    "    "
   ]
  },
  {
   "cell_type": "code",
   "execution_count": 2,
   "id": "3ef301e2-36a2-4819-8b5c-fad37020a28e",
   "metadata": {},
   "outputs": [],
   "source": [
    "def add_remove_tail(lst):\n",
    "    lst.append(0)\n",
    "    lst.pop(len(lst)-1)\n",
    "    "
   ]
  },
  {
   "cell_type": "code",
   "execution_count": 3,
   "id": "54e3bc8e-4e58-4b96-9075-a167de210910",
   "metadata": {},
   "outputs": [],
   "source": [
    "def add_remove_top(lst):\n",
    "    lst.insert(0,0)\n",
    "    lst.pop(0)"
   ]
  },
  {
   "cell_type": "code",
   "execution_count": 4,
   "id": "4b51d325-121d-448d-9d8d-b0ab8dbc4575",
   "metadata": {
    "collapsed": true,
    "jupyter": {
     "outputs_hidden": true
    },
    "tags": []
   },
   "outputs": [
    {
     "name": "stdout",
     "output_type": "stream",
     "text": [
      "201 ns ± 8.7 ns per loop (mean ± std. dev. of 7 runs, 1,000,000 loops each)\n",
      "194 ns ± 5.16 ns per loop (mean ± std. dev. of 7 runs, 10,000,000 loops each)\n",
      "198 ns ± 9.77 ns per loop (mean ± std. dev. of 7 runs, 1,000,000 loops each)\n",
      "195 ns ± 6.34 ns per loop (mean ± std. dev. of 7 runs, 10,000,000 loops each)\n",
      "203 ns ± 9.62 ns per loop (mean ± std. dev. of 7 runs, 10,000,000 loops each)\n",
      "222 ns ± 8.1 ns per loop (mean ± std. dev. of 7 runs, 1,000,000 loops each)\n",
      "232 ns ± 24 ns per loop (mean ± std. dev. of 7 runs, 1,000,000 loops each)\n",
      "218 ns ± 7.31 ns per loop (mean ± std. dev. of 7 runs, 1,000,000 loops each)\n",
      "219 ns ± 13.9 ns per loop (mean ± std. dev. of 7 runs, 1,000,000 loops each)\n",
      "198 ns ± 13.5 ns per loop (mean ± std. dev. of 7 runs, 1,000,000 loops each)\n"
     ]
    }
   ],
   "source": [
    "for i in range(1,11):\n",
    "    target = list(range(i * 10000))\n",
    "    %timeit add_remove_tail(target)"
   ]
  },
  {
   "cell_type": "code",
   "execution_count": 8,
   "id": "6cfd395d-6216-4566-b41e-8941aed6b974",
   "metadata": {
    "collapsed": true,
    "jupyter": {
     "outputs_hidden": true
    },
    "tags": []
   },
   "outputs": [
    {
     "name": "stdout",
     "output_type": "stream",
     "text": [
      "179 ns ± 3.14 ns per loop (mean ± std. dev. of 7 runs, 10,000,000 loops each)\n",
      "177 ns ± 3.7 ns per loop (mean ± std. dev. of 7 runs, 10,000,000 loops each)\n",
      "179 ns ± 5.4 ns per loop (mean ± std. dev. of 7 runs, 10,000,000 loops each)\n",
      "185 ns ± 6.73 ns per loop (mean ± std. dev. of 7 runs, 10,000,000 loops each)\n",
      "184 ns ± 2.38 ns per loop (mean ± std. dev. of 7 runs, 10,000,000 loops each)\n",
      "193 ns ± 13.3 ns per loop (mean ± std. dev. of 7 runs, 10,000,000 loops each)\n",
      "186 ns ± 7.13 ns per loop (mean ± std. dev. of 7 runs, 10,000,000 loops each)\n",
      "184 ns ± 7.39 ns per loop (mean ± std. dev. of 7 runs, 10,000,000 loops each)\n",
      "177 ns ± 2.67 ns per loop (mean ± std. dev. of 7 runs, 10,000,000 loops each)\n",
      "183 ns ± 2.36 ns per loop (mean ± std. dev. of 7 runs, 10,000,000 loops each)\n"
     ]
    }
   ],
   "source": [
    "for i in range(1,11):\n",
    "    target = list(range(i * 10000))\n",
    "    %timeit increase_central(target)"
   ]
  },
  {
   "cell_type": "code",
   "execution_count": 9,
   "id": "568ce4e2-482e-48ba-ad83-096472691bc1",
   "metadata": {
    "collapsed": true,
    "jupyter": {
     "outputs_hidden": true
    },
    "tags": []
   },
   "outputs": [
    {
     "name": "stdout",
     "output_type": "stream",
     "text": [
      "21.4 µs ± 261 ns per loop (mean ± std. dev. of 7 runs, 10,000 loops each)\n",
      "42.4 µs ± 209 ns per loop (mean ± std. dev. of 7 runs, 10,000 loops each)\n",
      "68.5 µs ± 6.78 µs per loop (mean ± std. dev. of 7 runs, 10,000 loops each)\n",
      "83.9 µs ± 301 ns per loop (mean ± std. dev. of 7 runs, 10,000 loops each)\n",
      "105 µs ± 907 ns per loop (mean ± std. dev. of 7 runs, 10,000 loops each)\n",
      "126 µs ± 502 ns per loop (mean ± std. dev. of 7 runs, 10,000 loops each)\n",
      "147 µs ± 381 ns per loop (mean ± std. dev. of 7 runs, 10,000 loops each)\n",
      "169 µs ± 2.95 µs per loop (mean ± std. dev. of 7 runs, 10,000 loops each)\n",
      "190 µs ± 1.15 µs per loop (mean ± std. dev. of 7 runs, 10,000 loops each)\n",
      "212 µs ± 2.65 µs per loop (mean ± std. dev. of 7 runs, 1,000 loops each)\n"
     ]
    }
   ],
   "source": [
    "for i in range(1,11):\n",
    "    target = list(range(i * 10000))\n",
    "    %timeit add_remove_top(target)"
   ]
  },
  {
   "cell_type": "code",
   "execution_count": 18,
   "id": "c735a657-56e9-4657-a6f4-2184995f4320",
   "metadata": {},
   "outputs": [],
   "source": [
    "class Node:\n",
    "    def __init__(self, value):\n",
    "        self.value = value\n",
    "        self.next = None\n",
    "        \n",
    "    def __str__(self):\n",
    "        return str(self.value)\n"
   ]
  },
  {
   "cell_type": "code",
   "execution_count": 19,
   "id": "d09591a4-d4c0-4a92-b7d6-1133bd4b8c0d",
   "metadata": {},
   "outputs": [],
   "source": [
    "node1 = Node(10)\n",
    "node2 = Node(20)\n",
    "node1.next = node2\n",
    "node3 = Node(30)\n",
    "node2.next = node3\n",
    "node4 = Node(40)\n",
    "node3.next = node4"
   ]
  },
  {
   "cell_type": "code",
   "execution_count": 24,
   "id": "be701fb2-53de-4413-b6d7-27d56af2f6af",
   "metadata": {},
   "outputs": [
    {
     "name": "stdout",
     "output_type": "stream",
     "text": [
      "40\n"
     ]
    }
   ],
   "source": [
    "print(node1.next.next.next)"
   ]
  },
  {
   "cell_type": "code",
   "execution_count": 27,
   "id": "9f786284-7c9a-4ee7-995c-08de356ab6d1",
   "metadata": {},
   "outputs": [],
   "source": [
    "def print_list(top):\n",
    "    print('<', end='')\n",
    "    node = top\n",
    "    while node is not None:\n",
    "        print(node, end=',')\n",
    "        node = node.next\n",
    "    print('>')"
   ]
  },
  {
   "cell_type": "code",
   "execution_count": 28,
   "id": "abbe7cce-f849-418e-8f74-4bdbdaab6c13",
   "metadata": {},
   "outputs": [
    {
     "name": "stdout",
     "output_type": "stream",
     "text": [
      "<10,20,30,40,>\n"
     ]
    }
   ],
   "source": [
    "print_list(node1)"
   ]
  },
  {
   "cell_type": "code",
   "execution_count": 29,
   "id": "eb595a34-6856-48e2-a87d-a41112bcf2b5",
   "metadata": {},
   "outputs": [],
   "source": [
    "def get(top, n):\n",
    "    node = top\n",
    "    for i in range(n):\n",
    "        node = node.next\n",
    "    return node"
   ]
  },
  {
   "cell_type": "code",
   "execution_count": 30,
   "id": "5cfbad9f-1f31-48cc-a92e-a44163de72a9",
   "metadata": {},
   "outputs": [
    {
     "name": "stdout",
     "output_type": "stream",
     "text": [
      "40\n"
     ]
    }
   ],
   "source": [
    "print(get(node1, 3))"
   ]
  },
  {
   "cell_type": "code",
   "execution_count": 31,
   "id": "0af88128-4a47-41cc-9329-cb8972c2cfbf",
   "metadata": {},
   "outputs": [],
   "source": [
    "def insert(prev, x):\n",
    "    new_node = Node(x)\n",
    "    new_node.next = prev.next\n",
    "    prev.next = new_node\n",
    "    return new_node"
   ]
  },
  {
   "cell_type": "code",
   "execution_count": 32,
   "id": "6bdf2a0c-71cc-468e-b4af-27f6322ae40a",
   "metadata": {},
   "outputs": [
    {
     "name": "stdout",
     "output_type": "stream",
     "text": [
      "<10,20,30,40,>\n",
      "<10,20,30,50,40,>\n"
     ]
    }
   ],
   "source": [
    "print_list(node1)\n",
    "insert(get(node1, 2), 50)\n",
    "print_list(node1)"
   ]
  },
  {
   "cell_type": "code",
   "execution_count": 33,
   "id": "b1eb70bf-fd88-4854-9b63-abdb5b542cb7",
   "metadata": {},
   "outputs": [],
   "source": [
    "def pop(prev):\n",
    "    result = prev.next\n",
    "    prev.next = result.next\n",
    "    result.next =None\n",
    "    return result"
   ]
  },
  {
   "cell_type": "code",
   "execution_count": 34,
   "id": "fba38dd6-15ce-480d-ae9e-099fadb92b80",
   "metadata": {},
   "outputs": [
    {
     "name": "stdout",
     "output_type": "stream",
     "text": [
      "<10,20,30,50,40,>\n",
      "<10,20,30,40,>\n"
     ]
    }
   ],
   "source": [
    "print_list(node1)\n",
    "pop(get(node1, 2))\n",
    "print_list(node1)"
   ]
  },
  {
   "cell_type": "code",
   "execution_count": 35,
   "id": "6d8eeb7c-bc53-4f00-8a5d-334d6690df02",
   "metadata": {},
   "outputs": [],
   "source": [
    "def create_list(n):\n",
    "    top = Node(0)\n",
    "    for i in range(1, n):\n",
    "        insert(top, n-i)\n",
    "    return top"
   ]
  },
  {
   "cell_type": "code",
   "execution_count": 36,
   "id": "7339cccc-dfc9-4061-aa48-7d65b22c31b3",
   "metadata": {},
   "outputs": [
    {
     "name": "stdout",
     "output_type": "stream",
     "text": [
      "<0,1,2,3,4,>\n"
     ]
    }
   ],
   "source": [
    "lst = create_list(5)\n",
    "print_list(lst)"
   ]
  },
  {
   "cell_type": "code",
   "execution_count": 37,
   "id": "81a97be5-f437-46d7-9346-c72147e48730",
   "metadata": {},
   "outputs": [],
   "source": [
    "def increase_list(top, n):\n",
    "    node = get(top, n)\n",
    "    node.value += 1\n"
   ]
  },
  {
   "cell_type": "code",
   "execution_count": 38,
   "id": "d6b46cdd-d365-4403-b126-af82a4ce2bd1",
   "metadata": {},
   "outputs": [
    {
     "name": "stdout",
     "output_type": "stream",
     "text": [
      "<0,1,2,3,4,>\n",
      "<0,1,3,3,4,>\n"
     ]
    }
   ],
   "source": [
    "lst = create_list(5)\n",
    "print_list(lst)\n",
    "increase_list(lst,2)\n",
    "print_list(lst)"
   ]
  },
  {
   "cell_type": "code",
   "execution_count": 39,
   "id": "7d8afb9e-2e65-4ddc-aa08-d033c01882b0",
   "metadata": {},
   "outputs": [
    {
     "name": "stdout",
     "output_type": "stream",
     "text": [
      "<0,1,2,3,4,>\n",
      "<0,1,2,3,4,>\n"
     ]
    }
   ],
   "source": [
    "def add_remove_list(prev):\n",
    "    insert(prev, 0)\n",
    "    pop(prev)\n",
    "lst = create_list(5)\n",
    "print_list(lst)\n",
    "add_remove_list(get(lst, 2))\n",
    "print_list(lst)"
   ]
  },
  {
   "cell_type": "code",
   "execution_count": 41,
   "id": "c5ba0e30-121f-427a-9c65-73e79d9490ba",
   "metadata": {},
   "outputs": [
    {
     "name": "stdout",
     "output_type": "stream",
     "text": [
      "1.84 ms ± 84.8 µs per loop (mean ± std. dev. of 7 runs, 1,000 loops each)\n",
      "3.82 ms ± 408 µs per loop (mean ± std. dev. of 7 runs, 100 loops each)\n",
      "6 ms ± 370 µs per loop (mean ± std. dev. of 7 runs, 100 loops each)\n",
      "8.02 ms ± 485 µs per loop (mean ± std. dev. of 7 runs, 100 loops each)\n",
      "9.79 ms ± 792 µs per loop (mean ± std. dev. of 7 runs, 100 loops each)\n",
      "12.9 ms ± 846 µs per loop (mean ± std. dev. of 7 runs, 100 loops each)\n",
      "14.7 ms ± 1.09 ms per loop (mean ± std. dev. of 7 runs, 100 loops each)\n",
      "16.5 ms ± 771 µs per loop (mean ± std. dev. of 7 runs, 100 loops each)\n",
      "18.5 ms ± 913 µs per loop (mean ± std. dev. of 7 runs, 100 loops each)\n",
      "20.2 ms ± 3.32 ms per loop (mean ± std. dev. of 7 runs, 10 loops each)\n"
     ]
    }
   ],
   "source": [
    "for i in range(1, 11):\n",
    "    length = i*100000\n",
    "    target = create_list(length)\n",
    "    %timeit increase_list(target, length //2)"
   ]
  },
  {
   "cell_type": "code",
   "execution_count": 42,
   "id": "34be94c5-8b93-40b4-bff1-44d6e3cbf69f",
   "metadata": {},
   "outputs": [
    {
     "name": "stdout",
     "output_type": "stream",
     "text": [
      "605 ns ± 28 ns per loop (mean ± std. dev. of 7 runs, 1,000,000 loops each)\n",
      "593 ns ± 44.3 ns per loop (mean ± std. dev. of 7 runs, 1,000,000 loops each)\n",
      "557 ns ± 44.5 ns per loop (mean ± std. dev. of 7 runs, 1,000,000 loops each)\n",
      "587 ns ± 44.7 ns per loop (mean ± std. dev. of 7 runs, 1,000,000 loops each)\n",
      "622 ns ± 31.2 ns per loop (mean ± std. dev. of 7 runs, 1,000,000 loops each)\n",
      "698 ns ± 181 ns per loop (mean ± std. dev. of 7 runs, 1,000,000 loops each)\n",
      "653 ns ± 50.2 ns per loop (mean ± std. dev. of 7 runs, 1,000,000 loops each)\n",
      "638 ns ± 16.7 ns per loop (mean ± std. dev. of 7 runs, 1,000,000 loops each)\n",
      "629 ns ± 18.6 ns per loop (mean ± std. dev. of 7 runs, 1,000,000 loops each)\n",
      "600 ns ± 39.2 ns per loop (mean ± std. dev. of 7 runs, 1,000,000 loops each)\n"
     ]
    }
   ],
   "source": [
    "for i in range(1, 11):\n",
    "    length = i*100000\n",
    "    target = create_list(length)\n",
    "    tail = get(target, length -1)\n",
    "    %timeit add_remove_list(target)"
   ]
  },
  {
   "cell_type": "code",
   "execution_count": null,
   "id": "b07539a0-d319-46b0-8410-82b9499ae907",
   "metadata": {},
   "outputs": [],
   "source": []
  }
 ],
 "metadata": {
  "kernelspec": {
   "display_name": "Python 3 (ipykernel)",
   "language": "python",
   "name": "python3"
  },
  "language_info": {
   "codemirror_mode": {
    "name": "ipython",
    "version": 3
   },
   "file_extension": ".py",
   "mimetype": "text/x-python",
   "name": "python",
   "nbconvert_exporter": "python",
   "pygments_lexer": "ipython3",
   "version": "3.9.13"
  }
 },
 "nbformat": 4,
 "nbformat_minor": 5
}
