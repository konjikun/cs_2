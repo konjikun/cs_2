{
 "cells": [
  {
   "cell_type": "code",
   "execution_count": 1,
   "id": "a6d2c617-528a-40dd-a4ac-0ad23d05899a",
   "metadata": {},
   "outputs": [],
   "source": [
    "def increase_central(lst):\n",
    "    center = len(lst) // 2\n",
    "    lst[center] += 1\n",
    "    "
   ]
  },
  {
   "cell_type": "code",
   "execution_count": 2,
   "id": "3ef301e2-36a2-4819-8b5c-fad37020a28e",
   "metadata": {},
   "outputs": [],
   "source": [
    "def add_remove_tail(lst):\n",
    "    lst.append(0)\n",
    "    lst.pop(len(lst)-1)\n",
    "    "
   ]
  },
  {
   "cell_type": "code",
   "execution_count": 3,
   "id": "54e3bc8e-4e58-4b96-9075-a167de210910",
   "metadata": {},
   "outputs": [],
   "source": [
    "def add_remove_top(lst):\n",
    "    lst.insert(0,0)\n",
    "    lst.pop(0)"
   ]
  },
  {
   "cell_type": "code",
   "execution_count": 4,
   "id": "4b51d325-121d-448d-9d8d-b0ab8dbc4575",
   "metadata": {},
   "outputs": [
    {
     "name": "stdout",
     "output_type": "stream",
     "text": [
      "201 ns ± 8.7 ns per loop (mean ± std. dev. of 7 runs, 1,000,000 loops each)\n",
      "194 ns ± 5.16 ns per loop (mean ± std. dev. of 7 runs, 10,000,000 loops each)\n",
      "198 ns ± 9.77 ns per loop (mean ± std. dev. of 7 runs, 1,000,000 loops each)\n",
      "195 ns ± 6.34 ns per loop (mean ± std. dev. of 7 runs, 10,000,000 loops each)\n",
      "203 ns ± 9.62 ns per loop (mean ± std. dev. of 7 runs, 10,000,000 loops each)\n",
      "222 ns ± 8.1 ns per loop (mean ± std. dev. of 7 runs, 1,000,000 loops each)\n",
      "232 ns ± 24 ns per loop (mean ± std. dev. of 7 runs, 1,000,000 loops each)\n",
      "218 ns ± 7.31 ns per loop (mean ± std. dev. of 7 runs, 1,000,000 loops each)\n",
      "219 ns ± 13.9 ns per loop (mean ± std. dev. of 7 runs, 1,000,000 loops each)\n",
      "198 ns ± 13.5 ns per loop (mean ± std. dev. of 7 runs, 1,000,000 loops each)\n"
     ]
    }
   ],
   "source": [
    "for i in range(1,11):\n",
    "    target = list(range(i * 10000))\n",
    "    %timeit add_remove_tail(target)"
   ]
  },
  {
   "cell_type": "code",
   "execution_count": 8,
   "id": "6cfd395d-6216-4566-b41e-8941aed6b974",
   "metadata": {},
   "outputs": [
    {
     "name": "stdout",
     "output_type": "stream",
     "text": [
      "179 ns ± 3.14 ns per loop (mean ± std. dev. of 7 runs, 10,000,000 loops each)\n",
      "177 ns ± 3.7 ns per loop (mean ± std. dev. of 7 runs, 10,000,000 loops each)\n",
      "179 ns ± 5.4 ns per loop (mean ± std. dev. of 7 runs, 10,000,000 loops each)\n",
      "185 ns ± 6.73 ns per loop (mean ± std. dev. of 7 runs, 10,000,000 loops each)\n",
      "184 ns ± 2.38 ns per loop (mean ± std. dev. of 7 runs, 10,000,000 loops each)\n",
      "193 ns ± 13.3 ns per loop (mean ± std. dev. of 7 runs, 10,000,000 loops each)\n",
      "186 ns ± 7.13 ns per loop (mean ± std. dev. of 7 runs, 10,000,000 loops each)\n",
      "184 ns ± 7.39 ns per loop (mean ± std. dev. of 7 runs, 10,000,000 loops each)\n",
      "177 ns ± 2.67 ns per loop (mean ± std. dev. of 7 runs, 10,000,000 loops each)\n",
      "183 ns ± 2.36 ns per loop (mean ± std. dev. of 7 runs, 10,000,000 loops each)\n"
     ]
    }
   ],
   "source": [
    "for i in range(1,11):\n",
    "    target = list(range(i * 10000))\n",
    "    %timeit increase_central(target)"
   ]
  },
  {
   "cell_type": "code",
   "execution_count": 9,
   "id": "568ce4e2-482e-48ba-ad83-096472691bc1",
   "metadata": {},
   "outputs": [
    {
     "name": "stdout",
     "output_type": "stream",
     "text": [
      "21.4 µs ± 261 ns per loop (mean ± std. dev. of 7 runs, 10,000 loops each)\n",
      "42.4 µs ± 209 ns per loop (mean ± std. dev. of 7 runs, 10,000 loops each)\n",
      "68.5 µs ± 6.78 µs per loop (mean ± std. dev. of 7 runs, 10,000 loops each)\n",
      "83.9 µs ± 301 ns per loop (mean ± std. dev. of 7 runs, 10,000 loops each)\n",
      "105 µs ± 907 ns per loop (mean ± std. dev. of 7 runs, 10,000 loops each)\n",
      "126 µs ± 502 ns per loop (mean ± std. dev. of 7 runs, 10,000 loops each)\n",
      "147 µs ± 381 ns per loop (mean ± std. dev. of 7 runs, 10,000 loops each)\n",
      "169 µs ± 2.95 µs per loop (mean ± std. dev. of 7 runs, 10,000 loops each)\n",
      "190 µs ± 1.15 µs per loop (mean ± std. dev. of 7 runs, 10,000 loops each)\n",
      "212 µs ± 2.65 µs per loop (mean ± std. dev. of 7 runs, 1,000 loops each)\n"
     ]
    }
   ],
   "source": [
    "for i in range(1,11):\n",
    "    target = list(range(i * 10000))\n",
    "    %timeit add_remove_top(target)"
   ]
  },
  {
   "cell_type": "code",
   "execution_count": 10,
   "id": "c735a657-56e9-4657-a6f4-2184995f4320",
   "metadata": {},
   "outputs": [
    {
     "ename": "SyntaxError",
     "evalue": "invalid syntax (3779627260.py, line 2)",
     "output_type": "error",
     "traceback": [
      "\u001b[1;36m  Input \u001b[1;32mIn [10]\u001b[1;36m\u001b[0m\n\u001b[1;33m    def__init__(self, value):\u001b[0m\n\u001b[1;37m                             ^\u001b[0m\n\u001b[1;31mSyntaxError\u001b[0m\u001b[1;31m:\u001b[0m invalid syntax\n"
     ]
    }
   ],
   "source": [
    "class Node:\n",
    "    def __init__(self, value):\n",
    "        self.value = value\n",
    "        self.next = None\n",
    "        \n",
    "    def __str__(self):\n",
    "        return str(self.balue)"
   ]
  },
  {
   "cell_type": "code",
   "execution_count": null,
   "id": "be701fb2-53de-4413-b6d7-27d56af2f6af",
   "metadata": {},
   "outputs": [],
   "source": []
  }
 ],
 "metadata": {
  "kernelspec": {
   "display_name": "Python 3 (ipykernel)",
   "language": "python",
   "name": "python3"
  },
  "language_info": {
   "codemirror_mode": {
    "name": "ipython",
    "version": 3
   },
   "file_extension": ".py",
   "mimetype": "text/x-python",
   "name": "python",
   "nbconvert_exporter": "python",
   "pygments_lexer": "ipython3",
   "version": "3.9.13"
  }
 },
 "nbformat": 4,
 "nbformat_minor": 5
}
