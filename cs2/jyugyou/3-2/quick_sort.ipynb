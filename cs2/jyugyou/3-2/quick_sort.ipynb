{
 "cells": [
  {
   "cell_type": "code",
   "execution_count": 7,
   "id": "9db72337-b5f7-4c52-b020-12d2ff41982e",
   "metadata": {},
   "outputs": [],
   "source": [
    "def simple_qsort(lst):\n",
    "    if len(lst) <= 1:\n",
    "        return lst\n",
    "    pivot = lst[0]\n",
    "    \n",
    "    lst1 = [x for x in lst if x < pivot]\n",
    "    lst2 = [x for x in lst if x == pivot]\n",
    "    lst3 =[x for x in lst if x > pivot]\n",
    "    return simple_qsort(lst1) + lst2 + simple_qsort (lst3)\n"
   ]
  },
  {
   "cell_type": "code",
   "execution_count": 8,
   "id": "442682f6-0b01-4257-be3a-decd63edab6a",
   "metadata": {},
   "outputs": [
    {
     "data": {
      "text/plain": [
       "[1, 2, 3, 4, 5, 6, 7, 8, 9, 10]"
      ]
     },
     "execution_count": 8,
     "metadata": {},
     "output_type": "execute_result"
    }
   ],
   "source": [
    "simple_qsort([10,2,6,1,3,4,5,8,7,9])"
   ]
  },
  {
   "cell_type": "code",
   "execution_count": 10,
   "id": "be010875-984e-4d0e-a053-4cb9b39f1286",
   "metadata": {},
   "outputs": [
    {
     "name": "stdout",
     "output_type": "stream",
     "text": [
      "179 µs ± 19.2 µs per loop (mean ± std. dev. of 7 runs, 1,000 loops each)\n",
      "403 µs ± 41.6 µs per loop (mean ± std. dev. of 7 runs, 1,000 loops each)\n",
      "569 µs ± 71.3 µs per loop (mean ± std. dev. of 7 runs, 1,000 loops each)\n",
      "758 µs ± 81.1 µs per loop (mean ± std. dev. of 7 runs, 1,000 loops each)\n",
      "1.06 ms ± 77.7 µs per loop (mean ± std. dev. of 7 runs, 1,000 loops each)\n",
      "1.33 ms ± 76.5 µs per loop (mean ± std. dev. of 7 runs, 1,000 loops each)\n",
      "1.41 ms ± 83.7 µs per loop (mean ± std. dev. of 7 runs, 1,000 loops each)\n",
      "1.76 ms ± 361 µs per loop (mean ± std. dev. of 7 runs, 100 loops each)\n",
      "2.19 ms ± 306 µs per loop (mean ± std. dev. of 7 runs, 100 loops each)\n",
      "2.2 ms ± 373 µs per loop (mean ± std. dev. of 7 runs, 100 loops each)\n"
     ]
    }
   ],
   "source": [
    "import matplotlib.pyplot as plt\n",
    "import random\n",
    "for i in range(1,11):\n",
    "    target = random.sample(range(1000000), i*100)\n",
    "    %timeit simple_qsort(target)"
   ]
  },
  {
   "cell_type": "code",
   "execution_count": null,
   "id": "d852c93f-efa8-4b4d-b1f0-7e3237ea576a",
   "metadata": {},
   "outputs": [],
   "source": []
  }
 ],
 "metadata": {
  "kernelspec": {
   "display_name": "Python 3 (ipykernel)",
   "language": "python",
   "name": "python3"
  },
  "language_info": {
   "codemirror_mode": {
    "name": "ipython",
    "version": 3
   },
   "file_extension": ".py",
   "mimetype": "text/x-python",
   "name": "python",
   "nbconvert_exporter": "python",
   "pygments_lexer": "ipython3",
   "version": "3.9.13"
  }
 },
 "nbformat": 4,
 "nbformat_minor": 5
}
