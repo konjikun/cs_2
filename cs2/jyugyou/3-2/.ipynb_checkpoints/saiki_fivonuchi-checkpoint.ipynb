{
 "cells": [
  {
   "cell_type": "code",
   "execution_count": 14,
   "id": "3accf267-6c80-496f-8552-c61d728c101c",
   "metadata": {},
   "outputs": [
    {
     "name": "stdout",
     "output_type": "stream",
     "text": [
      "0.0\n"
     ]
    }
   ],
   "source": [
    "%%time\n",
    "def fib1(n):\n",
    "    if n <= 0:\n",
    "        return 0\n",
    "    if n ==1:\n",
    "        return 1\n",
    "    return fib1(n-1) + fib1(n-2)\n",
    "\n",
    "print(fib1(7))"
   ]
  },
  {
   "cell_type": "code",
   "execution_count": 20,
   "id": "4d220a8c-b60c-4ab7-a381-0d47b96e7a5f",
   "metadata": {},
   "outputs": [
    {
     "name": "stdout",
     "output_type": "stream",
     "text": [
      "CPU times: total: 0 ns\n",
      "Wall time: 0 ns\n"
     ]
    }
   ],
   "source": [
    "%%time\n",
    "def fib2(n):\n",
    "    lst = [0] * (n + 1)\n",
    "    lst[0] = 0\n",
    "    lst[1] = 1\n",
    "    for i in range(2, n+1):\n",
    "        lst[i] = lst[i-1]+lst[1-2]\n",
    "    return lst[n]\n",
    "\n"
   ]
  },
  {
   "cell_type": "code",
   "execution_count": null,
   "id": "3e53cacf-2cd2-4261-8f34-aa983dcd1651",
   "metadata": {},
   "outputs": [],
   "source": [
    "%%time\n",
    "for i in range(1000):\n",
    "    fib2(5)\n"
   ]
  }
 ],
 "metadata": {
  "kernelspec": {
   "display_name": "Python 3 (ipykernel)",
   "language": "python",
   "name": "python3"
  },
  "language_info": {
   "codemirror_mode": {
    "name": "ipython",
    "version": 3
   },
   "file_extension": ".py",
   "mimetype": "text/x-python",
   "name": "python",
   "nbconvert_exporter": "python",
   "pygments_lexer": "ipython3",
   "version": "3.9.13"
  }
 },
 "nbformat": 4,
 "nbformat_minor": 5
}
