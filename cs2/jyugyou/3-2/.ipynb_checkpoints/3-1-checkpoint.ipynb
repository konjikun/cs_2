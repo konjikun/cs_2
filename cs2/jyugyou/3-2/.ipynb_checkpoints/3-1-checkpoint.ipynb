{
 "cells": [
  {
   "cell_type": "code",
   "execution_count": 8,
   "id": "ae75d1b8-d5c8-4d3e-96ca-fb9f289a70b2",
   "metadata": {},
   "outputs": [
    {
     "name": "stdout",
     "output_type": "stream",
     "text": [
      "[8, 5, 3, 2, 0]\n"
     ]
    }
   ],
   "source": [
    "lists = [0,3,5,8,2]\n",
    "lists2 = sorted(lists,reverse=True)\n",
    "print(lists2)"
   ]
  },
  {
   "cell_type": "markdown",
   "id": "fdcb0790-8ec9-4cd0-b9ee-52bb3401b50b",
   "metadata": {},
   "source": [
    "### 1桁基準のsort"
   ]
  },
  {
   "cell_type": "code",
   "execution_count": 20,
   "id": "ef74ca49-02a7-4678-973e-61597081e63e",
   "metadata": {},
   "outputs": [
    {
     "data": {
      "text/plain": [
       "[1, 1011, 23, 456, 789]"
      ]
     },
     "execution_count": 20,
     "metadata": {},
     "output_type": "execute_result"
    }
   ],
   "source": [
    "def func(x):\n",
    "    return x%10\n",
    "sorted([1,23,456,789,1011], key=func)"
   ]
  },
  {
   "cell_type": "markdown",
   "id": "3c5e2381-54a5-4592-b1ef-9e40035d2a62",
   "metadata": {
    "tags": []
   },
   "source": [
    "### 大文字と小文字関係なく"
   ]
  },
  {
   "cell_type": "code",
   "execution_count": 21,
   "id": "fbf4b3e3-e4a9-47b7-b7bd-89233138a21f",
   "metadata": {},
   "outputs": [
    {
     "data": {
      "text/plain": [
       "['A', 'iniad', 'Toyo', 'unibersity']"
      ]
     },
     "execution_count": 21,
     "metadata": {},
     "output_type": "execute_result"
    }
   ],
   "source": [
    "def func2(x):\n",
    "    return x.lower()\n",
    "sorted(['iniad','Toyo','unibersity','A'], key=func2)\n"
   ]
  },
  {
   "cell_type": "markdown",
   "id": "b578704b-1670-4251-abd2-317e134b03c5",
   "metadata": {},
   "source": [
    "### classの比較"
   ]
  },
  {
   "cell_type": "code",
   "execution_count": 25,
   "id": "2ac6f81a-8cab-4488-83ff-a4d274d2a816",
   "metadata": {},
   "outputs": [],
   "source": [
    "class Animal:\n",
    "    def __init__(self, name, speed):\n",
    "        self.name = name\n",
    "        self.speed = speed\n",
    "    \n",
    "    def __lt__(self, other):\n",
    "        return self.speed < other.speed\n"
   ]
  },
  {
   "cell_type": "code",
   "execution_count": 26,
   "id": "7fae4f7c-d8e9-43a8-bc3e-7c8463a82eb8",
   "metadata": {},
   "outputs": [
    {
     "data": {
      "text/plain": [
       "False"
      ]
     },
     "execution_count": 26,
     "metadata": {},
     "output_type": "execute_result"
    }
   ],
   "source": [
    "Animal('Dog', 10) < Animal('Cat',5)"
   ]
  },
  {
   "cell_type": "code",
   "execution_count": 28,
   "id": "f75cf8f4-321a-405a-96a4-983cd7916fdd",
   "metadata": {},
   "outputs": [
    {
     "name": "stdout",
     "output_type": "stream",
     "text": [
      "245 ns ± 10.7 ns per loop (mean ± std. dev. of 7 runs, 10,000,000 loops each)\n",
      "240 ns ± 28.3 ns per loop (mean ± std. dev. of 7 runs, 1,000,000 loops each)\n",
      "239 ns ± 13.2 ns per loop (mean ± std. dev. of 7 runs, 10,000,000 loops each)\n",
      "253 ns ± 17.2 ns per loop (mean ± std. dev. of 7 runs, 10,000,000 loops each)\n",
      "307 ns ± 17.3 ns per loop (mean ± std. dev. of 7 runs, 1,000,000 loops each)\n",
      "267 ns ± 23.3 ns per loop (mean ± std. dev. of 7 runs, 1,000,000 loops each)\n",
      "263 ns ± 31.1 ns per loop (mean ± std. dev. of 7 runs, 1,000,000 loops each)\n",
      "294 ns ± 41.6 ns per loop (mean ± std. dev. of 7 runs, 1,000,000 loops each)\n",
      "285 ns ± 13.2 ns per loop (mean ± std. dev. of 7 runs, 1,000,000 loops each)\n",
      "264 ns ± 14 ns per loop (mean ± std. dev. of 7 runs, 10,000,000 loops each)\n"
     ]
    }
   ],
   "source": [
    "for i in range(10):\n",
    "    %timeit sorted([5,2,3,4,1])"
   ]
  },
  {
   "cell_type": "markdown",
   "id": "7ebfac7f-fee6-4288-a552-101d47c4d1cf",
   "metadata": {},
   "source": [
    "### sortedの時間を図る"
   ]
  },
  {
   "cell_type": "code",
   "execution_count": 30,
   "id": "b5b2fdbc-e2e6-4519-b0e2-4ba7c558b86f",
   "metadata": {},
   "outputs": [],
   "source": [
    "import random\n"
   ]
  },
  {
   "cell_type": "code",
   "execution_count": null,
   "id": "553169da-1aa4-4e82-bff8-7b5c43209b17",
   "metadata": {},
   "outputs": [],
   "source": [
    "for i in range (1,11):\n",
    "    target = random.sample(range(1000000), i * 1000)\n",
    "    %timeit sorted(target)"
   ]
  },
  {
   "cell_type": "raw",
   "id": "7fecceaf-0d26-4961-99c0-ea17dc2b1e1e",
   "metadata": {},
   "source": []
  }
 ],
 "metadata": {
  "kernelspec": {
   "display_name": "Python 3 (ipykernel)",
   "language": "python",
   "name": "python3"
  },
  "language_info": {
   "codemirror_mode": {
    "name": "ipython",
    "version": 3
   },
   "file_extension": ".py",
   "mimetype": "text/x-python",
   "name": "python",
   "nbconvert_exporter": "python",
   "pygments_lexer": "ipython3",
   "version": "3.9.13"
  }
 },
 "nbformat": 4,
 "nbformat_minor": 5
}
