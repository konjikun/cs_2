{
 "cells": [
  {
   "cell_type": "code",
   "execution_count": 1,
   "id": "9ff8d4c7-12cb-45f2-b0dd-4b3888d5b00b",
   "metadata": {},
   "outputs": [],
   "source": [
    "class Node:\n",
    "    def __init__(self, value):\n",
    "        self.value = value\n",
    "        self.left = None\n",
    "        self.right = None\n",
    "\n",
    "    def __str__(self):\n",
    "        return str(self.value)"
   ]
  },
  {
   "cell_type": "code",
   "execution_count": 2,
   "id": "ebedfbf3-bb84-4cbd-bbf1-3601277e6243",
   "metadata": {},
   "outputs": [],
   "source": [
    "top = Node(1)\n",
    "node_l = Node(2)\n",
    "node_r = Node(3)\n",
    "top.left = node_l\n",
    "top.right = node_r"
   ]
  },
  {
   "cell_type": "code",
   "execution_count": 3,
   "id": "757b1dac-328a-4091-a407-5e958d5e32f2",
   "metadata": {},
   "outputs": [],
   "source": [
    "node_l_l = Node(4)\n",
    "node_l_r = Node(5)\n",
    "node_l.left = node_l_l\n",
    "node_l.right = node_l_r\n",
    "\n",
    "node_r_l = Node(6)\n",
    "node_r.left = node_r_l\n",
    "\n",
    "node_l_r_l = Node(7)\n",
    "node_l_r.left = node_l_r_l"
   ]
  },
  {
   "cell_type": "code",
   "execution_count": 4,
   "id": "5f0ecf21-e005-4d2e-a204-e01b64d731b0",
   "metadata": {},
   "outputs": [
    {
     "name": "stdout",
     "output_type": "stream",
     "text": [
      "2\n"
     ]
    }
   ],
   "source": [
    "node = top.left\n",
    "print(node)"
   ]
  },
  {
   "cell_type": "code",
   "execution_count": 5,
   "id": "f66675ec-0502-41d0-86bb-9dfff8b250bc",
   "metadata": {},
   "outputs": [
    {
     "name": "stdout",
     "output_type": "stream",
     "text": [
      "3\n"
     ]
    }
   ],
   "source": [
    "node = top.right\n",
    "print(node)"
   ]
  },
  {
   "cell_type": "code",
   "execution_count": 6,
   "id": "80d2172f-051b-4c9e-84fd-501a6435f9f1",
   "metadata": {},
   "outputs": [
    {
     "name": "stdout",
     "output_type": "stream",
     "text": [
      "6\n"
     ]
    }
   ],
   "source": [
    "node = top.right.left\n",
    "print(node)"
   ]
  },
  {
   "cell_type": "code",
   "execution_count": 7,
   "id": "2e9d55d3-6cbd-4a25-ba5a-1263869b3ffa",
   "metadata": {},
   "outputs": [
    {
     "name": "stdout",
     "output_type": "stream",
     "text": [
      "7\n"
     ]
    }
   ],
   "source": [
    "node = top.left.right.left\n",
    "print(node)"
   ]
  },
  {
   "cell_type": "code",
   "execution_count": 8,
   "id": "6c95fb5f-c6b2-47e9-82c7-2c1e51b535d6",
   "metadata": {},
   "outputs": [],
   "source": [
    "def height(node):\n",
    "    if node.left != None:\n",
    "        left_height = height(node.left) + 1\n",
    "    else:\n",
    "        left_height = 0\n",
    "        \n",
    "    if node.right != None:\n",
    "        right_height = height(node.right) + 1\n",
    "    else:\n",
    "        right_height = 0\n",
    "    \n",
    "    return max(left_height, right_height)"
   ]
  },
  {
   "cell_type": "code",
   "execution_count": 9,
   "id": "160fd5ba-1f01-4072-9454-2cccbde50738",
   "metadata": {},
   "outputs": [
    {
     "data": {
      "text/plain": [
       "3"
      ]
     },
     "execution_count": 9,
     "metadata": {},
     "output_type": "execute_result"
    }
   ],
   "source": [
    "height(top)"
   ]
  },
  {
   "cell_type": "markdown",
   "id": "81cf7847-cf2b-42cb-a3b6-9877f2d78097",
   "metadata": {},
   "source": [
    "### ここから二分木の探索方法"
   ]
  },
  {
   "cell_type": "code",
   "execution_count": 11,
   "id": "51a7f67d-2461-4d3f-b75d-5c795c8ca6dc",
   "metadata": {},
   "outputs": [],
   "source": [
    "def print_preorder(node):\n",
    "    print(node, end=', ')\n",
    "    \n",
    "    if node.left != None:\n",
    "        print_preorder(node.left)\n",
    "        \n",
    "    if node.right != None:\n",
    "        print_preorder(node.right)"
   ]
  },
  {
   "cell_type": "code",
   "execution_count": 12,
   "id": "a46ea9b9-c7be-4087-80e3-b5cc00d0b862",
   "metadata": {},
   "outputs": [
    {
     "name": "stdout",
     "output_type": "stream",
     "text": [
      "1, 2, 4, 5, 7, 3, 6, "
     ]
    }
   ],
   "source": [
    "print_preorder(top)"
   ]
  },
  {
   "cell_type": "code",
   "execution_count": 13,
   "id": "dd65c859-c7ac-40c9-8ebb-a634f966647c",
   "metadata": {},
   "outputs": [],
   "source": [
    "def print_inorder(node):\n",
    "    if node.left != None:\n",
    "        print_inorder(node.left)\n",
    "    print(node, end=', ')\n",
    "    \n",
    "    if node.right != None:\n",
    "        print_inorder(node.right)"
   ]
  },
  {
   "cell_type": "code",
   "execution_count": null,
   "id": "6f1f02ef-7b77-4486-8ada-465720be85a9",
   "metadata": {},
   "outputs": [],
   "source": []
  }
 ],
 "metadata": {
  "kernelspec": {
   "display_name": "Python 3 (ipykernel)",
   "language": "python",
   "name": "python3"
  },
  "language_info": {
   "codemirror_mode": {
    "name": "ipython",
    "version": 3
   },
   "file_extension": ".py",
   "mimetype": "text/x-python",
   "name": "python",
   "nbconvert_exporter": "python",
   "pygments_lexer": "ipython3",
   "version": "3.9.13"
  }
 },
 "nbformat": 4,
 "nbformat_minor": 5
}
