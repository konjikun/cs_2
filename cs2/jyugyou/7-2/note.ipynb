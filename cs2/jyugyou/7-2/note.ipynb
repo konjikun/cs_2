{
 "cells": [
  {
   "cell_type": "markdown",
   "metadata": {},
   "source": [
    "### ハッシュ関数"
   ]
  },
  {
   "cell_type": "code",
   "execution_count": 32,
   "metadata": {},
   "outputs": [],
   "source": [
    "N = 100\n",
    "table = [None] * N\n",
    "\n",
    "def h(x):\n",
    "    return x % N"
   ]
  },
  {
   "cell_type": "markdown",
   "metadata": {},
   "source": [
    "### ハッシュ値追加"
   ]
  },
  {
   "cell_type": "code",
   "execution_count": 33,
   "metadata": {},
   "outputs": [],
   "source": [
    "def add(table, x):\n",
    "    hash_value = h(x)\n",
    "    if table[hash_value] != None:\n",
    "        raise Exception('Hash collision!')\n",
    "    table[hash_value] = x"
   ]
  },
  {
   "cell_type": "code",
   "execution_count": 29,
   "metadata": {},
   "outputs": [
    {
     "data": {
      "text/plain": [
       "[None, 101, None, None, None, None, None, None, None, None]"
      ]
     },
     "execution_count": 29,
     "metadata": {},
     "output_type": "execute_result"
    }
   ],
   "source": [
    "add(table, 101)\n",
    "table"
   ]
  },
  {
   "cell_type": "markdown",
   "metadata": {},
   "source": [
    "### ハッシュ値検索"
   ]
  },
  {
   "cell_type": "code",
   "execution_count": 30,
   "metadata": {},
   "outputs": [],
   "source": [
    "def contains(table, x):\n",
    "    hash_value = h(x)\n",
    "    return table[hash_value] == x"
   ]
  },
  {
   "cell_type": "code",
   "execution_count": 31,
   "metadata": {},
   "outputs": [
    {
     "data": {
      "text/plain": [
       "False"
      ]
     },
     "execution_count": 31,
     "metadata": {},
     "output_type": "execute_result"
    }
   ],
   "source": [
    "contains(table, 201)"
   ]
  },
  {
   "cell_type": "markdown",
   "metadata": {},
   "source": [
    "### hash()はpythonが用意してくれたもの。strでもテーブル作れる"
   ]
  },
  {
   "cell_type": "code",
   "execution_count": 35,
   "metadata": {},
   "outputs": [],
   "source": [
    "N = 100\n",
    "table = [None] * N\n",
    "def h(x):\n",
    "    return hash(x) % N"
   ]
  },
  {
   "cell_type": "code",
   "execution_count": 36,
   "metadata": {},
   "outputs": [],
   "source": [
    "add(table, 'apple')\n",
    "add(table, 'banana')"
   ]
  },
  {
   "cell_type": "code",
   "execution_count": 37,
   "metadata": {},
   "outputs": [
    {
     "data": {
      "text/plain": [
       "True"
      ]
     },
     "execution_count": 37,
     "metadata": {},
     "output_type": "execute_result"
    }
   ],
   "source": [
    "contains(table, 'apple')"
   ]
  },
  {
   "cell_type": "code",
   "execution_count": 19,
   "metadata": {},
   "outputs": [],
   "source": [
    "class Node:\n",
    "    def __init__(self, key, value):\n",
    "        self.key = key\n",
    "        self.value = value"
   ]
  },
  {
   "cell_type": "code",
   "execution_count": 20,
   "metadata": {},
   "outputs": [],
   "source": [
    "dict_table = [None] * N"
   ]
  },
  {
   "cell_type": "markdown",
   "metadata": {},
   "source": [
    "### 辞書の要素追加"
   ]
  },
  {
   "cell_type": "code",
   "execution_count": 21,
   "metadata": {},
   "outputs": [],
   "source": [
    "def put(table, key, value):\n",
    "    hash_value = h(key)\n",
    "    if table[hash_value] != None:\n",
    "        raise Exception('Hash collision!')\n",
    "    table[hash_value] = Node(key, value)"
   ]
  },
  {
   "cell_type": "code",
   "execution_count": 23,
   "metadata": {},
   "outputs": [
    {
     "ename": "Exception",
     "evalue": "Hash collision!",
     "output_type": "error",
     "traceback": [
      "\u001b[1;31m---------------------------------------------------------------------------\u001b[0m",
      "\u001b[1;31mException\u001b[0m                                 Traceback (most recent call last)",
      "\u001b[1;32mセル12 を c:\\Users\\iniad\\Documents\\GitHub\\cs_2\\cs2\\jyugyou\\7-2\\note.ipynb\u001b[0m in \u001b[0;36m<cell line: 1>\u001b[1;34m()\u001b[0m\n\u001b[1;32m----> <a href='vscode-notebook-cell:/c%3A/Users/iniad/Documents/GitHub/cs_2/cs2/jyugyou/7-2/note.ipynb#X14sZmlsZQ%3D%3D?line=0'>1</a>\u001b[0m put(dict_table, \u001b[39m101\u001b[39;49m, \u001b[39m'\u001b[39;49m\u001b[39mo\u001b[39;49m\u001b[39m'\u001b[39;49m)\n\u001b[0;32m      <a href='vscode-notebook-cell:/c%3A/Users/iniad/Documents/GitHub/cs_2/cs2/jyugyou/7-2/note.ipynb#X14sZmlsZQ%3D%3D?line=1'>2</a>\u001b[0m put(dict_table, \u001b[39m1002\u001b[39m, \u001b[39m'\u001b[39m\u001b[39md\u001b[39m\u001b[39m'\u001b[39m)\n\u001b[0;32m      <a href='vscode-notebook-cell:/c%3A/Users/iniad/Documents/GitHub/cs_2/cs2/jyugyou/7-2/note.ipynb#X14sZmlsZQ%3D%3D?line=2'>3</a>\u001b[0m dict_table\n",
      "\u001b[1;32mセル12 を c:\\Users\\iniad\\Documents\\GitHub\\cs_2\\cs2\\jyugyou\\7-2\\note.ipynb\u001b[0m in \u001b[0;36mput\u001b[1;34m(table, key, value)\u001b[0m\n\u001b[0;32m      <a href='vscode-notebook-cell:/c%3A/Users/iniad/Documents/GitHub/cs_2/cs2/jyugyou/7-2/note.ipynb#X14sZmlsZQ%3D%3D?line=1'>2</a>\u001b[0m hash_value \u001b[39m=\u001b[39m h(key)\n\u001b[0;32m      <a href='vscode-notebook-cell:/c%3A/Users/iniad/Documents/GitHub/cs_2/cs2/jyugyou/7-2/note.ipynb#X14sZmlsZQ%3D%3D?line=2'>3</a>\u001b[0m \u001b[39mif\u001b[39;00m table[hash_value] \u001b[39m!=\u001b[39m \u001b[39mNone\u001b[39;00m:\n\u001b[1;32m----> <a href='vscode-notebook-cell:/c%3A/Users/iniad/Documents/GitHub/cs_2/cs2/jyugyou/7-2/note.ipynb#X14sZmlsZQ%3D%3D?line=3'>4</a>\u001b[0m     \u001b[39mraise\u001b[39;00m \u001b[39mException\u001b[39;00m(\u001b[39m'\u001b[39m\u001b[39mHash collision!\u001b[39m\u001b[39m'\u001b[39m)\n\u001b[0;32m      <a href='vscode-notebook-cell:/c%3A/Users/iniad/Documents/GitHub/cs_2/cs2/jyugyou/7-2/note.ipynb#X14sZmlsZQ%3D%3D?line=4'>5</a>\u001b[0m table[hash_value] \u001b[39m=\u001b[39m Node(key, value)\n",
      "\u001b[1;31mException\u001b[0m: Hash collision!"
     ]
    }
   ],
   "source": [
    "put(dict_table, 101, 'o')\n",
    "put(dict_table, 1002, 'd')\n",
    "dict_table"
   ]
  },
  {
   "cell_type": "markdown",
   "metadata": {},
   "source": [
    "### 辞書の要素検索"
   ]
  },
  {
   "cell_type": "code",
   "execution_count": 24,
   "metadata": {},
   "outputs": [],
   "source": [
    "def get(table, key):\n",
    "    hash_value = h(key)\n",
    "    if table[hash_value] != None and table[hash_value].key ==key:\n",
    "        return table[hash_value].value\n",
    "    return None"
   ]
  },
  {
   "cell_type": "code",
   "execution_count": 26,
   "metadata": {},
   "outputs": [
    {
     "data": {
      "text/plain": [
       "'o'"
      ]
     },
     "execution_count": 26,
     "metadata": {},
     "output_type": "execute_result"
    }
   ],
   "source": [
    "get (dict_table, 101)"
   ]
  },
  {
   "cell_type": "markdown",
   "metadata": {},
   "source": [
    "### 衝突回避"
   ]
  },
  {
   "cell_type": "code",
   "execution_count": 38,
   "metadata": {},
   "outputs": [],
   "source": [
    "class Node:\n",
    "    def __init__(self, key, value):\n",
    "        self.key = key\n",
    "        self.value = value\n",
    "        self.next = None"
   ]
  },
  {
   "cell_type": "code",
   "execution_count": 39,
   "metadata": {},
   "outputs": [],
   "source": [
    "dict_table = [None] * N"
   ]
  },
  {
   "cell_type": "markdown",
   "metadata": {},
   "source": [
    "### リンクリストにしてかぶったやつをつなげる"
   ]
  },
  {
   "cell_type": "code",
   "execution_count": 41,
   "metadata": {},
   "outputs": [],
   "source": [
    "def put(table, key, value):\n",
    "    hash_value = h(key)\n",
    "\n",
    "    node = table[hash_value]\n",
    "    while node != None:\n",
    "        if node.key == key:\n",
    "            node.value = value\n",
    "            return\n",
    "        node = node.next\n",
    "    first_node = table[hash_value]\n",
    "    new_node = Node(key, value)\n",
    "    new_node.next = first_node\n",
    "    table[hash_value] = new_node"
   ]
  },
  {
   "cell_type": "markdown",
   "metadata": {},
   "source": [
    "### 検索"
   ]
  },
  {
   "cell_type": "code",
   "execution_count": 42,
   "metadata": {},
   "outputs": [],
   "source": [
    "def get(table, key):\n",
    "    hash_value = h(key)\n",
    "    node = table[hash_value]\n",
    "    while node != None:\n",
    "        if node.key == key:\n",
    "            return node.value\n",
    "        node = node.next\n",
    "    return None"
   ]
  },
  {
   "cell_type": "code",
   "execution_count": 48,
   "metadata": {},
   "outputs": [],
   "source": [
    "import random\n",
    "N = 10000"
   ]
  },
  {
   "cell_type": "code",
   "execution_count": 49,
   "metadata": {},
   "outputs": [
    {
     "name": "stdout",
     "output_type": "stream",
     "text": [
      "258 ns ± 15.6 ns per loop (mean ± std. dev. of 7 runs, 1,000,000 loops each)\n",
      "392 ns ± 31.9 ns per loop (mean ± std. dev. of 7 runs, 1,000,000 loops each)\n",
      "286 ns ± 16.2 ns per loop (mean ± std. dev. of 7 runs, 1,000,000 loops each)\n",
      "356 ns ± 37.8 ns per loop (mean ± std. dev. of 7 runs, 1,000,000 loops each)\n",
      "300 ns ± 34 ns per loop (mean ± std. dev. of 7 runs, 1,000,000 loops each)\n",
      "357 ns ± 17.8 ns per loop (mean ± std. dev. of 7 runs, 1,000,000 loops each)\n",
      "255 ns ± 4.65 ns per loop (mean ± std. dev. of 7 runs, 1,000,000 loops each)\n",
      "311 ns ± 15 ns per loop (mean ± std. dev. of 7 runs, 1,000,000 loops each)\n",
      "430 ns ± 17.2 ns per loop (mean ± std. dev. of 7 runs, 1,000,000 loops each)\n",
      "557 ns ± 40.9 ns per loop (mean ± std. dev. of 7 runs, 1,000,000 loops each)\n"
     ]
    }
   ],
   "source": [
    "def make_dict(n):\n",
    "    result = [None] * N\n",
    "    keys = random.sample(range(1000000), n)\n",
    "    values = random.choices('abvdefghijklmnopqrstuvwxyz', k=n)\n",
    "    for key, value in zip(keys, values):\n",
    "        put(result, key, value)\n",
    "    return result\n",
    "\n",
    "for i in range(1,11):\n",
    "    target = make_dict(i* 1000)\n",
    "    %timeit get(target, 1000000)"
   ]
  },
  {
   "cell_type": "code",
   "execution_count": null,
   "metadata": {},
   "outputs": [],
   "source": []
  }
 ],
 "metadata": {
  "kernelspec": {
   "display_name": "Python 3.9.13 ('cs_2')",
   "language": "python",
   "name": "python3"
  },
  "language_info": {
   "codemirror_mode": {
    "name": "ipython",
    "version": 3
   },
   "file_extension": ".py",
   "mimetype": "text/x-python",
   "name": "python",
   "nbconvert_exporter": "python",
   "pygments_lexer": "ipython3",
   "version": "3.9.13"
  },
  "orig_nbformat": 4,
  "vscode": {
   "interpreter": {
    "hash": "0dd2d40e15f580621b6077d5177c87a5ce5905ce5ba327b2a74590478348e863"
   }
  }
 },
 "nbformat": 4,
 "nbformat_minor": 2
}
