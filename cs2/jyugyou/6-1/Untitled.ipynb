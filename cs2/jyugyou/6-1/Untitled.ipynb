{
 "cells": [
  {
   "cell_type": "code",
   "execution_count": 2,
   "id": "d9fb4bc6-a125-44ee-ac07-d56234553f99",
   "metadata": {},
   "outputs": [],
   "source": [
    "import matplotlib.pyplot as plt\n",
    "import networkx as nx"
   ]
  },
  {
   "cell_type": "code",
   "execution_count": 3,
   "id": "09465fab-e55f-4461-b904-4e946ec88fba",
   "metadata": {},
   "outputs": [],
   "source": [
    "class Node:\n",
    "    def __init__(self, value):\n",
    "        self.value = value\n",
    "        self.traversed = False\n",
    "        self.links = []\n",
    "        \n",
    "    def __str__(self):\n",
    "        return str(self.value)\n",
    "    \n",
    "    def add_link(self, node):\n",
    "        self.links.append(node)\n",
    "        \n",
    "    def adjacent(self, node):\n",
    "        return node in self.links\n",
    "    "
   ]
  },
  {
   "cell_type": "code",
   "execution_count": 4,
   "id": "62f79c21-2547-47ec-a61b-e3d280d3a089",
   "metadata": {},
   "outputs": [],
   "source": [
    "a = Node('a')\n",
    "b = Node('b')\n",
    "c = Node('c')\n",
    "d = Node('d')\n",
    "e = Node('e')\n",
    "f = Node('f')\n",
    "\n",
    "a.add_link(b)\n",
    "a.add_link(c)\n",
    "a.add_link(d)\n",
    "b.add_link(a)\n",
    "c.add_link(f)\n",
    "d.add_link(e)\n",
    "e.add_link(b)\n",
    "e.add_link(d)\n",
    "f.add_link(e)\n",
    "\n",
    "graph = [a, b, c, d, e, f]"
   ]
  },
  {
   "cell_type": "code",
   "execution_count": 5,
   "id": "acf30462-a17e-411c-950b-389de7a1e379",
   "metadata": {},
   "outputs": [
    {
     "data": {
      "text/plain": [
       "True"
      ]
     },
     "execution_count": 5,
     "metadata": {},
     "output_type": "execute_result"
    }
   ],
   "source": [
    "a.adjacent(b)"
   ]
  },
  {
   "cell_type": "code",
   "execution_count": 6,
   "id": "4fc77c92-e271-4f62-b7ad-2e7311390a1e",
   "metadata": {},
   "outputs": [
    {
     "data": {
      "text/plain": [
       "[<__main__.Node at 0x221f4cdac10>]"
      ]
     },
     "execution_count": 6,
     "metadata": {},
     "output_type": "execute_result"
    }
   ],
   "source": [
    "b.links"
   ]
  },
  {
   "cell_type": "code",
   "execution_count": 7,
   "id": "622eec44-e7ee-47e0-81fb-4e89cfcc1f79",
   "metadata": {},
   "outputs": [],
   "source": [
    "def dfs(node):\n",
    "    node.traversed = True\n",
    "    print(node, end=', ')\n",
    "    \n",
    "    for next_node in node.links:\n",
    "        if not next_node.traversed:\n",
    "            dfs(next_node)"
   ]
  },
  {
   "cell_type": "code",
   "execution_count": 8,
   "id": "e6700563-840b-4d29-b326-e3a304725595",
   "metadata": {},
   "outputs": [
    {
     "name": "stdout",
     "output_type": "stream",
     "text": [
      "a, b, c, f, e, d, "
     ]
    }
   ],
   "source": [
    "for node in graph:\n",
    "    node.traversed = False\n",
    "    \n",
    "dfs(a)"
   ]
  },
  {
   "cell_type": "code",
   "execution_count": 9,
   "id": "52114462-fc3e-4ac3-9b6b-282ed196bbac",
   "metadata": {},
   "outputs": [],
   "source": [
    "from collections import deque"
   ]
  },
  {
   "cell_type": "code",
   "execution_count": 10,
   "id": "17aa90e5-db3d-424c-99f4-d0bf87222560",
   "metadata": {},
   "outputs": [],
   "source": [
    "def bfs(node):\n",
    "    q = deque()\n",
    "    \n",
    "    q.append(node)\n",
    "    node.traversed = True"
   ]
  },
  {
   "cell_type": "code",
   "execution_count": null,
   "id": "66f8e48a-c7a4-4544-82dc-6812ad396df8",
   "metadata": {},
   "outputs": [],
   "source": []
  }
 ],
 "metadata": {
  "kernelspec": {
   "display_name": "Python 3 (ipykernel)",
   "language": "python",
   "name": "python3"
  },
  "language_info": {
   "codemirror_mode": {
    "name": "ipython",
    "version": 3
   },
   "file_extension": ".py",
   "mimetype": "text/x-python",
   "name": "python",
   "nbconvert_exporter": "python",
   "pygments_lexer": "ipython3",
   "version": "3.9.13"
  }
 },
 "nbformat": 4,
 "nbformat_minor": 5
}
