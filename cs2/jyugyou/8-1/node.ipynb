{
 "cells": [
  {
   "cell_type": "code",
   "execution_count": 1,
   "metadata": {},
   "outputs": [],
   "source": [
    "class Node:\n",
    "    def __init__(self, value):\n",
    "        self.value = value\n",
    "        self.left = None\n",
    "        self.right = None\n",
    "        \n",
    "    def __str__(self):\n",
    "        return str(self.value)"
   ]
  },
  {
   "cell_type": "code",
   "execution_count": 2,
   "metadata": {},
   "outputs": [],
   "source": [
    "def print_inorder(node):\n",
    "    if node.left != None:\n",
    "        print_inorder(node.left)\n",
    "        \n",
    "    print(node, end=', ')\n",
    "    \n",
    "    if node.right != None:\n",
    "        print_inorder(node.right)"
   ]
  },
  {
   "cell_type": "code",
   "execution_count": 3,
   "metadata": {},
   "outputs": [],
   "source": [
    "def add(node, value):\n",
    "    if node == None:\n",
    "        return Node(value)\n",
    "    \n",
    "    if node.value == value:\n",
    "        raise Exception('Already added.')\n",
    "        \n",
    "    if value < node.value:\n",
    "        node.left = add(node.left, value)\n",
    "        return node\n",
    "    \n",
    "    if value > node.value:\n",
    "        node.right = add(node.right, value)\n",
    "        return node"
   ]
  },
  {
   "cell_type": "code",
   "execution_count": 4,
   "metadata": {},
   "outputs": [],
   "source": [
    "def contains(node, value):\n",
    "    if node == None:\n",
    "        return False\n",
    "    \n",
    "    if node.value == value:\n",
    "        return True\n",
    "    \n",
    "    if value < node.value:\n",
    "        return contains(node.left, value)\n",
    "    \n",
    "    if value > node.value:\n",
    "        return contains(node.right, value)"
   ]
  },
  {
   "cell_type": "code",
   "execution_count": 5,
   "metadata": {},
   "outputs": [],
   "source": [
    "def delete(node, value):\n",
    "    if node == None:\n",
    "        raise Exception('Not added.')\n",
    "        \n",
    "    if node.value == value:\n",
    "        if node.left != None and node.right != None:\n",
    "            (right_node, min_node) = delete_min(node.right)\n",
    "            node.right = right_node\n",
    "            node.value = min_node.value\n",
    "            return node\n",
    "        if node.left != None:\n",
    "            return node.left\n",
    "        if node.right != None:\n",
    "            return node.right\n",
    "        return None\n",
    "    \n",
    "    if value < node.value:\n",
    "        node.left = delete(node.left, value)\n",
    "        return node\n",
    "    \n",
    "    if value > node.value:\n",
    "        node.right = delete(node.right, value)\n",
    "        return node    "
   ]
  },
  {
   "cell_type": "code",
   "execution_count": 6,
   "metadata": {},
   "outputs": [],
   "source": [
    "def delete_min(node):\n",
    "    if node.left != None:\n",
    "        (left_node, min_node) = delete_min(node.left)\n",
    "        node.left = left_node\n",
    "        return (node, min_node)\n",
    "    \n",
    "    return (node.right, node)"
   ]
  },
  {
   "cell_type": "code",
   "execution_count": 29,
   "metadata": {},
   "outputs": [],
   "source": [
    "def find_min(node):\n",
    "    if node.left is not None:\n",
    "        return find_min(node.left)\n",
    "    return node"
   ]
  },
  {
   "cell_type": "code",
   "execution_count": 34,
   "metadata": {},
   "outputs": [],
   "source": [
    "def find_max(node):\n",
    "    if node.right is not None:\n",
    "        return find_max(node.right)\n",
    "    return node"
   ]
  },
  {
   "cell_type": "code",
   "execution_count": 35,
   "metadata": {},
   "outputs": [
    {
     "name": "stdout",
     "output_type": "stream",
     "text": [
      "1, 2, 3, 5, 8, 10, "
     ]
    }
   ],
   "source": [
    "root = None\n",
    "root = add(root, 3)\n",
    "root = add(root, 5)\n",
    "root = add(root, 2)\n",
    "root = add(root, 1)\n",
    "root = add(root, 10)\n",
    "root = add(root, 8)\n",
    "\n",
    "print_inorder(root)"
   ]
  },
  {
   "cell_type": "code",
   "execution_count": 36,
   "metadata": {},
   "outputs": [
    {
     "name": "stdout",
     "output_type": "stream",
     "text": [
      "1, 2, 3, 4, 5, 8, 9, 10, "
     ]
    }
   ],
   "source": [
    "root = add(root, 9)\n",
    "root = add(root, 4)\n",
    "\n",
    "print_inorder(root)"
   ]
  },
  {
   "cell_type": "code",
   "execution_count": 37,
   "metadata": {},
   "outputs": [
    {
     "name": "stdout",
     "output_type": "stream",
     "text": [
      "2\n",
      "10\n"
     ]
    }
   ],
   "source": [
    "print(root.left)\n",
    "print(find_max(root))"
   ]
  },
  {
   "cell_type": "code",
   "execution_count": 39,
   "metadata": {},
   "outputs": [
    {
     "name": "stdout",
     "output_type": "stream",
     "text": [
      "1\n"
     ]
    }
   ],
   "source": [
    "print(find_min(root))"
   ]
  },
  {
   "cell_type": "code",
   "execution_count": null,
   "metadata": {},
   "outputs": [],
   "source": []
  }
 ],
 "metadata": {
  "kernelspec": {
   "display_name": "Python 3.9.13 ('cs_2')",
   "language": "python",
   "name": "python3"
  },
  "language_info": {
   "codemirror_mode": {
    "name": "ipython",
    "version": 3
   },
   "file_extension": ".py",
   "mimetype": "text/x-python",
   "name": "python",
   "nbconvert_exporter": "python",
   "pygments_lexer": "ipython3",
   "version": "3.9.13"
  },
  "orig_nbformat": 4,
  "vscode": {
   "interpreter": {
    "hash": "0dd2d40e15f580621b6077d5177c87a5ce5905ce5ba327b2a74590478348e863"
   }
  }
 },
 "nbformat": 4,
 "nbformat_minor": 2
}
